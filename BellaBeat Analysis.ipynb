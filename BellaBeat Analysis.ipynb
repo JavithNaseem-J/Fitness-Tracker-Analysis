{
 "cells": [
  {
   "cell_type": "markdown",
   "metadata": {},
   "source": [
    "Import Necessary Libraries"
   ]
  },
  {
   "cell_type": "code",
   "execution_count": 1,
   "metadata": {},
   "outputs": [],
   "source": [
    "import pandas as pd\n",
    "import numpy as np\n",
    "import matplotlib.pyplot as mlt\n",
    "import seaborn as sn\n",
    "import plotly.express as px\n",
    "import datetime as dt\n",
    "import warnings\n",
    "warnings.filterwarnings('ignore')"
   ]
  },
  {
   "cell_type": "markdown",
   "metadata": {},
   "source": [
    "Loading Datasets"
   ]
  },
  {
   "cell_type": "code",
   "execution_count": 2,
   "metadata": {},
   "outputs": [],
   "source": [
    "daily_activity = pd.read_csv(r\"BellaBeat\\dailyActivity_merged.csv\")\n",
    "daily_calories = pd.read_csv(r\"BellaBeat\\dailyCalories_merged.csv\")\n",
    "daily_intensities = pd.read_csv(r\"BellaBeat\\dailyIntensities_merged.csv\")\n",
    "daily_steps = pd.read_csv(r\"BellaBeat\\dailySteps_merged.csv\")\n",
    "hourly_calories = pd.read_csv(r\"BellaBeat\\hourlyCalories_merged.csv\")\n",
    "hourly_steps = pd.read_csv(r\"BellaBeat\\hourlySteps_merged.csv\")\n",
    "daily_sleep = pd.read_csv(r\"BellaBeat\\sleepDay_merged.csv\")"
   ]
  },
  {
   "cell_type": "markdown",
   "metadata": {},
   "source": [
    "Data Exploration"
   ]
  },
  {
   "cell_type": "code",
   "execution_count": 3,
   "metadata": {},
   "outputs": [
    {
     "name": "stdout",
     "output_type": "stream",
     "text": [
      "daily_activity: (940, 15)\n",
      "daily_calories: (940, 3)\n",
      "daily_intensities: (940, 10)\n",
      "daily_steps: (940, 3)\n",
      "daily_sleep: (413, 5)\n",
      "hourly_calories: (22099, 3)\n",
      "hourly_steps: (22099, 3)\n"
     ]
    }
   ],
   "source": [
    "#Shape of the each Dataset\n",
    "df = [\n",
    "    (\"daily_activity\", daily_activity),\n",
    "    (\"daily_calories\", daily_calories),\n",
    "    (\"daily_intensities\", daily_intensities),\n",
    "    (\"daily_steps\", daily_steps),\n",
    "    (\"daily_sleep\", daily_sleep),\n",
    "    (\"hourly_calories\",hourly_calories),\n",
    "    (\"hourly_steps\",hourly_steps)\n",
    "]\n",
    "for name,datasets in df :\n",
    "    print(f\"{name}: {datasets.shape}\" )"
   ]
  },
  {
   "cell_type": "code",
   "execution_count": 4,
   "metadata": {},
   "outputs": [
    {
     "name": "stdout",
     "output_type": "stream",
     "text": [
      "<class 'pandas.core.frame.DataFrame'>\n",
      "RangeIndex: 940 entries, 0 to 939\n",
      "Data columns (total 15 columns):\n",
      " #   Column                    Non-Null Count  Dtype  \n",
      "---  ------                    --------------  -----  \n",
      " 0   Id                        940 non-null    int64  \n",
      " 1   ActivityDate              940 non-null    object \n",
      " 2   TotalSteps                940 non-null    int64  \n",
      " 3   TotalDistance             940 non-null    float64\n",
      " 4   TrackerDistance           940 non-null    float64\n",
      " 5   LoggedActivitiesDistance  940 non-null    float64\n",
      " 6   VeryActiveDistance        940 non-null    float64\n",
      " 7   ModeratelyActiveDistance  940 non-null    float64\n",
      " 8   LightActiveDistance       940 non-null    float64\n",
      " 9   SedentaryActiveDistance   940 non-null    float64\n",
      " 10  VeryActiveMinutes         940 non-null    int64  \n",
      " 11  FairlyActiveMinutes       940 non-null    int64  \n",
      " 12  LightlyActiveMinutes      940 non-null    int64  \n",
      " 13  SedentaryMinutes          940 non-null    int64  \n",
      " 14  Calories                  940 non-null    int64  \n",
      "dtypes: float64(7), int64(7), object(1)\n",
      "memory usage: 110.3+ KB\n",
      "daily_activity: None\n",
      "==================================================\n",
      "<class 'pandas.core.frame.DataFrame'>\n",
      "RangeIndex: 940 entries, 0 to 939\n",
      "Data columns (total 3 columns):\n",
      " #   Column       Non-Null Count  Dtype \n",
      "---  ------       --------------  ----- \n",
      " 0   Id           940 non-null    int64 \n",
      " 1   ActivityDay  940 non-null    object\n",
      " 2   Calories     940 non-null    int64 \n",
      "dtypes: int64(2), object(1)\n",
      "memory usage: 22.2+ KB\n",
      "daily_calories: None\n",
      "==================================================\n",
      "<class 'pandas.core.frame.DataFrame'>\n",
      "RangeIndex: 940 entries, 0 to 939\n",
      "Data columns (total 10 columns):\n",
      " #   Column                    Non-Null Count  Dtype  \n",
      "---  ------                    --------------  -----  \n",
      " 0   Id                        940 non-null    int64  \n",
      " 1   ActivityDay               940 non-null    object \n",
      " 2   SedentaryMinutes          940 non-null    int64  \n",
      " 3   LightlyActiveMinutes      940 non-null    int64  \n",
      " 4   FairlyActiveMinutes       940 non-null    int64  \n",
      " 5   VeryActiveMinutes         940 non-null    int64  \n",
      " 6   SedentaryActiveDistance   940 non-null    float64\n",
      " 7   LightActiveDistance       940 non-null    float64\n",
      " 8   ModeratelyActiveDistance  940 non-null    float64\n",
      " 9   VeryActiveDistance        940 non-null    float64\n",
      "dtypes: float64(4), int64(5), object(1)\n",
      "memory usage: 73.6+ KB\n",
      "daily_intensities: None\n",
      "==================================================\n",
      "<class 'pandas.core.frame.DataFrame'>\n",
      "RangeIndex: 940 entries, 0 to 939\n",
      "Data columns (total 3 columns):\n",
      " #   Column       Non-Null Count  Dtype \n",
      "---  ------       --------------  ----- \n",
      " 0   Id           940 non-null    int64 \n",
      " 1   ActivityDay  940 non-null    object\n",
      " 2   StepTotal    940 non-null    int64 \n",
      "dtypes: int64(2), object(1)\n",
      "memory usage: 22.2+ KB\n",
      "daily_steps: None\n",
      "==================================================\n",
      "<class 'pandas.core.frame.DataFrame'>\n",
      "RangeIndex: 413 entries, 0 to 412\n",
      "Data columns (total 5 columns):\n",
      " #   Column              Non-Null Count  Dtype \n",
      "---  ------              --------------  ----- \n",
      " 0   Id                  413 non-null    int64 \n",
      " 1   SleepDay            413 non-null    object\n",
      " 2   TotalSleepRecords   413 non-null    int64 \n",
      " 3   TotalMinutesAsleep  413 non-null    int64 \n",
      " 4   TotalTimeInBed      413 non-null    int64 \n",
      "dtypes: int64(4), object(1)\n",
      "memory usage: 16.3+ KB\n",
      "daily_sleep: None\n",
      "==================================================\n",
      "<class 'pandas.core.frame.DataFrame'>\n",
      "RangeIndex: 22099 entries, 0 to 22098\n",
      "Data columns (total 3 columns):\n",
      " #   Column        Non-Null Count  Dtype \n",
      "---  ------        --------------  ----- \n",
      " 0   Id            22099 non-null  int64 \n",
      " 1   ActivityHour  22099 non-null  object\n",
      " 2   Calories      22099 non-null  int64 \n",
      "dtypes: int64(2), object(1)\n",
      "memory usage: 518.1+ KB\n",
      "hourly_calories: None\n",
      "==================================================\n",
      "<class 'pandas.core.frame.DataFrame'>\n",
      "RangeIndex: 22099 entries, 0 to 22098\n",
      "Data columns (total 3 columns):\n",
      " #   Column        Non-Null Count  Dtype \n",
      "---  ------        --------------  ----- \n",
      " 0   Id            22099 non-null  int64 \n",
      " 1   ActivityHour  22099 non-null  object\n",
      " 2   StepTotal     22099 non-null  int64 \n",
      "dtypes: int64(2), object(1)\n",
      "memory usage: 518.1+ KB\n",
      "hourly_steps: None\n",
      "==================================================\n"
     ]
    }
   ],
   "source": [
    "df = [\n",
    "    (\"daily_activity\", daily_activity),\n",
    "    (\"daily_calories\", daily_calories),\n",
    "    (\"daily_intensities\", daily_intensities),\n",
    "    (\"daily_steps\", daily_steps),\n",
    "    (\"daily_sleep\", daily_sleep),\n",
    "    (\"hourly_calories\",hourly_calories),\n",
    "    (\"hourly_steps\",hourly_steps)\n",
    "]\n",
    "for name,datasets in df :\n",
    "    print(f\"{name}: {datasets.info()}\" )\n",
    "    print(\"=\"*50)"
   ]
  },
  {
   "cell_type": "markdown",
   "metadata": {},
   "source": [
    "EDA:"
   ]
  },
  {
   "cell_type": "code",
   "execution_count": 5,
   "metadata": {},
   "outputs": [
    {
     "data": {
      "text/html": [
       "<div>\n",
       "<style scoped>\n",
       "    .dataframe tbody tr th:only-of-type {\n",
       "        vertical-align: middle;\n",
       "    }\n",
       "\n",
       "    .dataframe tbody tr th {\n",
       "        vertical-align: top;\n",
       "    }\n",
       "\n",
       "    .dataframe thead th {\n",
       "        text-align: right;\n",
       "    }\n",
       "</style>\n",
       "<table border=\"1\" class=\"dataframe\">\n",
       "  <thead>\n",
       "    <tr style=\"text-align: right;\">\n",
       "      <th></th>\n",
       "      <th>Id</th>\n",
       "      <th>TotalSteps</th>\n",
       "      <th>TotalDistance</th>\n",
       "      <th>TrackerDistance</th>\n",
       "      <th>LoggedActivitiesDistance</th>\n",
       "      <th>VeryActiveDistance</th>\n",
       "      <th>ModeratelyActiveDistance</th>\n",
       "      <th>LightActiveDistance</th>\n",
       "      <th>SedentaryActiveDistance</th>\n",
       "      <th>VeryActiveMinutes</th>\n",
       "      <th>FairlyActiveMinutes</th>\n",
       "      <th>LightlyActiveMinutes</th>\n",
       "      <th>SedentaryMinutes</th>\n",
       "      <th>Calories</th>\n",
       "    </tr>\n",
       "  </thead>\n",
       "  <tbody>\n",
       "    <tr>\n",
       "      <th>count</th>\n",
       "      <td>9.400000e+02</td>\n",
       "      <td>940.000000</td>\n",
       "      <td>940.000000</td>\n",
       "      <td>940.000000</td>\n",
       "      <td>940.000000</td>\n",
       "      <td>940.000000</td>\n",
       "      <td>940.000000</td>\n",
       "      <td>940.000000</td>\n",
       "      <td>940.000000</td>\n",
       "      <td>940.000000</td>\n",
       "      <td>940.000000</td>\n",
       "      <td>940.000000</td>\n",
       "      <td>940.000000</td>\n",
       "      <td>940.000000</td>\n",
       "    </tr>\n",
       "    <tr>\n",
       "      <th>mean</th>\n",
       "      <td>4.855407e+09</td>\n",
       "      <td>7637.910638</td>\n",
       "      <td>5.489702</td>\n",
       "      <td>5.475351</td>\n",
       "      <td>0.108171</td>\n",
       "      <td>1.502681</td>\n",
       "      <td>0.567543</td>\n",
       "      <td>3.340819</td>\n",
       "      <td>0.001606</td>\n",
       "      <td>21.164894</td>\n",
       "      <td>13.564894</td>\n",
       "      <td>192.812766</td>\n",
       "      <td>991.210638</td>\n",
       "      <td>2303.609574</td>\n",
       "    </tr>\n",
       "    <tr>\n",
       "      <th>std</th>\n",
       "      <td>2.424805e+09</td>\n",
       "      <td>5087.150742</td>\n",
       "      <td>3.924606</td>\n",
       "      <td>3.907276</td>\n",
       "      <td>0.619897</td>\n",
       "      <td>2.658941</td>\n",
       "      <td>0.883580</td>\n",
       "      <td>2.040655</td>\n",
       "      <td>0.007346</td>\n",
       "      <td>32.844803</td>\n",
       "      <td>19.987404</td>\n",
       "      <td>109.174700</td>\n",
       "      <td>301.267437</td>\n",
       "      <td>718.166862</td>\n",
       "    </tr>\n",
       "    <tr>\n",
       "      <th>min</th>\n",
       "      <td>1.503960e+09</td>\n",
       "      <td>0.000000</td>\n",
       "      <td>0.000000</td>\n",
       "      <td>0.000000</td>\n",
       "      <td>0.000000</td>\n",
       "      <td>0.000000</td>\n",
       "      <td>0.000000</td>\n",
       "      <td>0.000000</td>\n",
       "      <td>0.000000</td>\n",
       "      <td>0.000000</td>\n",
       "      <td>0.000000</td>\n",
       "      <td>0.000000</td>\n",
       "      <td>0.000000</td>\n",
       "      <td>0.000000</td>\n",
       "    </tr>\n",
       "    <tr>\n",
       "      <th>25%</th>\n",
       "      <td>2.320127e+09</td>\n",
       "      <td>3789.750000</td>\n",
       "      <td>2.620000</td>\n",
       "      <td>2.620000</td>\n",
       "      <td>0.000000</td>\n",
       "      <td>0.000000</td>\n",
       "      <td>0.000000</td>\n",
       "      <td>1.945000</td>\n",
       "      <td>0.000000</td>\n",
       "      <td>0.000000</td>\n",
       "      <td>0.000000</td>\n",
       "      <td>127.000000</td>\n",
       "      <td>729.750000</td>\n",
       "      <td>1828.500000</td>\n",
       "    </tr>\n",
       "    <tr>\n",
       "      <th>50%</th>\n",
       "      <td>4.445115e+09</td>\n",
       "      <td>7405.500000</td>\n",
       "      <td>5.245000</td>\n",
       "      <td>5.245000</td>\n",
       "      <td>0.000000</td>\n",
       "      <td>0.210000</td>\n",
       "      <td>0.240000</td>\n",
       "      <td>3.365000</td>\n",
       "      <td>0.000000</td>\n",
       "      <td>4.000000</td>\n",
       "      <td>6.000000</td>\n",
       "      <td>199.000000</td>\n",
       "      <td>1057.500000</td>\n",
       "      <td>2134.000000</td>\n",
       "    </tr>\n",
       "    <tr>\n",
       "      <th>75%</th>\n",
       "      <td>6.962181e+09</td>\n",
       "      <td>10727.000000</td>\n",
       "      <td>7.712500</td>\n",
       "      <td>7.710000</td>\n",
       "      <td>0.000000</td>\n",
       "      <td>2.052500</td>\n",
       "      <td>0.800000</td>\n",
       "      <td>4.782500</td>\n",
       "      <td>0.000000</td>\n",
       "      <td>32.000000</td>\n",
       "      <td>19.000000</td>\n",
       "      <td>264.000000</td>\n",
       "      <td>1229.500000</td>\n",
       "      <td>2793.250000</td>\n",
       "    </tr>\n",
       "    <tr>\n",
       "      <th>max</th>\n",
       "      <td>8.877689e+09</td>\n",
       "      <td>36019.000000</td>\n",
       "      <td>28.030001</td>\n",
       "      <td>28.030001</td>\n",
       "      <td>4.942142</td>\n",
       "      <td>21.920000</td>\n",
       "      <td>6.480000</td>\n",
       "      <td>10.710000</td>\n",
       "      <td>0.110000</td>\n",
       "      <td>210.000000</td>\n",
       "      <td>143.000000</td>\n",
       "      <td>518.000000</td>\n",
       "      <td>1440.000000</td>\n",
       "      <td>4900.000000</td>\n",
       "    </tr>\n",
       "  </tbody>\n",
       "</table>\n",
       "</div>"
      ],
      "text/plain": [
       "                 Id    TotalSteps  TotalDistance  TrackerDistance  \\\n",
       "count  9.400000e+02    940.000000     940.000000       940.000000   \n",
       "mean   4.855407e+09   7637.910638       5.489702         5.475351   \n",
       "std    2.424805e+09   5087.150742       3.924606         3.907276   \n",
       "min    1.503960e+09      0.000000       0.000000         0.000000   \n",
       "25%    2.320127e+09   3789.750000       2.620000         2.620000   \n",
       "50%    4.445115e+09   7405.500000       5.245000         5.245000   \n",
       "75%    6.962181e+09  10727.000000       7.712500         7.710000   \n",
       "max    8.877689e+09  36019.000000      28.030001        28.030001   \n",
       "\n",
       "       LoggedActivitiesDistance  VeryActiveDistance  ModeratelyActiveDistance  \\\n",
       "count                940.000000          940.000000                940.000000   \n",
       "mean                   0.108171            1.502681                  0.567543   \n",
       "std                    0.619897            2.658941                  0.883580   \n",
       "min                    0.000000            0.000000                  0.000000   \n",
       "25%                    0.000000            0.000000                  0.000000   \n",
       "50%                    0.000000            0.210000                  0.240000   \n",
       "75%                    0.000000            2.052500                  0.800000   \n",
       "max                    4.942142           21.920000                  6.480000   \n",
       "\n",
       "       LightActiveDistance  SedentaryActiveDistance  VeryActiveMinutes  \\\n",
       "count           940.000000               940.000000         940.000000   \n",
       "mean              3.340819                 0.001606          21.164894   \n",
       "std               2.040655                 0.007346          32.844803   \n",
       "min               0.000000                 0.000000           0.000000   \n",
       "25%               1.945000                 0.000000           0.000000   \n",
       "50%               3.365000                 0.000000           4.000000   \n",
       "75%               4.782500                 0.000000          32.000000   \n",
       "max              10.710000                 0.110000         210.000000   \n",
       "\n",
       "       FairlyActiveMinutes  LightlyActiveMinutes  SedentaryMinutes  \\\n",
       "count           940.000000            940.000000        940.000000   \n",
       "mean             13.564894            192.812766        991.210638   \n",
       "std              19.987404            109.174700        301.267437   \n",
       "min               0.000000              0.000000          0.000000   \n",
       "25%               0.000000            127.000000        729.750000   \n",
       "50%               6.000000            199.000000       1057.500000   \n",
       "75%              19.000000            264.000000       1229.500000   \n",
       "max             143.000000            518.000000       1440.000000   \n",
       "\n",
       "          Calories  \n",
       "count   940.000000  \n",
       "mean   2303.609574  \n",
       "std     718.166862  \n",
       "min       0.000000  \n",
       "25%    1828.500000  \n",
       "50%    2134.000000  \n",
       "75%    2793.250000  \n",
       "max    4900.000000  "
      ]
     },
     "execution_count": 5,
     "metadata": {},
     "output_type": "execute_result"
    }
   ],
   "source": [
    "daily_activity.describe()"
   ]
  },
  {
   "cell_type": "code",
   "execution_count": 6,
   "metadata": {},
   "outputs": [
    {
     "data": {
      "text/html": [
       "<div>\n",
       "<style scoped>\n",
       "    .dataframe tbody tr th:only-of-type {\n",
       "        vertical-align: middle;\n",
       "    }\n",
       "\n",
       "    .dataframe tbody tr th {\n",
       "        vertical-align: top;\n",
       "    }\n",
       "\n",
       "    .dataframe thead th {\n",
       "        text-align: right;\n",
       "    }\n",
       "</style>\n",
       "<table border=\"1\" class=\"dataframe\">\n",
       "  <thead>\n",
       "    <tr style=\"text-align: right;\">\n",
       "      <th></th>\n",
       "      <th>Id</th>\n",
       "      <th>Calories</th>\n",
       "    </tr>\n",
       "  </thead>\n",
       "  <tbody>\n",
       "    <tr>\n",
       "      <th>count</th>\n",
       "      <td>9.400000e+02</td>\n",
       "      <td>940.000000</td>\n",
       "    </tr>\n",
       "    <tr>\n",
       "      <th>mean</th>\n",
       "      <td>4.855407e+09</td>\n",
       "      <td>2303.609574</td>\n",
       "    </tr>\n",
       "    <tr>\n",
       "      <th>std</th>\n",
       "      <td>2.424805e+09</td>\n",
       "      <td>718.166862</td>\n",
       "    </tr>\n",
       "    <tr>\n",
       "      <th>min</th>\n",
       "      <td>1.503960e+09</td>\n",
       "      <td>0.000000</td>\n",
       "    </tr>\n",
       "    <tr>\n",
       "      <th>25%</th>\n",
       "      <td>2.320127e+09</td>\n",
       "      <td>1828.500000</td>\n",
       "    </tr>\n",
       "    <tr>\n",
       "      <th>50%</th>\n",
       "      <td>4.445115e+09</td>\n",
       "      <td>2134.000000</td>\n",
       "    </tr>\n",
       "    <tr>\n",
       "      <th>75%</th>\n",
       "      <td>6.962181e+09</td>\n",
       "      <td>2793.250000</td>\n",
       "    </tr>\n",
       "    <tr>\n",
       "      <th>max</th>\n",
       "      <td>8.877689e+09</td>\n",
       "      <td>4900.000000</td>\n",
       "    </tr>\n",
       "  </tbody>\n",
       "</table>\n",
       "</div>"
      ],
      "text/plain": [
       "                 Id     Calories\n",
       "count  9.400000e+02   940.000000\n",
       "mean   4.855407e+09  2303.609574\n",
       "std    2.424805e+09   718.166862\n",
       "min    1.503960e+09     0.000000\n",
       "25%    2.320127e+09  1828.500000\n",
       "50%    4.445115e+09  2134.000000\n",
       "75%    6.962181e+09  2793.250000\n",
       "max    8.877689e+09  4900.000000"
      ]
     },
     "execution_count": 6,
     "metadata": {},
     "output_type": "execute_result"
    }
   ],
   "source": [
    "daily_calories.describe()"
   ]
  },
  {
   "cell_type": "code",
   "execution_count": 7,
   "metadata": {},
   "outputs": [
    {
     "data": {
      "text/html": [
       "<div>\n",
       "<style scoped>\n",
       "    .dataframe tbody tr th:only-of-type {\n",
       "        vertical-align: middle;\n",
       "    }\n",
       "\n",
       "    .dataframe tbody tr th {\n",
       "        vertical-align: top;\n",
       "    }\n",
       "\n",
       "    .dataframe thead th {\n",
       "        text-align: right;\n",
       "    }\n",
       "</style>\n",
       "<table border=\"1\" class=\"dataframe\">\n",
       "  <thead>\n",
       "    <tr style=\"text-align: right;\">\n",
       "      <th></th>\n",
       "      <th>Id</th>\n",
       "      <th>SedentaryMinutes</th>\n",
       "      <th>LightlyActiveMinutes</th>\n",
       "      <th>FairlyActiveMinutes</th>\n",
       "      <th>VeryActiveMinutes</th>\n",
       "      <th>SedentaryActiveDistance</th>\n",
       "      <th>LightActiveDistance</th>\n",
       "      <th>ModeratelyActiveDistance</th>\n",
       "      <th>VeryActiveDistance</th>\n",
       "    </tr>\n",
       "  </thead>\n",
       "  <tbody>\n",
       "    <tr>\n",
       "      <th>count</th>\n",
       "      <td>9.400000e+02</td>\n",
       "      <td>940.000000</td>\n",
       "      <td>940.000000</td>\n",
       "      <td>940.000000</td>\n",
       "      <td>940.000000</td>\n",
       "      <td>940.000000</td>\n",
       "      <td>940.000000</td>\n",
       "      <td>940.000000</td>\n",
       "      <td>940.000000</td>\n",
       "    </tr>\n",
       "    <tr>\n",
       "      <th>mean</th>\n",
       "      <td>4.855407e+09</td>\n",
       "      <td>991.210638</td>\n",
       "      <td>192.812766</td>\n",
       "      <td>13.564894</td>\n",
       "      <td>21.164894</td>\n",
       "      <td>0.001606</td>\n",
       "      <td>3.340819</td>\n",
       "      <td>0.567543</td>\n",
       "      <td>1.502681</td>\n",
       "    </tr>\n",
       "    <tr>\n",
       "      <th>std</th>\n",
       "      <td>2.424805e+09</td>\n",
       "      <td>301.267437</td>\n",
       "      <td>109.174700</td>\n",
       "      <td>19.987404</td>\n",
       "      <td>32.844803</td>\n",
       "      <td>0.007346</td>\n",
       "      <td>2.040655</td>\n",
       "      <td>0.883580</td>\n",
       "      <td>2.658941</td>\n",
       "    </tr>\n",
       "    <tr>\n",
       "      <th>min</th>\n",
       "      <td>1.503960e+09</td>\n",
       "      <td>0.000000</td>\n",
       "      <td>0.000000</td>\n",
       "      <td>0.000000</td>\n",
       "      <td>0.000000</td>\n",
       "      <td>0.000000</td>\n",
       "      <td>0.000000</td>\n",
       "      <td>0.000000</td>\n",
       "      <td>0.000000</td>\n",
       "    </tr>\n",
       "    <tr>\n",
       "      <th>25%</th>\n",
       "      <td>2.320127e+09</td>\n",
       "      <td>729.750000</td>\n",
       "      <td>127.000000</td>\n",
       "      <td>0.000000</td>\n",
       "      <td>0.000000</td>\n",
       "      <td>0.000000</td>\n",
       "      <td>1.945000</td>\n",
       "      <td>0.000000</td>\n",
       "      <td>0.000000</td>\n",
       "    </tr>\n",
       "    <tr>\n",
       "      <th>50%</th>\n",
       "      <td>4.445115e+09</td>\n",
       "      <td>1057.500000</td>\n",
       "      <td>199.000000</td>\n",
       "      <td>6.000000</td>\n",
       "      <td>4.000000</td>\n",
       "      <td>0.000000</td>\n",
       "      <td>3.365000</td>\n",
       "      <td>0.240000</td>\n",
       "      <td>0.210000</td>\n",
       "    </tr>\n",
       "    <tr>\n",
       "      <th>75%</th>\n",
       "      <td>6.962181e+09</td>\n",
       "      <td>1229.500000</td>\n",
       "      <td>264.000000</td>\n",
       "      <td>19.000000</td>\n",
       "      <td>32.000000</td>\n",
       "      <td>0.000000</td>\n",
       "      <td>4.782500</td>\n",
       "      <td>0.800000</td>\n",
       "      <td>2.052500</td>\n",
       "    </tr>\n",
       "    <tr>\n",
       "      <th>max</th>\n",
       "      <td>8.877689e+09</td>\n",
       "      <td>1440.000000</td>\n",
       "      <td>518.000000</td>\n",
       "      <td>143.000000</td>\n",
       "      <td>210.000000</td>\n",
       "      <td>0.110000</td>\n",
       "      <td>10.710000</td>\n",
       "      <td>6.480000</td>\n",
       "      <td>21.920000</td>\n",
       "    </tr>\n",
       "  </tbody>\n",
       "</table>\n",
       "</div>"
      ],
      "text/plain": [
       "                 Id  SedentaryMinutes  LightlyActiveMinutes  \\\n",
       "count  9.400000e+02        940.000000            940.000000   \n",
       "mean   4.855407e+09        991.210638            192.812766   \n",
       "std    2.424805e+09        301.267437            109.174700   \n",
       "min    1.503960e+09          0.000000              0.000000   \n",
       "25%    2.320127e+09        729.750000            127.000000   \n",
       "50%    4.445115e+09       1057.500000            199.000000   \n",
       "75%    6.962181e+09       1229.500000            264.000000   \n",
       "max    8.877689e+09       1440.000000            518.000000   \n",
       "\n",
       "       FairlyActiveMinutes  VeryActiveMinutes  SedentaryActiveDistance  \\\n",
       "count           940.000000         940.000000               940.000000   \n",
       "mean             13.564894          21.164894                 0.001606   \n",
       "std              19.987404          32.844803                 0.007346   \n",
       "min               0.000000           0.000000                 0.000000   \n",
       "25%               0.000000           0.000000                 0.000000   \n",
       "50%               6.000000           4.000000                 0.000000   \n",
       "75%              19.000000          32.000000                 0.000000   \n",
       "max             143.000000         210.000000                 0.110000   \n",
       "\n",
       "       LightActiveDistance  ModeratelyActiveDistance  VeryActiveDistance  \n",
       "count           940.000000                940.000000          940.000000  \n",
       "mean              3.340819                  0.567543            1.502681  \n",
       "std               2.040655                  0.883580            2.658941  \n",
       "min               0.000000                  0.000000            0.000000  \n",
       "25%               1.945000                  0.000000            0.000000  \n",
       "50%               3.365000                  0.240000            0.210000  \n",
       "75%               4.782500                  0.800000            2.052500  \n",
       "max              10.710000                  6.480000           21.920000  "
      ]
     },
     "execution_count": 7,
     "metadata": {},
     "output_type": "execute_result"
    }
   ],
   "source": [
    "daily_intensities.describe()"
   ]
  },
  {
   "cell_type": "code",
   "execution_count": 8,
   "metadata": {},
   "outputs": [
    {
     "data": {
      "text/html": [
       "<div>\n",
       "<style scoped>\n",
       "    .dataframe tbody tr th:only-of-type {\n",
       "        vertical-align: middle;\n",
       "    }\n",
       "\n",
       "    .dataframe tbody tr th {\n",
       "        vertical-align: top;\n",
       "    }\n",
       "\n",
       "    .dataframe thead th {\n",
       "        text-align: right;\n",
       "    }\n",
       "</style>\n",
       "<table border=\"1\" class=\"dataframe\">\n",
       "  <thead>\n",
       "    <tr style=\"text-align: right;\">\n",
       "      <th></th>\n",
       "      <th>Id</th>\n",
       "      <th>TotalSleepRecords</th>\n",
       "      <th>TotalMinutesAsleep</th>\n",
       "      <th>TotalTimeInBed</th>\n",
       "    </tr>\n",
       "  </thead>\n",
       "  <tbody>\n",
       "    <tr>\n",
       "      <th>count</th>\n",
       "      <td>4.130000e+02</td>\n",
       "      <td>413.000000</td>\n",
       "      <td>413.000000</td>\n",
       "      <td>413.000000</td>\n",
       "    </tr>\n",
       "    <tr>\n",
       "      <th>mean</th>\n",
       "      <td>5.000979e+09</td>\n",
       "      <td>1.118644</td>\n",
       "      <td>419.467312</td>\n",
       "      <td>458.639225</td>\n",
       "    </tr>\n",
       "    <tr>\n",
       "      <th>std</th>\n",
       "      <td>2.060360e+09</td>\n",
       "      <td>0.345521</td>\n",
       "      <td>118.344679</td>\n",
       "      <td>127.101607</td>\n",
       "    </tr>\n",
       "    <tr>\n",
       "      <th>min</th>\n",
       "      <td>1.503960e+09</td>\n",
       "      <td>1.000000</td>\n",
       "      <td>58.000000</td>\n",
       "      <td>61.000000</td>\n",
       "    </tr>\n",
       "    <tr>\n",
       "      <th>25%</th>\n",
       "      <td>3.977334e+09</td>\n",
       "      <td>1.000000</td>\n",
       "      <td>361.000000</td>\n",
       "      <td>403.000000</td>\n",
       "    </tr>\n",
       "    <tr>\n",
       "      <th>50%</th>\n",
       "      <td>4.702922e+09</td>\n",
       "      <td>1.000000</td>\n",
       "      <td>433.000000</td>\n",
       "      <td>463.000000</td>\n",
       "    </tr>\n",
       "    <tr>\n",
       "      <th>75%</th>\n",
       "      <td>6.962181e+09</td>\n",
       "      <td>1.000000</td>\n",
       "      <td>490.000000</td>\n",
       "      <td>526.000000</td>\n",
       "    </tr>\n",
       "    <tr>\n",
       "      <th>max</th>\n",
       "      <td>8.792010e+09</td>\n",
       "      <td>3.000000</td>\n",
       "      <td>796.000000</td>\n",
       "      <td>961.000000</td>\n",
       "    </tr>\n",
       "  </tbody>\n",
       "</table>\n",
       "</div>"
      ],
      "text/plain": [
       "                 Id  TotalSleepRecords  TotalMinutesAsleep  TotalTimeInBed\n",
       "count  4.130000e+02         413.000000          413.000000      413.000000\n",
       "mean   5.000979e+09           1.118644          419.467312      458.639225\n",
       "std    2.060360e+09           0.345521          118.344679      127.101607\n",
       "min    1.503960e+09           1.000000           58.000000       61.000000\n",
       "25%    3.977334e+09           1.000000          361.000000      403.000000\n",
       "50%    4.702922e+09           1.000000          433.000000      463.000000\n",
       "75%    6.962181e+09           1.000000          490.000000      526.000000\n",
       "max    8.792010e+09           3.000000          796.000000      961.000000"
      ]
     },
     "execution_count": 8,
     "metadata": {},
     "output_type": "execute_result"
    }
   ],
   "source": [
    "daily_sleep.describe()"
   ]
  },
  {
   "cell_type": "code",
   "execution_count": 9,
   "metadata": {},
   "outputs": [
    {
     "data": {
      "text/html": [
       "<div>\n",
       "<style scoped>\n",
       "    .dataframe tbody tr th:only-of-type {\n",
       "        vertical-align: middle;\n",
       "    }\n",
       "\n",
       "    .dataframe tbody tr th {\n",
       "        vertical-align: top;\n",
       "    }\n",
       "\n",
       "    .dataframe thead th {\n",
       "        text-align: right;\n",
       "    }\n",
       "</style>\n",
       "<table border=\"1\" class=\"dataframe\">\n",
       "  <thead>\n",
       "    <tr style=\"text-align: right;\">\n",
       "      <th></th>\n",
       "      <th>Id</th>\n",
       "      <th>StepTotal</th>\n",
       "    </tr>\n",
       "  </thead>\n",
       "  <tbody>\n",
       "    <tr>\n",
       "      <th>count</th>\n",
       "      <td>9.400000e+02</td>\n",
       "      <td>940.000000</td>\n",
       "    </tr>\n",
       "    <tr>\n",
       "      <th>mean</th>\n",
       "      <td>4.855407e+09</td>\n",
       "      <td>7637.910638</td>\n",
       "    </tr>\n",
       "    <tr>\n",
       "      <th>std</th>\n",
       "      <td>2.424805e+09</td>\n",
       "      <td>5087.150742</td>\n",
       "    </tr>\n",
       "    <tr>\n",
       "      <th>min</th>\n",
       "      <td>1.503960e+09</td>\n",
       "      <td>0.000000</td>\n",
       "    </tr>\n",
       "    <tr>\n",
       "      <th>25%</th>\n",
       "      <td>2.320127e+09</td>\n",
       "      <td>3789.750000</td>\n",
       "    </tr>\n",
       "    <tr>\n",
       "      <th>50%</th>\n",
       "      <td>4.445115e+09</td>\n",
       "      <td>7405.500000</td>\n",
       "    </tr>\n",
       "    <tr>\n",
       "      <th>75%</th>\n",
       "      <td>6.962181e+09</td>\n",
       "      <td>10727.000000</td>\n",
       "    </tr>\n",
       "    <tr>\n",
       "      <th>max</th>\n",
       "      <td>8.877689e+09</td>\n",
       "      <td>36019.000000</td>\n",
       "    </tr>\n",
       "  </tbody>\n",
       "</table>\n",
       "</div>"
      ],
      "text/plain": [
       "                 Id     StepTotal\n",
       "count  9.400000e+02    940.000000\n",
       "mean   4.855407e+09   7637.910638\n",
       "std    2.424805e+09   5087.150742\n",
       "min    1.503960e+09      0.000000\n",
       "25%    2.320127e+09   3789.750000\n",
       "50%    4.445115e+09   7405.500000\n",
       "75%    6.962181e+09  10727.000000\n",
       "max    8.877689e+09  36019.000000"
      ]
     },
     "execution_count": 9,
     "metadata": {},
     "output_type": "execute_result"
    }
   ],
   "source": [
    "daily_steps.describe()"
   ]
  },
  {
   "cell_type": "code",
   "execution_count": 10,
   "metadata": {},
   "outputs": [
    {
     "name": "stdout",
     "output_type": "stream",
     "text": [
      "daily_activity: 33\n",
      "daily_calories: 33\n",
      "daily_intensities: 33\n",
      "daily_steps: 33\n",
      "daily_sleep: 24\n",
      "hourly_calories: 33\n",
      "hourly_steps: 33\n"
     ]
    }
   ],
   "source": [
    "df = [\n",
    "    (\"daily_activity\", daily_activity),\n",
    "    (\"daily_calories\", daily_calories),\n",
    "    (\"daily_intensities\", daily_intensities),\n",
    "    (\"daily_steps\", daily_steps),\n",
    "    (\"daily_sleep\", daily_sleep),\n",
    "    (\"hourly_calories\",hourly_calories),\n",
    "    (\"hourly_steps\",hourly_steps)\n",
    "]\n",
    "for name,datasets in df :\n",
    "    print(f\"{name}: {datasets.Id.nunique()}\" )"
   ]
  },
  {
   "cell_type": "code",
   "execution_count": 11,
   "metadata": {},
   "outputs": [
    {
     "name": "stdout",
     "output_type": "stream",
     "text": [
      "daily_activity: 0\n",
      "daily_calories: 0\n",
      "daily_intensities: 0\n",
      "daily_steps: 0\n",
      "daily_sleep: 3\n",
      "hourly_calories: 0\n",
      "hourly_steps: 0\n"
     ]
    }
   ],
   "source": [
    "df = [\n",
    "    (\"daily_activity\", daily_activity),\n",
    "    (\"daily_calories\", daily_calories),\n",
    "    (\"daily_intensities\", daily_intensities),\n",
    "    (\"daily_steps\", daily_steps),\n",
    "    (\"daily_sleep\", daily_sleep),\n",
    "    (\"hourly_calories\",hourly_calories),\n",
    "    (\"hourly_steps\",hourly_steps)\n",
    "]\n",
    "for name,datasets in df :\n",
    "    print(f\"{name}: {datasets.duplicated().sum()}\" )"
   ]
  },
  {
   "cell_type": "code",
   "execution_count": 12,
   "metadata": {},
   "outputs": [],
   "source": [
    "daily_sleep[daily_sleep.duplicated()==1]\n",
    "daily_sleep.drop_duplicates(inplace=True)"
   ]
  },
  {
   "cell_type": "code",
   "execution_count": 13,
   "metadata": {},
   "outputs": [
    {
     "name": "stdout",
     "output_type": "stream",
     "text": [
      "daily_activity:\n",
      "Id                          0\n",
      "ActivityDate                0\n",
      "TotalSteps                  0\n",
      "TotalDistance               0\n",
      "TrackerDistance             0\n",
      "LoggedActivitiesDistance    0\n",
      "VeryActiveDistance          0\n",
      "ModeratelyActiveDistance    0\n",
      "LightActiveDistance         0\n",
      "SedentaryActiveDistance     0\n",
      "VeryActiveMinutes           0\n",
      "FairlyActiveMinutes         0\n",
      "LightlyActiveMinutes        0\n",
      "SedentaryMinutes            0\n",
      "Calories                    0\n",
      "dtype: int64\n",
      "==================================================\n",
      "daily_calories:\n",
      "Id             0\n",
      "ActivityDay    0\n",
      "Calories       0\n",
      "dtype: int64\n",
      "==================================================\n",
      "daily_intensities:\n",
      "Id                          0\n",
      "ActivityDay                 0\n",
      "SedentaryMinutes            0\n",
      "LightlyActiveMinutes        0\n",
      "FairlyActiveMinutes         0\n",
      "VeryActiveMinutes           0\n",
      "SedentaryActiveDistance     0\n",
      "LightActiveDistance         0\n",
      "ModeratelyActiveDistance    0\n",
      "VeryActiveDistance          0\n",
      "dtype: int64\n",
      "==================================================\n",
      "daily_steps:\n",
      "Id             0\n",
      "ActivityDay    0\n",
      "StepTotal      0\n",
      "dtype: int64\n",
      "==================================================\n",
      "daily_sleep:\n",
      "Id                    0\n",
      "SleepDay              0\n",
      "TotalSleepRecords     0\n",
      "TotalMinutesAsleep    0\n",
      "TotalTimeInBed        0\n",
      "dtype: int64\n",
      "==================================================\n",
      "hourly_calories:\n",
      "Id              0\n",
      "ActivityHour    0\n",
      "Calories        0\n",
      "dtype: int64\n",
      "==================================================\n",
      "hourly_steps:\n",
      "Id              0\n",
      "ActivityHour    0\n",
      "StepTotal       0\n",
      "dtype: int64\n",
      "==================================================\n"
     ]
    }
   ],
   "source": [
    "df = [\n",
    "    (\"daily_activity\", daily_activity),\n",
    "    (\"daily_calories\", daily_calories),\n",
    "    (\"daily_intensities\", daily_intensities),\n",
    "    (\"daily_steps\", daily_steps),\n",
    "    (\"daily_sleep\", daily_sleep),\n",
    "    (\"hourly_calories\", hourly_calories),\n",
    "    (\"hourly_steps\", hourly_steps)\n",
    "]\n",
    "\n",
    "for name, datasets in df:\n",
    "    print(f\"{name}:\\n{datasets.isnull().sum()}\")\n",
    "    print(\"=\"*50)"
   ]
  },
  {
   "cell_type": "code",
   "execution_count": 14,
   "metadata": {},
   "outputs": [
    {
     "name": "stdout",
     "output_type": "stream",
     "text": [
      "daily_activity: ['id', 'activitydate', 'totalsteps', 'totaldistance', 'trackerdistance', 'loggedactivitiesdistance', 'veryactivedistance', 'moderatelyactivedistance', 'lightactivedistance', 'sedentaryactivedistance', 'veryactiveminutes', 'fairlyactiveminutes', 'lightlyactiveminutes', 'sedentaryminutes', 'calories']\n",
      "=========================\n",
      "daily_calories: ['id', 'activityday', 'calories']\n",
      "=========================\n",
      "daily_intensities: ['id', 'activityday', 'sedentaryminutes', 'lightlyactiveminutes', 'fairlyactiveminutes', 'veryactiveminutes', 'sedentaryactivedistance', 'lightactivedistance', 'moderatelyactivedistance', 'veryactivedistance']\n",
      "=========================\n",
      "daily_steps: ['id', 'activityday', 'steptotal']\n",
      "=========================\n",
      "daily_sleep: ['id', 'sleepday', 'totalsleeprecords', 'totalminutesasleep', 'totaltimeinbed']\n",
      "=========================\n",
      "hourly_calories: ['id', 'activityhour', 'calories']\n",
      "=========================\n",
      "hourly_steps: ['id', 'activityhour', 'steptotal']\n",
      "=========================\n"
     ]
    }
   ],
   "source": [
    "#No of Columns in Each Dataset\n",
    "df = [\n",
    "    (\"daily_activity\", daily_activity),\n",
    "    (\"daily_calories\", daily_calories),\n",
    "    (\"daily_intensities\", daily_intensities),\n",
    "    (\"daily_steps\", daily_steps),\n",
    "    (\"daily_sleep\", daily_sleep),\n",
    "    (\"hourly_calories\", hourly_calories),\n",
    "    (\"hourly_steps\", hourly_steps)\n",
    "]\n",
    "\n",
    "for name, dataset in df:\n",
    "    dataset.columns = dataset.columns.str.lower()\n",
    "    print(f\"{name}: {list(dataset.columns)}\")\n",
    "    print(\"=\"*25)\n"
   ]
  },
  {
   "cell_type": "code",
   "execution_count": 15,
   "metadata": {},
   "outputs": [],
   "source": [
    "#changing datatypes\n",
    "\n",
    "daily_activity['activitydate'] = pd.to_datetime(daily_activity['activitydate'])\n",
    "daily_intensities['activityday'] = pd.to_datetime(daily_intensities['activityday'])\n",
    "daily_sleep['sleepday'] = pd.to_datetime(daily_sleep['sleepday'])\n",
    "hourly_calories['activityhour'] = pd.to_datetime(hourly_calories['activityhour'])\n",
    "hourly_steps['activityhour'] = pd.to_datetime(hourly_steps['activityhour'])\n"
   ]
  },
  {
   "cell_type": "code",
   "execution_count": 16,
   "metadata": {},
   "outputs": [],
   "source": [
    "daily_activity['weekday'] = daily_activity['activitydate'].dt.day_name()\n",
    "daily_intensities['weekday'] = daily_intensities['activityday'].dt.day_name()\n",
    "daily_sleep['weekday'] = daily_sleep['sleepday'].dt.day_name()"
   ]
  },
  {
   "cell_type": "code",
   "execution_count": 17,
   "metadata": {},
   "outputs": [
    {
     "data": {
      "text/html": [
       "<div>\n",
       "<style scoped>\n",
       "    .dataframe tbody tr th:only-of-type {\n",
       "        vertical-align: middle;\n",
       "    }\n",
       "\n",
       "    .dataframe tbody tr th {\n",
       "        vertical-align: top;\n",
       "    }\n",
       "\n",
       "    .dataframe thead th {\n",
       "        text-align: right;\n",
       "    }\n",
       "</style>\n",
       "<table border=\"1\" class=\"dataframe\">\n",
       "  <thead>\n",
       "    <tr style=\"text-align: right;\">\n",
       "      <th></th>\n",
       "      <th>id</th>\n",
       "      <th>activitydate</th>\n",
       "      <th>totalsteps</th>\n",
       "      <th>totaldistance</th>\n",
       "      <th>trackerdistance</th>\n",
       "      <th>loggedactivitiesdistance</th>\n",
       "      <th>veryactivedistance</th>\n",
       "      <th>moderatelyactivedistance</th>\n",
       "      <th>lightactivedistance</th>\n",
       "      <th>sedentaryactivedistance</th>\n",
       "      <th>veryactiveminutes</th>\n",
       "      <th>fairlyactiveminutes</th>\n",
       "      <th>lightlyactiveminutes</th>\n",
       "      <th>sedentaryminutes</th>\n",
       "      <th>calories</th>\n",
       "      <th>weekday</th>\n",
       "    </tr>\n",
       "  </thead>\n",
       "  <tbody>\n",
       "    <tr>\n",
       "      <th>0</th>\n",
       "      <td>1503960366</td>\n",
       "      <td>2016-04-12</td>\n",
       "      <td>13162</td>\n",
       "      <td>8.50</td>\n",
       "      <td>8.50</td>\n",
       "      <td>0.0</td>\n",
       "      <td>1.88</td>\n",
       "      <td>0.55</td>\n",
       "      <td>6.06</td>\n",
       "      <td>0.0</td>\n",
       "      <td>25</td>\n",
       "      <td>13</td>\n",
       "      <td>328</td>\n",
       "      <td>728</td>\n",
       "      <td>1985</td>\n",
       "      <td>Tuesday</td>\n",
       "    </tr>\n",
       "    <tr>\n",
       "      <th>1</th>\n",
       "      <td>1503960366</td>\n",
       "      <td>2016-04-13</td>\n",
       "      <td>10735</td>\n",
       "      <td>6.97</td>\n",
       "      <td>6.97</td>\n",
       "      <td>0.0</td>\n",
       "      <td>1.57</td>\n",
       "      <td>0.69</td>\n",
       "      <td>4.71</td>\n",
       "      <td>0.0</td>\n",
       "      <td>21</td>\n",
       "      <td>19</td>\n",
       "      <td>217</td>\n",
       "      <td>776</td>\n",
       "      <td>1797</td>\n",
       "      <td>Wednesday</td>\n",
       "    </tr>\n",
       "    <tr>\n",
       "      <th>2</th>\n",
       "      <td>1503960366</td>\n",
       "      <td>2016-04-14</td>\n",
       "      <td>10460</td>\n",
       "      <td>6.74</td>\n",
       "      <td>6.74</td>\n",
       "      <td>0.0</td>\n",
       "      <td>2.44</td>\n",
       "      <td>0.40</td>\n",
       "      <td>3.91</td>\n",
       "      <td>0.0</td>\n",
       "      <td>30</td>\n",
       "      <td>11</td>\n",
       "      <td>181</td>\n",
       "      <td>1218</td>\n",
       "      <td>1776</td>\n",
       "      <td>Thursday</td>\n",
       "    </tr>\n",
       "    <tr>\n",
       "      <th>3</th>\n",
       "      <td>1503960366</td>\n",
       "      <td>2016-04-15</td>\n",
       "      <td>9762</td>\n",
       "      <td>6.28</td>\n",
       "      <td>6.28</td>\n",
       "      <td>0.0</td>\n",
       "      <td>2.14</td>\n",
       "      <td>1.26</td>\n",
       "      <td>2.83</td>\n",
       "      <td>0.0</td>\n",
       "      <td>29</td>\n",
       "      <td>34</td>\n",
       "      <td>209</td>\n",
       "      <td>726</td>\n",
       "      <td>1745</td>\n",
       "      <td>Friday</td>\n",
       "    </tr>\n",
       "    <tr>\n",
       "      <th>4</th>\n",
       "      <td>1503960366</td>\n",
       "      <td>2016-04-16</td>\n",
       "      <td>12669</td>\n",
       "      <td>8.16</td>\n",
       "      <td>8.16</td>\n",
       "      <td>0.0</td>\n",
       "      <td>2.71</td>\n",
       "      <td>0.41</td>\n",
       "      <td>5.04</td>\n",
       "      <td>0.0</td>\n",
       "      <td>36</td>\n",
       "      <td>10</td>\n",
       "      <td>221</td>\n",
       "      <td>773</td>\n",
       "      <td>1863</td>\n",
       "      <td>Saturday</td>\n",
       "    </tr>\n",
       "  </tbody>\n",
       "</table>\n",
       "</div>"
      ],
      "text/plain": [
       "           id activitydate  totalsteps  totaldistance  trackerdistance  \\\n",
       "0  1503960366   2016-04-12       13162           8.50             8.50   \n",
       "1  1503960366   2016-04-13       10735           6.97             6.97   \n",
       "2  1503960366   2016-04-14       10460           6.74             6.74   \n",
       "3  1503960366   2016-04-15        9762           6.28             6.28   \n",
       "4  1503960366   2016-04-16       12669           8.16             8.16   \n",
       "\n",
       "   loggedactivitiesdistance  veryactivedistance  moderatelyactivedistance  \\\n",
       "0                       0.0                1.88                      0.55   \n",
       "1                       0.0                1.57                      0.69   \n",
       "2                       0.0                2.44                      0.40   \n",
       "3                       0.0                2.14                      1.26   \n",
       "4                       0.0                2.71                      0.41   \n",
       "\n",
       "   lightactivedistance  sedentaryactivedistance  veryactiveminutes  \\\n",
       "0                 6.06                      0.0                 25   \n",
       "1                 4.71                      0.0                 21   \n",
       "2                 3.91                      0.0                 30   \n",
       "3                 2.83                      0.0                 29   \n",
       "4                 5.04                      0.0                 36   \n",
       "\n",
       "   fairlyactiveminutes  lightlyactiveminutes  sedentaryminutes  calories  \\\n",
       "0                   13                   328               728      1985   \n",
       "1                   19                   217               776      1797   \n",
       "2                   11                   181              1218      1776   \n",
       "3                   34                   209               726      1745   \n",
       "4                   10                   221               773      1863   \n",
       "\n",
       "     weekday  \n",
       "0    Tuesday  \n",
       "1  Wednesday  \n",
       "2   Thursday  \n",
       "3     Friday  \n",
       "4   Saturday  "
      ]
     },
     "execution_count": 17,
     "metadata": {},
     "output_type": "execute_result"
    }
   ],
   "source": [
    "daily_activity.head()"
   ]
  },
  {
   "cell_type": "code",
   "execution_count": 18,
   "metadata": {},
   "outputs": [
    {
     "data": {
      "text/html": [
       "<div>\n",
       "<style scoped>\n",
       "    .dataframe tbody tr th:only-of-type {\n",
       "        vertical-align: middle;\n",
       "    }\n",
       "\n",
       "    .dataframe tbody tr th {\n",
       "        vertical-align: top;\n",
       "    }\n",
       "\n",
       "    .dataframe thead th {\n",
       "        text-align: right;\n",
       "    }\n",
       "</style>\n",
       "<table border=\"1\" class=\"dataframe\">\n",
       "  <thead>\n",
       "    <tr style=\"text-align: right;\">\n",
       "      <th></th>\n",
       "      <th>id</th>\n",
       "      <th>activityday</th>\n",
       "      <th>sedentaryminutes</th>\n",
       "      <th>lightlyactiveminutes</th>\n",
       "      <th>fairlyactiveminutes</th>\n",
       "      <th>veryactiveminutes</th>\n",
       "      <th>sedentaryactivedistance</th>\n",
       "      <th>lightactivedistance</th>\n",
       "      <th>moderatelyactivedistance</th>\n",
       "      <th>veryactivedistance</th>\n",
       "      <th>weekday</th>\n",
       "    </tr>\n",
       "  </thead>\n",
       "  <tbody>\n",
       "    <tr>\n",
       "      <th>0</th>\n",
       "      <td>1503960366</td>\n",
       "      <td>2016-04-12</td>\n",
       "      <td>728</td>\n",
       "      <td>328</td>\n",
       "      <td>13</td>\n",
       "      <td>25</td>\n",
       "      <td>0.0</td>\n",
       "      <td>6.06</td>\n",
       "      <td>0.55</td>\n",
       "      <td>1.88</td>\n",
       "      <td>Tuesday</td>\n",
       "    </tr>\n",
       "    <tr>\n",
       "      <th>1</th>\n",
       "      <td>1503960366</td>\n",
       "      <td>2016-04-13</td>\n",
       "      <td>776</td>\n",
       "      <td>217</td>\n",
       "      <td>19</td>\n",
       "      <td>21</td>\n",
       "      <td>0.0</td>\n",
       "      <td>4.71</td>\n",
       "      <td>0.69</td>\n",
       "      <td>1.57</td>\n",
       "      <td>Wednesday</td>\n",
       "    </tr>\n",
       "    <tr>\n",
       "      <th>2</th>\n",
       "      <td>1503960366</td>\n",
       "      <td>2016-04-14</td>\n",
       "      <td>1218</td>\n",
       "      <td>181</td>\n",
       "      <td>11</td>\n",
       "      <td>30</td>\n",
       "      <td>0.0</td>\n",
       "      <td>3.91</td>\n",
       "      <td>0.40</td>\n",
       "      <td>2.44</td>\n",
       "      <td>Thursday</td>\n",
       "    </tr>\n",
       "    <tr>\n",
       "      <th>3</th>\n",
       "      <td>1503960366</td>\n",
       "      <td>2016-04-15</td>\n",
       "      <td>726</td>\n",
       "      <td>209</td>\n",
       "      <td>34</td>\n",
       "      <td>29</td>\n",
       "      <td>0.0</td>\n",
       "      <td>2.83</td>\n",
       "      <td>1.26</td>\n",
       "      <td>2.14</td>\n",
       "      <td>Friday</td>\n",
       "    </tr>\n",
       "    <tr>\n",
       "      <th>4</th>\n",
       "      <td>1503960366</td>\n",
       "      <td>2016-04-16</td>\n",
       "      <td>773</td>\n",
       "      <td>221</td>\n",
       "      <td>10</td>\n",
       "      <td>36</td>\n",
       "      <td>0.0</td>\n",
       "      <td>5.04</td>\n",
       "      <td>0.41</td>\n",
       "      <td>2.71</td>\n",
       "      <td>Saturday</td>\n",
       "    </tr>\n",
       "  </tbody>\n",
       "</table>\n",
       "</div>"
      ],
      "text/plain": [
       "           id activityday  sedentaryminutes  lightlyactiveminutes  \\\n",
       "0  1503960366  2016-04-12               728                   328   \n",
       "1  1503960366  2016-04-13               776                   217   \n",
       "2  1503960366  2016-04-14              1218                   181   \n",
       "3  1503960366  2016-04-15               726                   209   \n",
       "4  1503960366  2016-04-16               773                   221   \n",
       "\n",
       "   fairlyactiveminutes  veryactiveminutes  sedentaryactivedistance  \\\n",
       "0                   13                 25                      0.0   \n",
       "1                   19                 21                      0.0   \n",
       "2                   11                 30                      0.0   \n",
       "3                   34                 29                      0.0   \n",
       "4                   10                 36                      0.0   \n",
       "\n",
       "   lightactivedistance  moderatelyactivedistance  veryactivedistance  \\\n",
       "0                 6.06                      0.55                1.88   \n",
       "1                 4.71                      0.69                1.57   \n",
       "2                 3.91                      0.40                2.44   \n",
       "3                 2.83                      1.26                2.14   \n",
       "4                 5.04                      0.41                2.71   \n",
       "\n",
       "     weekday  \n",
       "0    Tuesday  \n",
       "1  Wednesday  \n",
       "2   Thursday  \n",
       "3     Friday  \n",
       "4   Saturday  "
      ]
     },
     "execution_count": 18,
     "metadata": {},
     "output_type": "execute_result"
    }
   ],
   "source": [
    "daily_intensities.head()"
   ]
  },
  {
   "cell_type": "code",
   "execution_count": 19,
   "metadata": {},
   "outputs": [
    {
     "data": {
      "text/html": [
       "<div>\n",
       "<style scoped>\n",
       "    .dataframe tbody tr th:only-of-type {\n",
       "        vertical-align: middle;\n",
       "    }\n",
       "\n",
       "    .dataframe tbody tr th {\n",
       "        vertical-align: top;\n",
       "    }\n",
       "\n",
       "    .dataframe thead th {\n",
       "        text-align: right;\n",
       "    }\n",
       "</style>\n",
       "<table border=\"1\" class=\"dataframe\">\n",
       "  <thead>\n",
       "    <tr style=\"text-align: right;\">\n",
       "      <th></th>\n",
       "      <th>id</th>\n",
       "      <th>sleepday</th>\n",
       "      <th>totalsleeprecords</th>\n",
       "      <th>totalminutesasleep</th>\n",
       "      <th>totaltimeinbed</th>\n",
       "      <th>weekday</th>\n",
       "    </tr>\n",
       "  </thead>\n",
       "  <tbody>\n",
       "    <tr>\n",
       "      <th>0</th>\n",
       "      <td>1503960366</td>\n",
       "      <td>2016-04-12</td>\n",
       "      <td>1</td>\n",
       "      <td>327</td>\n",
       "      <td>346</td>\n",
       "      <td>Tuesday</td>\n",
       "    </tr>\n",
       "    <tr>\n",
       "      <th>1</th>\n",
       "      <td>1503960366</td>\n",
       "      <td>2016-04-13</td>\n",
       "      <td>2</td>\n",
       "      <td>384</td>\n",
       "      <td>407</td>\n",
       "      <td>Wednesday</td>\n",
       "    </tr>\n",
       "    <tr>\n",
       "      <th>2</th>\n",
       "      <td>1503960366</td>\n",
       "      <td>2016-04-15</td>\n",
       "      <td>1</td>\n",
       "      <td>412</td>\n",
       "      <td>442</td>\n",
       "      <td>Friday</td>\n",
       "    </tr>\n",
       "    <tr>\n",
       "      <th>3</th>\n",
       "      <td>1503960366</td>\n",
       "      <td>2016-04-16</td>\n",
       "      <td>2</td>\n",
       "      <td>340</td>\n",
       "      <td>367</td>\n",
       "      <td>Saturday</td>\n",
       "    </tr>\n",
       "    <tr>\n",
       "      <th>4</th>\n",
       "      <td>1503960366</td>\n",
       "      <td>2016-04-17</td>\n",
       "      <td>1</td>\n",
       "      <td>700</td>\n",
       "      <td>712</td>\n",
       "      <td>Sunday</td>\n",
       "    </tr>\n",
       "  </tbody>\n",
       "</table>\n",
       "</div>"
      ],
      "text/plain": [
       "           id   sleepday  totalsleeprecords  totalminutesasleep  \\\n",
       "0  1503960366 2016-04-12                  1                 327   \n",
       "1  1503960366 2016-04-13                  2                 384   \n",
       "2  1503960366 2016-04-15                  1                 412   \n",
       "3  1503960366 2016-04-16                  2                 340   \n",
       "4  1503960366 2016-04-17                  1                 700   \n",
       "\n",
       "   totaltimeinbed    weekday  \n",
       "0             346    Tuesday  \n",
       "1             407  Wednesday  \n",
       "2             442     Friday  \n",
       "3             367   Saturday  \n",
       "4             712     Sunday  "
      ]
     },
     "execution_count": 19,
     "metadata": {},
     "output_type": "execute_result"
    }
   ],
   "source": [
    "daily_sleep.head()"
   ]
  },
  {
   "cell_type": "code",
   "execution_count": 20,
   "metadata": {},
   "outputs": [],
   "source": [
    "merged_df = pd.merge(hourly_steps,hourly_calories,on=['id','activityhour'],how='inner')"
   ]
  },
  {
   "cell_type": "code",
   "execution_count": 21,
   "metadata": {},
   "outputs": [
    {
     "data": {
      "text/html": [
       "<div>\n",
       "<style scoped>\n",
       "    .dataframe tbody tr th:only-of-type {\n",
       "        vertical-align: middle;\n",
       "    }\n",
       "\n",
       "    .dataframe tbody tr th {\n",
       "        vertical-align: top;\n",
       "    }\n",
       "\n",
       "    .dataframe thead th {\n",
       "        text-align: right;\n",
       "    }\n",
       "</style>\n",
       "<table border=\"1\" class=\"dataframe\">\n",
       "  <thead>\n",
       "    <tr style=\"text-align: right;\">\n",
       "      <th></th>\n",
       "      <th>id</th>\n",
       "      <th>activityhour</th>\n",
       "      <th>steptotal</th>\n",
       "      <th>calories</th>\n",
       "    </tr>\n",
       "  </thead>\n",
       "  <tbody>\n",
       "    <tr>\n",
       "      <th>0</th>\n",
       "      <td>1503960366</td>\n",
       "      <td>2016-04-12 00:00:00</td>\n",
       "      <td>373</td>\n",
       "      <td>81</td>\n",
       "    </tr>\n",
       "    <tr>\n",
       "      <th>1</th>\n",
       "      <td>1503960366</td>\n",
       "      <td>2016-04-12 01:00:00</td>\n",
       "      <td>160</td>\n",
       "      <td>61</td>\n",
       "    </tr>\n",
       "    <tr>\n",
       "      <th>2</th>\n",
       "      <td>1503960366</td>\n",
       "      <td>2016-04-12 02:00:00</td>\n",
       "      <td>151</td>\n",
       "      <td>59</td>\n",
       "    </tr>\n",
       "    <tr>\n",
       "      <th>3</th>\n",
       "      <td>1503960366</td>\n",
       "      <td>2016-04-12 03:00:00</td>\n",
       "      <td>0</td>\n",
       "      <td>47</td>\n",
       "    </tr>\n",
       "    <tr>\n",
       "      <th>4</th>\n",
       "      <td>1503960366</td>\n",
       "      <td>2016-04-12 04:00:00</td>\n",
       "      <td>0</td>\n",
       "      <td>48</td>\n",
       "    </tr>\n",
       "    <tr>\n",
       "      <th>...</th>\n",
       "      <td>...</td>\n",
       "      <td>...</td>\n",
       "      <td>...</td>\n",
       "      <td>...</td>\n",
       "    </tr>\n",
       "    <tr>\n",
       "      <th>22094</th>\n",
       "      <td>8877689391</td>\n",
       "      <td>2016-05-12 10:00:00</td>\n",
       "      <td>514</td>\n",
       "      <td>126</td>\n",
       "    </tr>\n",
       "    <tr>\n",
       "      <th>22095</th>\n",
       "      <td>8877689391</td>\n",
       "      <td>2016-05-12 11:00:00</td>\n",
       "      <td>1407</td>\n",
       "      <td>192</td>\n",
       "    </tr>\n",
       "    <tr>\n",
       "      <th>22096</th>\n",
       "      <td>8877689391</td>\n",
       "      <td>2016-05-12 12:00:00</td>\n",
       "      <td>3135</td>\n",
       "      <td>321</td>\n",
       "    </tr>\n",
       "    <tr>\n",
       "      <th>22097</th>\n",
       "      <td>8877689391</td>\n",
       "      <td>2016-05-12 13:00:00</td>\n",
       "      <td>307</td>\n",
       "      <td>101</td>\n",
       "    </tr>\n",
       "    <tr>\n",
       "      <th>22098</th>\n",
       "      <td>8877689391</td>\n",
       "      <td>2016-05-12 14:00:00</td>\n",
       "      <td>457</td>\n",
       "      <td>113</td>\n",
       "    </tr>\n",
       "  </tbody>\n",
       "</table>\n",
       "<p>22099 rows × 4 columns</p>\n",
       "</div>"
      ],
      "text/plain": [
       "               id        activityhour  steptotal  calories\n",
       "0      1503960366 2016-04-12 00:00:00        373        81\n",
       "1      1503960366 2016-04-12 01:00:00        160        61\n",
       "2      1503960366 2016-04-12 02:00:00        151        59\n",
       "3      1503960366 2016-04-12 03:00:00          0        47\n",
       "4      1503960366 2016-04-12 04:00:00          0        48\n",
       "...           ...                 ...        ...       ...\n",
       "22094  8877689391 2016-05-12 10:00:00        514       126\n",
       "22095  8877689391 2016-05-12 11:00:00       1407       192\n",
       "22096  8877689391 2016-05-12 12:00:00       3135       321\n",
       "22097  8877689391 2016-05-12 13:00:00        307       101\n",
       "22098  8877689391 2016-05-12 14:00:00        457       113\n",
       "\n",
       "[22099 rows x 4 columns]"
      ]
     },
     "execution_count": 21,
     "metadata": {},
     "output_type": "execute_result"
    }
   ],
   "source": [
    "merged_df"
   ]
  },
  {
   "cell_type": "code",
   "execution_count": 22,
   "metadata": {},
   "outputs": [],
   "source": [
    "merged_df['weekday'] = merged_df['activityhour'].dt.day_name()\n",
    "merged_df['datehour'] = merged_df['activityhour'].dt.hour\n",
    "merged_df['activityday'] = merged_df['activityhour'].dt.date\n",
    "merged_df.drop(columns=['activityhour'],inplace=True)\n",
    "merged_df['activityday'] = pd.to_datetime(merged_df['activityday'])"
   ]
  },
  {
   "cell_type": "code",
   "execution_count": 23,
   "metadata": {},
   "outputs": [
    {
     "data": {
      "text/html": [
       "<div>\n",
       "<style scoped>\n",
       "    .dataframe tbody tr th:only-of-type {\n",
       "        vertical-align: middle;\n",
       "    }\n",
       "\n",
       "    .dataframe tbody tr th {\n",
       "        vertical-align: top;\n",
       "    }\n",
       "\n",
       "    .dataframe thead th {\n",
       "        text-align: right;\n",
       "    }\n",
       "</style>\n",
       "<table border=\"1\" class=\"dataframe\">\n",
       "  <thead>\n",
       "    <tr style=\"text-align: right;\">\n",
       "      <th></th>\n",
       "      <th>id</th>\n",
       "      <th>activityday</th>\n",
       "      <th>weekday</th>\n",
       "      <th>datehour</th>\n",
       "      <th>steptotal</th>\n",
       "      <th>calories</th>\n",
       "    </tr>\n",
       "  </thead>\n",
       "  <tbody>\n",
       "    <tr>\n",
       "      <th>0</th>\n",
       "      <td>1503960366</td>\n",
       "      <td>2016-04-12</td>\n",
       "      <td>Tuesday</td>\n",
       "      <td>0</td>\n",
       "      <td>373</td>\n",
       "      <td>81</td>\n",
       "    </tr>\n",
       "    <tr>\n",
       "      <th>1</th>\n",
       "      <td>1503960366</td>\n",
       "      <td>2016-04-12</td>\n",
       "      <td>Tuesday</td>\n",
       "      <td>1</td>\n",
       "      <td>160</td>\n",
       "      <td>61</td>\n",
       "    </tr>\n",
       "    <tr>\n",
       "      <th>2</th>\n",
       "      <td>1503960366</td>\n",
       "      <td>2016-04-12</td>\n",
       "      <td>Tuesday</td>\n",
       "      <td>2</td>\n",
       "      <td>151</td>\n",
       "      <td>59</td>\n",
       "    </tr>\n",
       "    <tr>\n",
       "      <th>3</th>\n",
       "      <td>1503960366</td>\n",
       "      <td>2016-04-12</td>\n",
       "      <td>Tuesday</td>\n",
       "      <td>3</td>\n",
       "      <td>0</td>\n",
       "      <td>47</td>\n",
       "    </tr>\n",
       "    <tr>\n",
       "      <th>4</th>\n",
       "      <td>1503960366</td>\n",
       "      <td>2016-04-12</td>\n",
       "      <td>Tuesday</td>\n",
       "      <td>4</td>\n",
       "      <td>0</td>\n",
       "      <td>48</td>\n",
       "    </tr>\n",
       "    <tr>\n",
       "      <th>...</th>\n",
       "      <td>...</td>\n",
       "      <td>...</td>\n",
       "      <td>...</td>\n",
       "      <td>...</td>\n",
       "      <td>...</td>\n",
       "      <td>...</td>\n",
       "    </tr>\n",
       "    <tr>\n",
       "      <th>22094</th>\n",
       "      <td>8877689391</td>\n",
       "      <td>2016-05-12</td>\n",
       "      <td>Thursday</td>\n",
       "      <td>10</td>\n",
       "      <td>514</td>\n",
       "      <td>126</td>\n",
       "    </tr>\n",
       "    <tr>\n",
       "      <th>22095</th>\n",
       "      <td>8877689391</td>\n",
       "      <td>2016-05-12</td>\n",
       "      <td>Thursday</td>\n",
       "      <td>11</td>\n",
       "      <td>1407</td>\n",
       "      <td>192</td>\n",
       "    </tr>\n",
       "    <tr>\n",
       "      <th>22096</th>\n",
       "      <td>8877689391</td>\n",
       "      <td>2016-05-12</td>\n",
       "      <td>Thursday</td>\n",
       "      <td>12</td>\n",
       "      <td>3135</td>\n",
       "      <td>321</td>\n",
       "    </tr>\n",
       "    <tr>\n",
       "      <th>22097</th>\n",
       "      <td>8877689391</td>\n",
       "      <td>2016-05-12</td>\n",
       "      <td>Thursday</td>\n",
       "      <td>13</td>\n",
       "      <td>307</td>\n",
       "      <td>101</td>\n",
       "    </tr>\n",
       "    <tr>\n",
       "      <th>22098</th>\n",
       "      <td>8877689391</td>\n",
       "      <td>2016-05-12</td>\n",
       "      <td>Thursday</td>\n",
       "      <td>14</td>\n",
       "      <td>457</td>\n",
       "      <td>113</td>\n",
       "    </tr>\n",
       "  </tbody>\n",
       "</table>\n",
       "<p>22099 rows × 6 columns</p>\n",
       "</div>"
      ],
      "text/plain": [
       "               id activityday   weekday  datehour  steptotal  calories\n",
       "0      1503960366  2016-04-12   Tuesday         0        373        81\n",
       "1      1503960366  2016-04-12   Tuesday         1        160        61\n",
       "2      1503960366  2016-04-12   Tuesday         2        151        59\n",
       "3      1503960366  2016-04-12   Tuesday         3          0        47\n",
       "4      1503960366  2016-04-12   Tuesday         4          0        48\n",
       "...           ...         ...       ...       ...        ...       ...\n",
       "22094  8877689391  2016-05-12  Thursday        10        514       126\n",
       "22095  8877689391  2016-05-12  Thursday        11       1407       192\n",
       "22096  8877689391  2016-05-12  Thursday        12       3135       321\n",
       "22097  8877689391  2016-05-12  Thursday        13        307       101\n",
       "22098  8877689391  2016-05-12  Thursday        14        457       113\n",
       "\n",
       "[22099 rows x 6 columns]"
      ]
     },
     "execution_count": 23,
     "metadata": {},
     "output_type": "execute_result"
    }
   ],
   "source": [
    "reindex_col = ['id','activityday','weekday','datehour','steptotal','calories']\n",
    "merged_df = merged_df.reindex(columns= reindex_col) \n",
    "merged_df"
   ]
  },
  {
   "cell_type": "code",
   "execution_count": 24,
   "metadata": {},
   "outputs": [
    {
     "data": {
      "text/plain": [
       "id                             int64\n",
       "activityday           datetime64[ns]\n",
       "totalsleeprecords              int64\n",
       "totalminutesasleep             int64\n",
       "totaltimeinbed                 int64\n",
       "weekday                       object\n",
       "dtype: object"
      ]
     },
     "execution_count": 24,
     "metadata": {},
     "output_type": "execute_result"
    }
   ],
   "source": [
    "daily_sleep.rename(columns={'sleepday':'activityday'},inplace=True)\n",
    "daily_sleep.dtypes"
   ]
  },
  {
   "cell_type": "code",
   "execution_count": 25,
   "metadata": {},
   "outputs": [],
   "source": [
    "merged_df = pd.merge(merged_df,daily_sleep,on=['id','activityday','weekday'],how='inner')"
   ]
  },
  {
   "cell_type": "code",
   "execution_count": 26,
   "metadata": {},
   "outputs": [
    {
     "name": "stdout",
     "output_type": "stream",
     "text": [
      "24\n",
      "(9699, 9)\n"
     ]
    }
   ],
   "source": [
    "print(merged_df['id'].nunique())\n",
    "print(merged_df.shape)"
   ]
  },
  {
   "cell_type": "code",
   "execution_count": 27,
   "metadata": {},
   "outputs": [
    {
     "name": "stdout",
     "output_type": "stream",
     "text": [
      "Index(['id', 'activitydate', 'totalsteps', 'totaldistance', 'trackerdistance',\n",
      "       'loggedactivitiesdistance', 'veryactivedistance',\n",
      "       'moderatelyactivedistance', 'lightactivedistance',\n",
      "       'sedentaryactivedistance', 'veryactiveminutes', 'fairlyactiveminutes',\n",
      "       'lightlyactiveminutes', 'sedentaryminutes', 'calories', 'weekday'],\n",
      "      dtype='object')\n",
      "Index(['id', 'activityday', 'weekday', 'datehour', 'steptotal', 'calories',\n",
      "       'totalsleeprecords', 'totalminutesasleep', 'totaltimeinbed'],\n",
      "      dtype='object')\n"
     ]
    }
   ],
   "source": [
    "print(daily_activity.columns)\n",
    "print(merged_df.columns)"
   ]
  },
  {
   "cell_type": "code",
   "execution_count": 28,
   "metadata": {},
   "outputs": [
    {
     "data": {
      "text/plain": [
       "Index(['id', 'activityday', 'totalsteps', 'totaldistance', 'trackerdistance',\n",
       "       'loggedactivitiesdistance', 'veryactivedistance',\n",
       "       'moderatelyactivedistance', 'lightactivedistance',\n",
       "       'sedentaryactivedistance', 'veryactiveminutes', 'fairlyactiveminutes',\n",
       "       'lightlyactiveminutes', 'sedentaryminutes', 'calories_x', 'weekday',\n",
       "       'datehour', 'steptotal', 'calories_y', 'totalsleeprecords',\n",
       "       'totalminutesasleep', 'totaltimeinbed'],\n",
       "      dtype='object')"
      ]
     },
     "execution_count": 28,
     "metadata": {},
     "output_type": "execute_result"
    }
   ],
   "source": [
    "daily_activity.rename(columns={'activitydate':'activityday'},inplace=True)\n",
    "merged_df2 = pd.merge(daily_activity,merged_df,on=['id','activityday','weekday'],how='inner')\n",
    "merged_df2.columns\n"
   ]
  },
  {
   "cell_type": "code",
   "execution_count": 29,
   "metadata": {},
   "outputs": [
    {
     "data": {
      "text/html": [
       "<div>\n",
       "<style scoped>\n",
       "    .dataframe tbody tr th:only-of-type {\n",
       "        vertical-align: middle;\n",
       "    }\n",
       "\n",
       "    .dataframe tbody tr th {\n",
       "        vertical-align: top;\n",
       "    }\n",
       "\n",
       "    .dataframe thead th {\n",
       "        text-align: right;\n",
       "    }\n",
       "</style>\n",
       "<table border=\"1\" class=\"dataframe\">\n",
       "  <thead>\n",
       "    <tr style=\"text-align: right;\">\n",
       "      <th></th>\n",
       "      <th>id</th>\n",
       "      <th>activityday</th>\n",
       "      <th>totalsteps</th>\n",
       "      <th>totaldistance</th>\n",
       "      <th>trackerdistance</th>\n",
       "      <th>loggedactivitiesdistance</th>\n",
       "      <th>veryactivedistance</th>\n",
       "      <th>moderatelyactivedistance</th>\n",
       "      <th>lightactivedistance</th>\n",
       "      <th>sedentaryactivedistance</th>\n",
       "      <th>veryactiveminutes</th>\n",
       "      <th>fairlyactiveminutes</th>\n",
       "      <th>lightlyactiveminutes</th>\n",
       "      <th>sedentaryminutes</th>\n",
       "      <th>weekday</th>\n",
       "      <th>datehour</th>\n",
       "      <th>steptotal</th>\n",
       "      <th>totalsleeprecords</th>\n",
       "      <th>totalminutesasleep</th>\n",
       "      <th>totaltimeinbed</th>\n",
       "    </tr>\n",
       "  </thead>\n",
       "  <tbody>\n",
       "    <tr>\n",
       "      <th>0</th>\n",
       "      <td>1503960366</td>\n",
       "      <td>2016-04-12</td>\n",
       "      <td>13162</td>\n",
       "      <td>8.50</td>\n",
       "      <td>8.50</td>\n",
       "      <td>0.0</td>\n",
       "      <td>1.88</td>\n",
       "      <td>0.55</td>\n",
       "      <td>6.06</td>\n",
       "      <td>0.0</td>\n",
       "      <td>25</td>\n",
       "      <td>13</td>\n",
       "      <td>328</td>\n",
       "      <td>728</td>\n",
       "      <td>Tuesday</td>\n",
       "      <td>0</td>\n",
       "      <td>373</td>\n",
       "      <td>1</td>\n",
       "      <td>327</td>\n",
       "      <td>346</td>\n",
       "    </tr>\n",
       "    <tr>\n",
       "      <th>1</th>\n",
       "      <td>1503960366</td>\n",
       "      <td>2016-04-12</td>\n",
       "      <td>13162</td>\n",
       "      <td>8.50</td>\n",
       "      <td>8.50</td>\n",
       "      <td>0.0</td>\n",
       "      <td>1.88</td>\n",
       "      <td>0.55</td>\n",
       "      <td>6.06</td>\n",
       "      <td>0.0</td>\n",
       "      <td>25</td>\n",
       "      <td>13</td>\n",
       "      <td>328</td>\n",
       "      <td>728</td>\n",
       "      <td>Tuesday</td>\n",
       "      <td>1</td>\n",
       "      <td>160</td>\n",
       "      <td>1</td>\n",
       "      <td>327</td>\n",
       "      <td>346</td>\n",
       "    </tr>\n",
       "    <tr>\n",
       "      <th>2</th>\n",
       "      <td>1503960366</td>\n",
       "      <td>2016-04-12</td>\n",
       "      <td>13162</td>\n",
       "      <td>8.50</td>\n",
       "      <td>8.50</td>\n",
       "      <td>0.0</td>\n",
       "      <td>1.88</td>\n",
       "      <td>0.55</td>\n",
       "      <td>6.06</td>\n",
       "      <td>0.0</td>\n",
       "      <td>25</td>\n",
       "      <td>13</td>\n",
       "      <td>328</td>\n",
       "      <td>728</td>\n",
       "      <td>Tuesday</td>\n",
       "      <td>2</td>\n",
       "      <td>151</td>\n",
       "      <td>1</td>\n",
       "      <td>327</td>\n",
       "      <td>346</td>\n",
       "    </tr>\n",
       "    <tr>\n",
       "      <th>3</th>\n",
       "      <td>1503960366</td>\n",
       "      <td>2016-04-12</td>\n",
       "      <td>13162</td>\n",
       "      <td>8.50</td>\n",
       "      <td>8.50</td>\n",
       "      <td>0.0</td>\n",
       "      <td>1.88</td>\n",
       "      <td>0.55</td>\n",
       "      <td>6.06</td>\n",
       "      <td>0.0</td>\n",
       "      <td>25</td>\n",
       "      <td>13</td>\n",
       "      <td>328</td>\n",
       "      <td>728</td>\n",
       "      <td>Tuesday</td>\n",
       "      <td>3</td>\n",
       "      <td>0</td>\n",
       "      <td>1</td>\n",
       "      <td>327</td>\n",
       "      <td>346</td>\n",
       "    </tr>\n",
       "    <tr>\n",
       "      <th>4</th>\n",
       "      <td>1503960366</td>\n",
       "      <td>2016-04-12</td>\n",
       "      <td>13162</td>\n",
       "      <td>8.50</td>\n",
       "      <td>8.50</td>\n",
       "      <td>0.0</td>\n",
       "      <td>1.88</td>\n",
       "      <td>0.55</td>\n",
       "      <td>6.06</td>\n",
       "      <td>0.0</td>\n",
       "      <td>25</td>\n",
       "      <td>13</td>\n",
       "      <td>328</td>\n",
       "      <td>728</td>\n",
       "      <td>Tuesday</td>\n",
       "      <td>4</td>\n",
       "      <td>0</td>\n",
       "      <td>1</td>\n",
       "      <td>327</td>\n",
       "      <td>346</td>\n",
       "    </tr>\n",
       "    <tr>\n",
       "      <th>...</th>\n",
       "      <td>...</td>\n",
       "      <td>...</td>\n",
       "      <td>...</td>\n",
       "      <td>...</td>\n",
       "      <td>...</td>\n",
       "      <td>...</td>\n",
       "      <td>...</td>\n",
       "      <td>...</td>\n",
       "      <td>...</td>\n",
       "      <td>...</td>\n",
       "      <td>...</td>\n",
       "      <td>...</td>\n",
       "      <td>...</td>\n",
       "      <td>...</td>\n",
       "      <td>...</td>\n",
       "      <td>...</td>\n",
       "      <td>...</td>\n",
       "      <td>...</td>\n",
       "      <td>...</td>\n",
       "      <td>...</td>\n",
       "    </tr>\n",
       "    <tr>\n",
       "      <th>9694</th>\n",
       "      <td>8792009665</td>\n",
       "      <td>2016-05-04</td>\n",
       "      <td>2283</td>\n",
       "      <td>1.46</td>\n",
       "      <td>1.46</td>\n",
       "      <td>0.0</td>\n",
       "      <td>0.00</td>\n",
       "      <td>0.00</td>\n",
       "      <td>1.46</td>\n",
       "      <td>0.0</td>\n",
       "      <td>0</td>\n",
       "      <td>0</td>\n",
       "      <td>129</td>\n",
       "      <td>848</td>\n",
       "      <td>Wednesday</td>\n",
       "      <td>19</td>\n",
       "      <td>8</td>\n",
       "      <td>1</td>\n",
       "      <td>439</td>\n",
       "      <td>463</td>\n",
       "    </tr>\n",
       "    <tr>\n",
       "      <th>9695</th>\n",
       "      <td>8792009665</td>\n",
       "      <td>2016-05-04</td>\n",
       "      <td>2283</td>\n",
       "      <td>1.46</td>\n",
       "      <td>1.46</td>\n",
       "      <td>0.0</td>\n",
       "      <td>0.00</td>\n",
       "      <td>0.00</td>\n",
       "      <td>1.46</td>\n",
       "      <td>0.0</td>\n",
       "      <td>0</td>\n",
       "      <td>0</td>\n",
       "      <td>129</td>\n",
       "      <td>848</td>\n",
       "      <td>Wednesday</td>\n",
       "      <td>20</td>\n",
       "      <td>132</td>\n",
       "      <td>1</td>\n",
       "      <td>439</td>\n",
       "      <td>463</td>\n",
       "    </tr>\n",
       "    <tr>\n",
       "      <th>9696</th>\n",
       "      <td>8792009665</td>\n",
       "      <td>2016-05-04</td>\n",
       "      <td>2283</td>\n",
       "      <td>1.46</td>\n",
       "      <td>1.46</td>\n",
       "      <td>0.0</td>\n",
       "      <td>0.00</td>\n",
       "      <td>0.00</td>\n",
       "      <td>1.46</td>\n",
       "      <td>0.0</td>\n",
       "      <td>0</td>\n",
       "      <td>0</td>\n",
       "      <td>129</td>\n",
       "      <td>848</td>\n",
       "      <td>Wednesday</td>\n",
       "      <td>21</td>\n",
       "      <td>0</td>\n",
       "      <td>1</td>\n",
       "      <td>439</td>\n",
       "      <td>463</td>\n",
       "    </tr>\n",
       "    <tr>\n",
       "      <th>9697</th>\n",
       "      <td>8792009665</td>\n",
       "      <td>2016-05-04</td>\n",
       "      <td>2283</td>\n",
       "      <td>1.46</td>\n",
       "      <td>1.46</td>\n",
       "      <td>0.0</td>\n",
       "      <td>0.00</td>\n",
       "      <td>0.00</td>\n",
       "      <td>1.46</td>\n",
       "      <td>0.0</td>\n",
       "      <td>0</td>\n",
       "      <td>0</td>\n",
       "      <td>129</td>\n",
       "      <td>848</td>\n",
       "      <td>Wednesday</td>\n",
       "      <td>22</td>\n",
       "      <td>0</td>\n",
       "      <td>1</td>\n",
       "      <td>439</td>\n",
       "      <td>463</td>\n",
       "    </tr>\n",
       "    <tr>\n",
       "      <th>9698</th>\n",
       "      <td>8792009665</td>\n",
       "      <td>2016-05-04</td>\n",
       "      <td>2283</td>\n",
       "      <td>1.46</td>\n",
       "      <td>1.46</td>\n",
       "      <td>0.0</td>\n",
       "      <td>0.00</td>\n",
       "      <td>0.00</td>\n",
       "      <td>1.46</td>\n",
       "      <td>0.0</td>\n",
       "      <td>0</td>\n",
       "      <td>0</td>\n",
       "      <td>129</td>\n",
       "      <td>848</td>\n",
       "      <td>Wednesday</td>\n",
       "      <td>23</td>\n",
       "      <td>0</td>\n",
       "      <td>1</td>\n",
       "      <td>439</td>\n",
       "      <td>463</td>\n",
       "    </tr>\n",
       "  </tbody>\n",
       "</table>\n",
       "<p>9699 rows × 20 columns</p>\n",
       "</div>"
      ],
      "text/plain": [
       "              id activityday  totalsteps  totaldistance  trackerdistance  \\\n",
       "0     1503960366  2016-04-12       13162           8.50             8.50   \n",
       "1     1503960366  2016-04-12       13162           8.50             8.50   \n",
       "2     1503960366  2016-04-12       13162           8.50             8.50   \n",
       "3     1503960366  2016-04-12       13162           8.50             8.50   \n",
       "4     1503960366  2016-04-12       13162           8.50             8.50   \n",
       "...          ...         ...         ...            ...              ...   \n",
       "9694  8792009665  2016-05-04        2283           1.46             1.46   \n",
       "9695  8792009665  2016-05-04        2283           1.46             1.46   \n",
       "9696  8792009665  2016-05-04        2283           1.46             1.46   \n",
       "9697  8792009665  2016-05-04        2283           1.46             1.46   \n",
       "9698  8792009665  2016-05-04        2283           1.46             1.46   \n",
       "\n",
       "      loggedactivitiesdistance  veryactivedistance  moderatelyactivedistance  \\\n",
       "0                          0.0                1.88                      0.55   \n",
       "1                          0.0                1.88                      0.55   \n",
       "2                          0.0                1.88                      0.55   \n",
       "3                          0.0                1.88                      0.55   \n",
       "4                          0.0                1.88                      0.55   \n",
       "...                        ...                 ...                       ...   \n",
       "9694                       0.0                0.00                      0.00   \n",
       "9695                       0.0                0.00                      0.00   \n",
       "9696                       0.0                0.00                      0.00   \n",
       "9697                       0.0                0.00                      0.00   \n",
       "9698                       0.0                0.00                      0.00   \n",
       "\n",
       "      lightactivedistance  sedentaryactivedistance  veryactiveminutes  \\\n",
       "0                    6.06                      0.0                 25   \n",
       "1                    6.06                      0.0                 25   \n",
       "2                    6.06                      0.0                 25   \n",
       "3                    6.06                      0.0                 25   \n",
       "4                    6.06                      0.0                 25   \n",
       "...                   ...                      ...                ...   \n",
       "9694                 1.46                      0.0                  0   \n",
       "9695                 1.46                      0.0                  0   \n",
       "9696                 1.46                      0.0                  0   \n",
       "9697                 1.46                      0.0                  0   \n",
       "9698                 1.46                      0.0                  0   \n",
       "\n",
       "      fairlyactiveminutes  lightlyactiveminutes  sedentaryminutes    weekday  \\\n",
       "0                      13                   328               728    Tuesday   \n",
       "1                      13                   328               728    Tuesday   \n",
       "2                      13                   328               728    Tuesday   \n",
       "3                      13                   328               728    Tuesday   \n",
       "4                      13                   328               728    Tuesday   \n",
       "...                   ...                   ...               ...        ...   \n",
       "9694                    0                   129               848  Wednesday   \n",
       "9695                    0                   129               848  Wednesday   \n",
       "9696                    0                   129               848  Wednesday   \n",
       "9697                    0                   129               848  Wednesday   \n",
       "9698                    0                   129               848  Wednesday   \n",
       "\n",
       "      datehour  steptotal  totalsleeprecords  totalminutesasleep  \\\n",
       "0            0        373                  1                 327   \n",
       "1            1        160                  1                 327   \n",
       "2            2        151                  1                 327   \n",
       "3            3          0                  1                 327   \n",
       "4            4          0                  1                 327   \n",
       "...        ...        ...                ...                 ...   \n",
       "9694        19          8                  1                 439   \n",
       "9695        20        132                  1                 439   \n",
       "9696        21          0                  1                 439   \n",
       "9697        22          0                  1                 439   \n",
       "9698        23          0                  1                 439   \n",
       "\n",
       "      totaltimeinbed  \n",
       "0                346  \n",
       "1                346  \n",
       "2                346  \n",
       "3                346  \n",
       "4                346  \n",
       "...              ...  \n",
       "9694             463  \n",
       "9695             463  \n",
       "9696             463  \n",
       "9697             463  \n",
       "9698             463  \n",
       "\n",
       "[9699 rows x 20 columns]"
      ]
     },
     "execution_count": 29,
     "metadata": {},
     "output_type": "execute_result"
    }
   ],
   "source": [
    "merged_df2.drop(columns=['calories_x','calories_y'])"
   ]
  },
  {
   "cell_type": "code",
   "execution_count": 30,
   "metadata": {},
   "outputs": [],
   "source": [
    "new_col = ['id', 'activitydate','weekday', 'totalsteps', 'totaldistance','totalactiveminus','totalminus','totalhour', 'trackerdistance', 'loggedactivitiesdistance', 'veryactivedistance', 'moderatelyactivedistance', 'lightactivedistance', 'sedentaryactivedistance', 'veryactiveminutes', 'fairlyactiveminutes', 'lightlyactiveminutes', 'sedentaryminutes', 'calories']\n",
    "daily_activity =daily_activity.reindex(columns=new_col)"
   ]
  },
  {
   "cell_type": "code",
   "execution_count": 31,
   "metadata": {},
   "outputs": [],
   "source": [
    "daily_activity['totalactiveminus'] = daily_activity['veryactiveminutes']+daily_activity['fairlyactiveminutes']+daily_activity['lightlyactiveminutes']\n",
    "daily_activity['totalminus'] = daily_activity['totalactiveminus']+daily_activity['sedentaryminutes']\n",
    "daily_activity['totalhour'] = round(daily_activity['totalactiveminus'] /60)"
   ]
  },
  {
   "cell_type": "code",
   "execution_count": 32,
   "metadata": {},
   "outputs": [
    {
     "data": {
      "text/html": [
       "<div>\n",
       "<style scoped>\n",
       "    .dataframe tbody tr th:only-of-type {\n",
       "        vertical-align: middle;\n",
       "    }\n",
       "\n",
       "    .dataframe tbody tr th {\n",
       "        vertical-align: top;\n",
       "    }\n",
       "\n",
       "    .dataframe thead th {\n",
       "        text-align: right;\n",
       "    }\n",
       "</style>\n",
       "<table border=\"1\" class=\"dataframe\">\n",
       "  <thead>\n",
       "    <tr style=\"text-align: right;\">\n",
       "      <th></th>\n",
       "      <th>id</th>\n",
       "      <th>activitydate</th>\n",
       "      <th>weekday</th>\n",
       "      <th>totalsteps</th>\n",
       "      <th>totaldistance</th>\n",
       "      <th>totalactiveminus</th>\n",
       "      <th>totalminus</th>\n",
       "      <th>totalhour</th>\n",
       "      <th>trackerdistance</th>\n",
       "      <th>loggedactivitiesdistance</th>\n",
       "      <th>veryactivedistance</th>\n",
       "      <th>moderatelyactivedistance</th>\n",
       "      <th>lightactivedistance</th>\n",
       "      <th>sedentaryactivedistance</th>\n",
       "      <th>veryactiveminutes</th>\n",
       "      <th>fairlyactiveminutes</th>\n",
       "      <th>lightlyactiveminutes</th>\n",
       "      <th>sedentaryminutes</th>\n",
       "      <th>calories</th>\n",
       "    </tr>\n",
       "  </thead>\n",
       "  <tbody>\n",
       "    <tr>\n",
       "      <th>0</th>\n",
       "      <td>1503960366</td>\n",
       "      <td>NaN</td>\n",
       "      <td>Tuesday</td>\n",
       "      <td>13162</td>\n",
       "      <td>8.500000</td>\n",
       "      <td>366</td>\n",
       "      <td>1094</td>\n",
       "      <td>6.0</td>\n",
       "      <td>8.500000</td>\n",
       "      <td>0.0</td>\n",
       "      <td>1.88</td>\n",
       "      <td>0.55</td>\n",
       "      <td>6.06</td>\n",
       "      <td>0.00</td>\n",
       "      <td>25</td>\n",
       "      <td>13</td>\n",
       "      <td>328</td>\n",
       "      <td>728</td>\n",
       "      <td>1985</td>\n",
       "    </tr>\n",
       "    <tr>\n",
       "      <th>1</th>\n",
       "      <td>1503960366</td>\n",
       "      <td>NaN</td>\n",
       "      <td>Wednesday</td>\n",
       "      <td>10735</td>\n",
       "      <td>6.970000</td>\n",
       "      <td>257</td>\n",
       "      <td>1033</td>\n",
       "      <td>4.0</td>\n",
       "      <td>6.970000</td>\n",
       "      <td>0.0</td>\n",
       "      <td>1.57</td>\n",
       "      <td>0.69</td>\n",
       "      <td>4.71</td>\n",
       "      <td>0.00</td>\n",
       "      <td>21</td>\n",
       "      <td>19</td>\n",
       "      <td>217</td>\n",
       "      <td>776</td>\n",
       "      <td>1797</td>\n",
       "    </tr>\n",
       "    <tr>\n",
       "      <th>2</th>\n",
       "      <td>1503960366</td>\n",
       "      <td>NaN</td>\n",
       "      <td>Thursday</td>\n",
       "      <td>10460</td>\n",
       "      <td>6.740000</td>\n",
       "      <td>222</td>\n",
       "      <td>1440</td>\n",
       "      <td>4.0</td>\n",
       "      <td>6.740000</td>\n",
       "      <td>0.0</td>\n",
       "      <td>2.44</td>\n",
       "      <td>0.40</td>\n",
       "      <td>3.91</td>\n",
       "      <td>0.00</td>\n",
       "      <td>30</td>\n",
       "      <td>11</td>\n",
       "      <td>181</td>\n",
       "      <td>1218</td>\n",
       "      <td>1776</td>\n",
       "    </tr>\n",
       "    <tr>\n",
       "      <th>3</th>\n",
       "      <td>1503960366</td>\n",
       "      <td>NaN</td>\n",
       "      <td>Friday</td>\n",
       "      <td>9762</td>\n",
       "      <td>6.280000</td>\n",
       "      <td>272</td>\n",
       "      <td>998</td>\n",
       "      <td>5.0</td>\n",
       "      <td>6.280000</td>\n",
       "      <td>0.0</td>\n",
       "      <td>2.14</td>\n",
       "      <td>1.26</td>\n",
       "      <td>2.83</td>\n",
       "      <td>0.00</td>\n",
       "      <td>29</td>\n",
       "      <td>34</td>\n",
       "      <td>209</td>\n",
       "      <td>726</td>\n",
       "      <td>1745</td>\n",
       "    </tr>\n",
       "    <tr>\n",
       "      <th>4</th>\n",
       "      <td>1503960366</td>\n",
       "      <td>NaN</td>\n",
       "      <td>Saturday</td>\n",
       "      <td>12669</td>\n",
       "      <td>8.160000</td>\n",
       "      <td>267</td>\n",
       "      <td>1040</td>\n",
       "      <td>4.0</td>\n",
       "      <td>8.160000</td>\n",
       "      <td>0.0</td>\n",
       "      <td>2.71</td>\n",
       "      <td>0.41</td>\n",
       "      <td>5.04</td>\n",
       "      <td>0.00</td>\n",
       "      <td>36</td>\n",
       "      <td>10</td>\n",
       "      <td>221</td>\n",
       "      <td>773</td>\n",
       "      <td>1863</td>\n",
       "    </tr>\n",
       "    <tr>\n",
       "      <th>...</th>\n",
       "      <td>...</td>\n",
       "      <td>...</td>\n",
       "      <td>...</td>\n",
       "      <td>...</td>\n",
       "      <td>...</td>\n",
       "      <td>...</td>\n",
       "      <td>...</td>\n",
       "      <td>...</td>\n",
       "      <td>...</td>\n",
       "      <td>...</td>\n",
       "      <td>...</td>\n",
       "      <td>...</td>\n",
       "      <td>...</td>\n",
       "      <td>...</td>\n",
       "      <td>...</td>\n",
       "      <td>...</td>\n",
       "      <td>...</td>\n",
       "      <td>...</td>\n",
       "      <td>...</td>\n",
       "    </tr>\n",
       "    <tr>\n",
       "      <th>935</th>\n",
       "      <td>8877689391</td>\n",
       "      <td>NaN</td>\n",
       "      <td>Sunday</td>\n",
       "      <td>10686</td>\n",
       "      <td>8.110000</td>\n",
       "      <td>266</td>\n",
       "      <td>1440</td>\n",
       "      <td>4.0</td>\n",
       "      <td>8.110000</td>\n",
       "      <td>0.0</td>\n",
       "      <td>1.08</td>\n",
       "      <td>0.20</td>\n",
       "      <td>6.80</td>\n",
       "      <td>0.00</td>\n",
       "      <td>17</td>\n",
       "      <td>4</td>\n",
       "      <td>245</td>\n",
       "      <td>1174</td>\n",
       "      <td>2847</td>\n",
       "    </tr>\n",
       "    <tr>\n",
       "      <th>936</th>\n",
       "      <td>8877689391</td>\n",
       "      <td>NaN</td>\n",
       "      <td>Monday</td>\n",
       "      <td>20226</td>\n",
       "      <td>18.250000</td>\n",
       "      <td>309</td>\n",
       "      <td>1440</td>\n",
       "      <td>5.0</td>\n",
       "      <td>18.250000</td>\n",
       "      <td>0.0</td>\n",
       "      <td>11.10</td>\n",
       "      <td>0.80</td>\n",
       "      <td>6.24</td>\n",
       "      <td>0.05</td>\n",
       "      <td>73</td>\n",
       "      <td>19</td>\n",
       "      <td>217</td>\n",
       "      <td>1131</td>\n",
       "      <td>3710</td>\n",
       "    </tr>\n",
       "    <tr>\n",
       "      <th>937</th>\n",
       "      <td>8877689391</td>\n",
       "      <td>NaN</td>\n",
       "      <td>Tuesday</td>\n",
       "      <td>10733</td>\n",
       "      <td>8.150000</td>\n",
       "      <td>253</td>\n",
       "      <td>1440</td>\n",
       "      <td>4.0</td>\n",
       "      <td>8.150000</td>\n",
       "      <td>0.0</td>\n",
       "      <td>1.35</td>\n",
       "      <td>0.46</td>\n",
       "      <td>6.28</td>\n",
       "      <td>0.00</td>\n",
       "      <td>18</td>\n",
       "      <td>11</td>\n",
       "      <td>224</td>\n",
       "      <td>1187</td>\n",
       "      <td>2832</td>\n",
       "    </tr>\n",
       "    <tr>\n",
       "      <th>938</th>\n",
       "      <td>8877689391</td>\n",
       "      <td>NaN</td>\n",
       "      <td>Wednesday</td>\n",
       "      <td>21420</td>\n",
       "      <td>19.559999</td>\n",
       "      <td>313</td>\n",
       "      <td>1440</td>\n",
       "      <td>5.0</td>\n",
       "      <td>19.559999</td>\n",
       "      <td>0.0</td>\n",
       "      <td>13.22</td>\n",
       "      <td>0.41</td>\n",
       "      <td>5.89</td>\n",
       "      <td>0.00</td>\n",
       "      <td>88</td>\n",
       "      <td>12</td>\n",
       "      <td>213</td>\n",
       "      <td>1127</td>\n",
       "      <td>3832</td>\n",
       "    </tr>\n",
       "    <tr>\n",
       "      <th>939</th>\n",
       "      <td>8877689391</td>\n",
       "      <td>NaN</td>\n",
       "      <td>Thursday</td>\n",
       "      <td>8064</td>\n",
       "      <td>6.120000</td>\n",
       "      <td>161</td>\n",
       "      <td>931</td>\n",
       "      <td>3.0</td>\n",
       "      <td>6.120000</td>\n",
       "      <td>0.0</td>\n",
       "      <td>1.82</td>\n",
       "      <td>0.04</td>\n",
       "      <td>4.25</td>\n",
       "      <td>0.00</td>\n",
       "      <td>23</td>\n",
       "      <td>1</td>\n",
       "      <td>137</td>\n",
       "      <td>770</td>\n",
       "      <td>1849</td>\n",
       "    </tr>\n",
       "  </tbody>\n",
       "</table>\n",
       "<p>940 rows × 19 columns</p>\n",
       "</div>"
      ],
      "text/plain": [
       "             id  activitydate    weekday  totalsteps  totaldistance  \\\n",
       "0    1503960366           NaN    Tuesday       13162       8.500000   \n",
       "1    1503960366           NaN  Wednesday       10735       6.970000   \n",
       "2    1503960366           NaN   Thursday       10460       6.740000   \n",
       "3    1503960366           NaN     Friday        9762       6.280000   \n",
       "4    1503960366           NaN   Saturday       12669       8.160000   \n",
       "..          ...           ...        ...         ...            ...   \n",
       "935  8877689391           NaN     Sunday       10686       8.110000   \n",
       "936  8877689391           NaN     Monday       20226      18.250000   \n",
       "937  8877689391           NaN    Tuesday       10733       8.150000   \n",
       "938  8877689391           NaN  Wednesday       21420      19.559999   \n",
       "939  8877689391           NaN   Thursday        8064       6.120000   \n",
       "\n",
       "     totalactiveminus  totalminus  totalhour  trackerdistance  \\\n",
       "0                 366        1094        6.0         8.500000   \n",
       "1                 257        1033        4.0         6.970000   \n",
       "2                 222        1440        4.0         6.740000   \n",
       "3                 272         998        5.0         6.280000   \n",
       "4                 267        1040        4.0         8.160000   \n",
       "..                ...         ...        ...              ...   \n",
       "935               266        1440        4.0         8.110000   \n",
       "936               309        1440        5.0        18.250000   \n",
       "937               253        1440        4.0         8.150000   \n",
       "938               313        1440        5.0        19.559999   \n",
       "939               161         931        3.0         6.120000   \n",
       "\n",
       "     loggedactivitiesdistance  veryactivedistance  moderatelyactivedistance  \\\n",
       "0                         0.0                1.88                      0.55   \n",
       "1                         0.0                1.57                      0.69   \n",
       "2                         0.0                2.44                      0.40   \n",
       "3                         0.0                2.14                      1.26   \n",
       "4                         0.0                2.71                      0.41   \n",
       "..                        ...                 ...                       ...   \n",
       "935                       0.0                1.08                      0.20   \n",
       "936                       0.0               11.10                      0.80   \n",
       "937                       0.0                1.35                      0.46   \n",
       "938                       0.0               13.22                      0.41   \n",
       "939                       0.0                1.82                      0.04   \n",
       "\n",
       "     lightactivedistance  sedentaryactivedistance  veryactiveminutes  \\\n",
       "0                   6.06                     0.00                 25   \n",
       "1                   4.71                     0.00                 21   \n",
       "2                   3.91                     0.00                 30   \n",
       "3                   2.83                     0.00                 29   \n",
       "4                   5.04                     0.00                 36   \n",
       "..                   ...                      ...                ...   \n",
       "935                 6.80                     0.00                 17   \n",
       "936                 6.24                     0.05                 73   \n",
       "937                 6.28                     0.00                 18   \n",
       "938                 5.89                     0.00                 88   \n",
       "939                 4.25                     0.00                 23   \n",
       "\n",
       "     fairlyactiveminutes  lightlyactiveminutes  sedentaryminutes  calories  \n",
       "0                     13                   328               728      1985  \n",
       "1                     19                   217               776      1797  \n",
       "2                     11                   181              1218      1776  \n",
       "3                     34                   209               726      1745  \n",
       "4                     10                   221               773      1863  \n",
       "..                   ...                   ...               ...       ...  \n",
       "935                    4                   245              1174      2847  \n",
       "936                   19                   217              1131      3710  \n",
       "937                   11                   224              1187      2832  \n",
       "938                   12                   213              1127      3832  \n",
       "939                    1                   137               770      1849  \n",
       "\n",
       "[940 rows x 19 columns]"
      ]
     },
     "execution_count": 32,
     "metadata": {},
     "output_type": "execute_result"
    }
   ],
   "source": [
    "daily_activity"
   ]
  },
  {
   "cell_type": "markdown",
   "metadata": {},
   "source": [
    "Analyze"
   ]
  },
  {
   "cell_type": "code",
   "execution_count": 33,
   "metadata": {},
   "outputs": [
    {
     "data": {
      "text/html": [
       "<div>\n",
       "<style scoped>\n",
       "    .dataframe tbody tr th:only-of-type {\n",
       "        vertical-align: middle;\n",
       "    }\n",
       "\n",
       "    .dataframe tbody tr th {\n",
       "        vertical-align: top;\n",
       "    }\n",
       "\n",
       "    .dataframe thead th {\n",
       "        text-align: right;\n",
       "    }\n",
       "</style>\n",
       "<table border=\"1\" class=\"dataframe\">\n",
       "  <thead>\n",
       "    <tr style=\"text-align: right;\">\n",
       "      <th></th>\n",
       "      <th>id</th>\n",
       "      <th>activitydate</th>\n",
       "      <th>totalsteps</th>\n",
       "      <th>totaldistance</th>\n",
       "      <th>totalactiveminus</th>\n",
       "      <th>totalminus</th>\n",
       "      <th>totalhour</th>\n",
       "      <th>trackerdistance</th>\n",
       "      <th>loggedactivitiesdistance</th>\n",
       "      <th>veryactivedistance</th>\n",
       "      <th>moderatelyactivedistance</th>\n",
       "      <th>lightactivedistance</th>\n",
       "      <th>sedentaryactivedistance</th>\n",
       "      <th>veryactiveminutes</th>\n",
       "      <th>fairlyactiveminutes</th>\n",
       "      <th>lightlyactiveminutes</th>\n",
       "      <th>sedentaryminutes</th>\n",
       "      <th>calories</th>\n",
       "    </tr>\n",
       "  </thead>\n",
       "  <tbody>\n",
       "    <tr>\n",
       "      <th>count</th>\n",
       "      <td>9.400000e+02</td>\n",
       "      <td>0.0</td>\n",
       "      <td>940.000000</td>\n",
       "      <td>940.000000</td>\n",
       "      <td>940.000000</td>\n",
       "      <td>940.000000</td>\n",
       "      <td>940.000000</td>\n",
       "      <td>940.000000</td>\n",
       "      <td>940.000000</td>\n",
       "      <td>940.000000</td>\n",
       "      <td>940.000000</td>\n",
       "      <td>940.000000</td>\n",
       "      <td>940.000000</td>\n",
       "      <td>940.000000</td>\n",
       "      <td>940.000000</td>\n",
       "      <td>940.000000</td>\n",
       "      <td>940.000000</td>\n",
       "      <td>940.000000</td>\n",
       "    </tr>\n",
       "    <tr>\n",
       "      <th>mean</th>\n",
       "      <td>4.855407e+09</td>\n",
       "      <td>NaN</td>\n",
       "      <td>7637.910638</td>\n",
       "      <td>5.489702</td>\n",
       "      <td>227.542553</td>\n",
       "      <td>1218.753191</td>\n",
       "      <td>3.775532</td>\n",
       "      <td>5.475351</td>\n",
       "      <td>0.108171</td>\n",
       "      <td>1.502681</td>\n",
       "      <td>0.567543</td>\n",
       "      <td>3.340819</td>\n",
       "      <td>0.001606</td>\n",
       "      <td>21.164894</td>\n",
       "      <td>13.564894</td>\n",
       "      <td>192.812766</td>\n",
       "      <td>991.210638</td>\n",
       "      <td>2303.609574</td>\n",
       "    </tr>\n",
       "    <tr>\n",
       "      <th>std</th>\n",
       "      <td>2.424805e+09</td>\n",
       "      <td>NaN</td>\n",
       "      <td>5087.150742</td>\n",
       "      <td>3.924606</td>\n",
       "      <td>121.776307</td>\n",
       "      <td>265.931767</td>\n",
       "      <td>2.057646</td>\n",
       "      <td>3.907276</td>\n",
       "      <td>0.619897</td>\n",
       "      <td>2.658941</td>\n",
       "      <td>0.883580</td>\n",
       "      <td>2.040655</td>\n",
       "      <td>0.007346</td>\n",
       "      <td>32.844803</td>\n",
       "      <td>19.987404</td>\n",
       "      <td>109.174700</td>\n",
       "      <td>301.267437</td>\n",
       "      <td>718.166862</td>\n",
       "    </tr>\n",
       "    <tr>\n",
       "      <th>min</th>\n",
       "      <td>1.503960e+09</td>\n",
       "      <td>NaN</td>\n",
       "      <td>0.000000</td>\n",
       "      <td>0.000000</td>\n",
       "      <td>0.000000</td>\n",
       "      <td>2.000000</td>\n",
       "      <td>0.000000</td>\n",
       "      <td>0.000000</td>\n",
       "      <td>0.000000</td>\n",
       "      <td>0.000000</td>\n",
       "      <td>0.000000</td>\n",
       "      <td>0.000000</td>\n",
       "      <td>0.000000</td>\n",
       "      <td>0.000000</td>\n",
       "      <td>0.000000</td>\n",
       "      <td>0.000000</td>\n",
       "      <td>0.000000</td>\n",
       "      <td>0.000000</td>\n",
       "    </tr>\n",
       "    <tr>\n",
       "      <th>25%</th>\n",
       "      <td>2.320127e+09</td>\n",
       "      <td>NaN</td>\n",
       "      <td>3789.750000</td>\n",
       "      <td>2.620000</td>\n",
       "      <td>146.750000</td>\n",
       "      <td>989.750000</td>\n",
       "      <td>2.000000</td>\n",
       "      <td>2.620000</td>\n",
       "      <td>0.000000</td>\n",
       "      <td>0.000000</td>\n",
       "      <td>0.000000</td>\n",
       "      <td>1.945000</td>\n",
       "      <td>0.000000</td>\n",
       "      <td>0.000000</td>\n",
       "      <td>0.000000</td>\n",
       "      <td>127.000000</td>\n",
       "      <td>729.750000</td>\n",
       "      <td>1828.500000</td>\n",
       "    </tr>\n",
       "    <tr>\n",
       "      <th>50%</th>\n",
       "      <td>4.445115e+09</td>\n",
       "      <td>NaN</td>\n",
       "      <td>7405.500000</td>\n",
       "      <td>5.245000</td>\n",
       "      <td>247.000000</td>\n",
       "      <td>1440.000000</td>\n",
       "      <td>4.000000</td>\n",
       "      <td>5.245000</td>\n",
       "      <td>0.000000</td>\n",
       "      <td>0.210000</td>\n",
       "      <td>0.240000</td>\n",
       "      <td>3.365000</td>\n",
       "      <td>0.000000</td>\n",
       "      <td>4.000000</td>\n",
       "      <td>6.000000</td>\n",
       "      <td>199.000000</td>\n",
       "      <td>1057.500000</td>\n",
       "      <td>2134.000000</td>\n",
       "    </tr>\n",
       "    <tr>\n",
       "      <th>75%</th>\n",
       "      <td>6.962181e+09</td>\n",
       "      <td>NaN</td>\n",
       "      <td>10727.000000</td>\n",
       "      <td>7.712500</td>\n",
       "      <td>317.250000</td>\n",
       "      <td>1440.000000</td>\n",
       "      <td>5.000000</td>\n",
       "      <td>7.710000</td>\n",
       "      <td>0.000000</td>\n",
       "      <td>2.052500</td>\n",
       "      <td>0.800000</td>\n",
       "      <td>4.782500</td>\n",
       "      <td>0.000000</td>\n",
       "      <td>32.000000</td>\n",
       "      <td>19.000000</td>\n",
       "      <td>264.000000</td>\n",
       "      <td>1229.500000</td>\n",
       "      <td>2793.250000</td>\n",
       "    </tr>\n",
       "    <tr>\n",
       "      <th>max</th>\n",
       "      <td>8.877689e+09</td>\n",
       "      <td>NaN</td>\n",
       "      <td>36019.000000</td>\n",
       "      <td>28.030001</td>\n",
       "      <td>552.000000</td>\n",
       "      <td>1440.000000</td>\n",
       "      <td>9.000000</td>\n",
       "      <td>28.030001</td>\n",
       "      <td>4.942142</td>\n",
       "      <td>21.920000</td>\n",
       "      <td>6.480000</td>\n",
       "      <td>10.710000</td>\n",
       "      <td>0.110000</td>\n",
       "      <td>210.000000</td>\n",
       "      <td>143.000000</td>\n",
       "      <td>518.000000</td>\n",
       "      <td>1440.000000</td>\n",
       "      <td>4900.000000</td>\n",
       "    </tr>\n",
       "  </tbody>\n",
       "</table>\n",
       "</div>"
      ],
      "text/plain": [
       "                 id  activitydate    totalsteps  totaldistance  \\\n",
       "count  9.400000e+02           0.0    940.000000     940.000000   \n",
       "mean   4.855407e+09           NaN   7637.910638       5.489702   \n",
       "std    2.424805e+09           NaN   5087.150742       3.924606   \n",
       "min    1.503960e+09           NaN      0.000000       0.000000   \n",
       "25%    2.320127e+09           NaN   3789.750000       2.620000   \n",
       "50%    4.445115e+09           NaN   7405.500000       5.245000   \n",
       "75%    6.962181e+09           NaN  10727.000000       7.712500   \n",
       "max    8.877689e+09           NaN  36019.000000      28.030001   \n",
       "\n",
       "       totalactiveminus   totalminus   totalhour  trackerdistance  \\\n",
       "count        940.000000   940.000000  940.000000       940.000000   \n",
       "mean         227.542553  1218.753191    3.775532         5.475351   \n",
       "std          121.776307   265.931767    2.057646         3.907276   \n",
       "min            0.000000     2.000000    0.000000         0.000000   \n",
       "25%          146.750000   989.750000    2.000000         2.620000   \n",
       "50%          247.000000  1440.000000    4.000000         5.245000   \n",
       "75%          317.250000  1440.000000    5.000000         7.710000   \n",
       "max          552.000000  1440.000000    9.000000        28.030001   \n",
       "\n",
       "       loggedactivitiesdistance  veryactivedistance  moderatelyactivedistance  \\\n",
       "count                940.000000          940.000000                940.000000   \n",
       "mean                   0.108171            1.502681                  0.567543   \n",
       "std                    0.619897            2.658941                  0.883580   \n",
       "min                    0.000000            0.000000                  0.000000   \n",
       "25%                    0.000000            0.000000                  0.000000   \n",
       "50%                    0.000000            0.210000                  0.240000   \n",
       "75%                    0.000000            2.052500                  0.800000   \n",
       "max                    4.942142           21.920000                  6.480000   \n",
       "\n",
       "       lightactivedistance  sedentaryactivedistance  veryactiveminutes  \\\n",
       "count           940.000000               940.000000         940.000000   \n",
       "mean              3.340819                 0.001606          21.164894   \n",
       "std               2.040655                 0.007346          32.844803   \n",
       "min               0.000000                 0.000000           0.000000   \n",
       "25%               1.945000                 0.000000           0.000000   \n",
       "50%               3.365000                 0.000000           4.000000   \n",
       "75%               4.782500                 0.000000          32.000000   \n",
       "max              10.710000                 0.110000         210.000000   \n",
       "\n",
       "       fairlyactiveminutes  lightlyactiveminutes  sedentaryminutes  \\\n",
       "count           940.000000            940.000000        940.000000   \n",
       "mean             13.564894            192.812766        991.210638   \n",
       "std              19.987404            109.174700        301.267437   \n",
       "min               0.000000              0.000000          0.000000   \n",
       "25%               0.000000            127.000000        729.750000   \n",
       "50%               6.000000            199.000000       1057.500000   \n",
       "75%              19.000000            264.000000       1229.500000   \n",
       "max             143.000000            518.000000       1440.000000   \n",
       "\n",
       "          calories  \n",
       "count   940.000000  \n",
       "mean   2303.609574  \n",
       "std     718.166862  \n",
       "min       0.000000  \n",
       "25%    1828.500000  \n",
       "50%    2134.000000  \n",
       "75%    2793.250000  \n",
       "max    4900.000000  "
      ]
     },
     "execution_count": 33,
     "metadata": {},
     "output_type": "execute_result"
    }
   ],
   "source": [
    "daily_activity.describe()"
   ]
  },
  {
   "cell_type": "code",
   "execution_count": 34,
   "metadata": {},
   "outputs": [
    {
     "data": {
      "text/html": [
       "<div>\n",
       "<style scoped>\n",
       "    .dataframe tbody tr th:only-of-type {\n",
       "        vertical-align: middle;\n",
       "    }\n",
       "\n",
       "    .dataframe tbody tr th {\n",
       "        vertical-align: top;\n",
       "    }\n",
       "\n",
       "    .dataframe thead th {\n",
       "        text-align: right;\n",
       "    }\n",
       "</style>\n",
       "<table border=\"1\" class=\"dataframe\">\n",
       "  <thead>\n",
       "    <tr style=\"text-align: right;\">\n",
       "      <th></th>\n",
       "      <th>id</th>\n",
       "      <th>activityday</th>\n",
       "      <th>datehour</th>\n",
       "      <th>steptotal</th>\n",
       "      <th>calories</th>\n",
       "      <th>totalsleeprecords</th>\n",
       "      <th>totalminutesasleep</th>\n",
       "      <th>totaltimeinbed</th>\n",
       "    </tr>\n",
       "  </thead>\n",
       "  <tbody>\n",
       "    <tr>\n",
       "      <th>count</th>\n",
       "      <td>9.699000e+03</td>\n",
       "      <td>9699</td>\n",
       "      <td>9699.000000</td>\n",
       "      <td>9699.000000</td>\n",
       "      <td>9699.000000</td>\n",
       "      <td>9699.000000</td>\n",
       "      <td>9699.000000</td>\n",
       "      <td>9699.000000</td>\n",
       "    </tr>\n",
       "    <tr>\n",
       "      <th>mean</th>\n",
       "      <td>4.994838e+09</td>\n",
       "      <td>2016-04-26 06:56:27.318280448</td>\n",
       "      <td>11.422312</td>\n",
       "      <td>357.678420</td>\n",
       "      <td>100.636560</td>\n",
       "      <td>1.121250</td>\n",
       "      <td>419.051036</td>\n",
       "      <td>458.449118</td>\n",
       "    </tr>\n",
       "    <tr>\n",
       "      <th>min</th>\n",
       "      <td>1.503960e+09</td>\n",
       "      <td>2016-04-12 00:00:00</td>\n",
       "      <td>0.000000</td>\n",
       "      <td>0.000000</td>\n",
       "      <td>42.000000</td>\n",
       "      <td>1.000000</td>\n",
       "      <td>58.000000</td>\n",
       "      <td>61.000000</td>\n",
       "    </tr>\n",
       "    <tr>\n",
       "      <th>25%</th>\n",
       "      <td>3.977334e+09</td>\n",
       "      <td>2016-04-19 00:00:00</td>\n",
       "      <td>5.000000</td>\n",
       "      <td>0.000000</td>\n",
       "      <td>63.000000</td>\n",
       "      <td>1.000000</td>\n",
       "      <td>361.000000</td>\n",
       "      <td>402.500000</td>\n",
       "    </tr>\n",
       "    <tr>\n",
       "      <th>50%</th>\n",
       "      <td>4.702922e+09</td>\n",
       "      <td>2016-04-26 00:00:00</td>\n",
       "      <td>11.000000</td>\n",
       "      <td>107.000000</td>\n",
       "      <td>84.000000</td>\n",
       "      <td>1.000000</td>\n",
       "      <td>432.000000</td>\n",
       "      <td>463.000000</td>\n",
       "    </tr>\n",
       "    <tr>\n",
       "      <th>75%</th>\n",
       "      <td>6.962181e+09</td>\n",
       "      <td>2016-05-03 00:00:00</td>\n",
       "      <td>17.000000</td>\n",
       "      <td>419.000000</td>\n",
       "      <td>116.000000</td>\n",
       "      <td>1.000000</td>\n",
       "      <td>490.000000</td>\n",
       "      <td>527.000000</td>\n",
       "    </tr>\n",
       "    <tr>\n",
       "      <th>max</th>\n",
       "      <td>8.792010e+09</td>\n",
       "      <td>2016-05-12 00:00:00</td>\n",
       "      <td>23.000000</td>\n",
       "      <td>6357.000000</td>\n",
       "      <td>669.000000</td>\n",
       "      <td>3.000000</td>\n",
       "      <td>796.000000</td>\n",
       "      <td>961.000000</td>\n",
       "    </tr>\n",
       "    <tr>\n",
       "      <th>std</th>\n",
       "      <td>2.061709e+09</td>\n",
       "      <td>NaN</td>\n",
       "      <td>6.921310</td>\n",
       "      <td>652.315167</td>\n",
       "      <td>63.093154</td>\n",
       "      <td>0.348436</td>\n",
       "      <td>119.086005</td>\n",
       "      <td>127.957661</td>\n",
       "    </tr>\n",
       "  </tbody>\n",
       "</table>\n",
       "</div>"
      ],
      "text/plain": [
       "                 id                    activityday     datehour    steptotal  \\\n",
       "count  9.699000e+03                           9699  9699.000000  9699.000000   \n",
       "mean   4.994838e+09  2016-04-26 06:56:27.318280448    11.422312   357.678420   \n",
       "min    1.503960e+09            2016-04-12 00:00:00     0.000000     0.000000   \n",
       "25%    3.977334e+09            2016-04-19 00:00:00     5.000000     0.000000   \n",
       "50%    4.702922e+09            2016-04-26 00:00:00    11.000000   107.000000   \n",
       "75%    6.962181e+09            2016-05-03 00:00:00    17.000000   419.000000   \n",
       "max    8.792010e+09            2016-05-12 00:00:00    23.000000  6357.000000   \n",
       "std    2.061709e+09                            NaN     6.921310   652.315167   \n",
       "\n",
       "          calories  totalsleeprecords  totalminutesasleep  totaltimeinbed  \n",
       "count  9699.000000        9699.000000         9699.000000     9699.000000  \n",
       "mean    100.636560           1.121250          419.051036      458.449118  \n",
       "min      42.000000           1.000000           58.000000       61.000000  \n",
       "25%      63.000000           1.000000          361.000000      402.500000  \n",
       "50%      84.000000           1.000000          432.000000      463.000000  \n",
       "75%     116.000000           1.000000          490.000000      527.000000  \n",
       "max     669.000000           3.000000          796.000000      961.000000  \n",
       "std      63.093154           0.348436          119.086005      127.957661  "
      ]
     },
     "execution_count": 34,
     "metadata": {},
     "output_type": "execute_result"
    }
   ],
   "source": [
    "merged_df.describe()"
   ]
  },
  {
   "cell_type": "code",
   "execution_count": 35,
   "metadata": {},
   "outputs": [
    {
     "data": {
      "text/html": [
       "<div>\n",
       "<style scoped>\n",
       "    .dataframe tbody tr th:only-of-type {\n",
       "        vertical-align: middle;\n",
       "    }\n",
       "\n",
       "    .dataframe tbody tr th {\n",
       "        vertical-align: top;\n",
       "    }\n",
       "\n",
       "    .dataframe thead th {\n",
       "        text-align: right;\n",
       "    }\n",
       "</style>\n",
       "<table border=\"1\" class=\"dataframe\">\n",
       "  <thead>\n",
       "    <tr style=\"text-align: right;\">\n",
       "      <th></th>\n",
       "      <th>id</th>\n",
       "      <th>activityday</th>\n",
       "      <th>totalsteps</th>\n",
       "      <th>totaldistance</th>\n",
       "      <th>trackerdistance</th>\n",
       "      <th>loggedactivitiesdistance</th>\n",
       "      <th>veryactivedistance</th>\n",
       "      <th>moderatelyactivedistance</th>\n",
       "      <th>lightactivedistance</th>\n",
       "      <th>sedentaryactivedistance</th>\n",
       "      <th>...</th>\n",
       "      <th>fairlyactiveminutes</th>\n",
       "      <th>lightlyactiveminutes</th>\n",
       "      <th>sedentaryminutes</th>\n",
       "      <th>calories_x</th>\n",
       "      <th>datehour</th>\n",
       "      <th>steptotal</th>\n",
       "      <th>calories_y</th>\n",
       "      <th>totalsleeprecords</th>\n",
       "      <th>totalminutesasleep</th>\n",
       "      <th>totaltimeinbed</th>\n",
       "    </tr>\n",
       "  </thead>\n",
       "  <tbody>\n",
       "    <tr>\n",
       "      <th>count</th>\n",
       "      <td>9.699000e+03</td>\n",
       "      <td>9699</td>\n",
       "      <td>9699.000000</td>\n",
       "      <td>9699.000000</td>\n",
       "      <td>9699.000000</td>\n",
       "      <td>9699.000000</td>\n",
       "      <td>9699.000000</td>\n",
       "      <td>9699.000000</td>\n",
       "      <td>9699.000000</td>\n",
       "      <td>9699.000000</td>\n",
       "      <td>...</td>\n",
       "      <td>9699.000000</td>\n",
       "      <td>9699.000000</td>\n",
       "      <td>9699.000000</td>\n",
       "      <td>9699.000000</td>\n",
       "      <td>9699.000000</td>\n",
       "      <td>9699.000000</td>\n",
       "      <td>9699.000000</td>\n",
       "      <td>9699.000000</td>\n",
       "      <td>9699.000000</td>\n",
       "      <td>9699.000000</td>\n",
       "    </tr>\n",
       "    <tr>\n",
       "      <th>mean</th>\n",
       "      <td>4.994838e+09</td>\n",
       "      <td>2016-04-26 06:56:27.318280448</td>\n",
       "      <td>8594.890607</td>\n",
       "      <td>6.069106</td>\n",
       "      <td>6.064009</td>\n",
       "      <td>0.110450</td>\n",
       "      <td>1.462317</td>\n",
       "      <td>0.752590</td>\n",
       "      <td>3.822672</td>\n",
       "      <td>0.000940</td>\n",
       "      <td>...</td>\n",
       "      <td>18.130632</td>\n",
       "      <td>218.491082</td>\n",
       "      <td>719.552737</td>\n",
       "      <td>2409.273327</td>\n",
       "      <td>11.422312</td>\n",
       "      <td>357.678420</td>\n",
       "      <td>100.636560</td>\n",
       "      <td>1.121250</td>\n",
       "      <td>419.051036</td>\n",
       "      <td>458.449118</td>\n",
       "    </tr>\n",
       "    <tr>\n",
       "      <th>min</th>\n",
       "      <td>1.503960e+09</td>\n",
       "      <td>2016-04-12 00:00:00</td>\n",
       "      <td>17.000000</td>\n",
       "      <td>0.010000</td>\n",
       "      <td>0.010000</td>\n",
       "      <td>0.000000</td>\n",
       "      <td>0.000000</td>\n",
       "      <td>0.000000</td>\n",
       "      <td>0.010000</td>\n",
       "      <td>0.000000</td>\n",
       "      <td>...</td>\n",
       "      <td>0.000000</td>\n",
       "      <td>2.000000</td>\n",
       "      <td>0.000000</td>\n",
       "      <td>257.000000</td>\n",
       "      <td>0.000000</td>\n",
       "      <td>0.000000</td>\n",
       "      <td>42.000000</td>\n",
       "      <td>1.000000</td>\n",
       "      <td>58.000000</td>\n",
       "      <td>61.000000</td>\n",
       "    </tr>\n",
       "    <tr>\n",
       "      <th>25%</th>\n",
       "      <td>3.977334e+09</td>\n",
       "      <td>2016-04-19 00:00:00</td>\n",
       "      <td>5275.000000</td>\n",
       "      <td>3.620000</td>\n",
       "      <td>3.620000</td>\n",
       "      <td>0.000000</td>\n",
       "      <td>0.000000</td>\n",
       "      <td>0.000000</td>\n",
       "      <td>2.580000</td>\n",
       "      <td>0.000000</td>\n",
       "      <td>...</td>\n",
       "      <td>0.000000</td>\n",
       "      <td>159.000000</td>\n",
       "      <td>637.000000</td>\n",
       "      <td>1859.000000</td>\n",
       "      <td>5.000000</td>\n",
       "      <td>0.000000</td>\n",
       "      <td>63.000000</td>\n",
       "      <td>1.000000</td>\n",
       "      <td>361.000000</td>\n",
       "      <td>402.500000</td>\n",
       "    </tr>\n",
       "    <tr>\n",
       "      <th>50%</th>\n",
       "      <td>4.702922e+09</td>\n",
       "      <td>2016-04-26 00:00:00</td>\n",
       "      <td>8954.000000</td>\n",
       "      <td>6.340000</td>\n",
       "      <td>6.340000</td>\n",
       "      <td>0.000000</td>\n",
       "      <td>0.580000</td>\n",
       "      <td>0.420000</td>\n",
       "      <td>3.690000</td>\n",
       "      <td>0.000000</td>\n",
       "      <td>...</td>\n",
       "      <td>11.000000</td>\n",
       "      <td>209.000000</td>\n",
       "      <td>720.000000</td>\n",
       "      <td>2220.000000</td>\n",
       "      <td>11.000000</td>\n",
       "      <td>107.000000</td>\n",
       "      <td>84.000000</td>\n",
       "      <td>1.000000</td>\n",
       "      <td>432.000000</td>\n",
       "      <td>463.000000</td>\n",
       "    </tr>\n",
       "    <tr>\n",
       "      <th>75%</th>\n",
       "      <td>6.962181e+09</td>\n",
       "      <td>2016-05-03 00:00:00</td>\n",
       "      <td>11393.000000</td>\n",
       "      <td>8.030000</td>\n",
       "      <td>8.020000</td>\n",
       "      <td>0.000000</td>\n",
       "      <td>2.410000</td>\n",
       "      <td>1.040000</td>\n",
       "      <td>4.930000</td>\n",
       "      <td>0.000000</td>\n",
       "      <td>...</td>\n",
       "      <td>27.000000</td>\n",
       "      <td>263.000000</td>\n",
       "      <td>784.000000</td>\n",
       "      <td>2926.000000</td>\n",
       "      <td>17.000000</td>\n",
       "      <td>419.000000</td>\n",
       "      <td>116.000000</td>\n",
       "      <td>1.000000</td>\n",
       "      <td>490.000000</td>\n",
       "      <td>527.000000</td>\n",
       "    </tr>\n",
       "    <tr>\n",
       "      <th>max</th>\n",
       "      <td>8.792010e+09</td>\n",
       "      <td>2016-05-12 00:00:00</td>\n",
       "      <td>22770.000000</td>\n",
       "      <td>17.540001</td>\n",
       "      <td>17.540001</td>\n",
       "      <td>4.081692</td>\n",
       "      <td>12.540000</td>\n",
       "      <td>6.480000</td>\n",
       "      <td>9.480000</td>\n",
       "      <td>0.110000</td>\n",
       "      <td>...</td>\n",
       "      <td>143.000000</td>\n",
       "      <td>518.000000</td>\n",
       "      <td>1265.000000</td>\n",
       "      <td>4900.000000</td>\n",
       "      <td>23.000000</td>\n",
       "      <td>6357.000000</td>\n",
       "      <td>669.000000</td>\n",
       "      <td>3.000000</td>\n",
       "      <td>796.000000</td>\n",
       "      <td>961.000000</td>\n",
       "    </tr>\n",
       "    <tr>\n",
       "      <th>std</th>\n",
       "      <td>2.061709e+09</td>\n",
       "      <td>NaN</td>\n",
       "      <td>4116.151608</td>\n",
       "      <td>3.017963</td>\n",
       "      <td>3.013294</td>\n",
       "      <td>0.508418</td>\n",
       "      <td>1.998775</td>\n",
       "      <td>1.002962</td>\n",
       "      <td>1.701317</td>\n",
       "      <td>0.008737</td>\n",
       "      <td>...</td>\n",
       "      <td>22.479283</td>\n",
       "      <td>85.050096</td>\n",
       "      <td>153.992156</td>\n",
       "      <td>741.953976</td>\n",
       "      <td>6.921310</td>\n",
       "      <td>652.315167</td>\n",
       "      <td>63.093154</td>\n",
       "      <td>0.348436</td>\n",
       "      <td>119.086005</td>\n",
       "      <td>127.957661</td>\n",
       "    </tr>\n",
       "  </tbody>\n",
       "</table>\n",
       "<p>8 rows × 21 columns</p>\n",
       "</div>"
      ],
      "text/plain": [
       "                 id                    activityday    totalsteps  \\\n",
       "count  9.699000e+03                           9699   9699.000000   \n",
       "mean   4.994838e+09  2016-04-26 06:56:27.318280448   8594.890607   \n",
       "min    1.503960e+09            2016-04-12 00:00:00     17.000000   \n",
       "25%    3.977334e+09            2016-04-19 00:00:00   5275.000000   \n",
       "50%    4.702922e+09            2016-04-26 00:00:00   8954.000000   \n",
       "75%    6.962181e+09            2016-05-03 00:00:00  11393.000000   \n",
       "max    8.792010e+09            2016-05-12 00:00:00  22770.000000   \n",
       "std    2.061709e+09                            NaN   4116.151608   \n",
       "\n",
       "       totaldistance  trackerdistance  loggedactivitiesdistance  \\\n",
       "count    9699.000000      9699.000000               9699.000000   \n",
       "mean        6.069106         6.064009                  0.110450   \n",
       "min         0.010000         0.010000                  0.000000   \n",
       "25%         3.620000         3.620000                  0.000000   \n",
       "50%         6.340000         6.340000                  0.000000   \n",
       "75%         8.030000         8.020000                  0.000000   \n",
       "max        17.540001        17.540001                  4.081692   \n",
       "std         3.017963         3.013294                  0.508418   \n",
       "\n",
       "       veryactivedistance  moderatelyactivedistance  lightactivedistance  \\\n",
       "count         9699.000000               9699.000000          9699.000000   \n",
       "mean             1.462317                  0.752590             3.822672   \n",
       "min              0.000000                  0.000000             0.010000   \n",
       "25%              0.000000                  0.000000             2.580000   \n",
       "50%              0.580000                  0.420000             3.690000   \n",
       "75%              2.410000                  1.040000             4.930000   \n",
       "max             12.540000                  6.480000             9.480000   \n",
       "std              1.998775                  1.002962             1.701317   \n",
       "\n",
       "       sedentaryactivedistance  ...  fairlyactiveminutes  \\\n",
       "count              9699.000000  ...          9699.000000   \n",
       "mean                  0.000940  ...            18.130632   \n",
       "min                   0.000000  ...             0.000000   \n",
       "25%                   0.000000  ...             0.000000   \n",
       "50%                   0.000000  ...            11.000000   \n",
       "75%                   0.000000  ...            27.000000   \n",
       "max                   0.110000  ...           143.000000   \n",
       "std                   0.008737  ...            22.479283   \n",
       "\n",
       "       lightlyactiveminutes  sedentaryminutes   calories_x     datehour  \\\n",
       "count           9699.000000       9699.000000  9699.000000  9699.000000   \n",
       "mean             218.491082        719.552737  2409.273327    11.422312   \n",
       "min                2.000000          0.000000   257.000000     0.000000   \n",
       "25%              159.000000        637.000000  1859.000000     5.000000   \n",
       "50%              209.000000        720.000000  2220.000000    11.000000   \n",
       "75%              263.000000        784.000000  2926.000000    17.000000   \n",
       "max              518.000000       1265.000000  4900.000000    23.000000   \n",
       "std               85.050096        153.992156   741.953976     6.921310   \n",
       "\n",
       "         steptotal   calories_y  totalsleeprecords  totalminutesasleep  \\\n",
       "count  9699.000000  9699.000000        9699.000000         9699.000000   \n",
       "mean    357.678420   100.636560           1.121250          419.051036   \n",
       "min       0.000000    42.000000           1.000000           58.000000   \n",
       "25%       0.000000    63.000000           1.000000          361.000000   \n",
       "50%     107.000000    84.000000           1.000000          432.000000   \n",
       "75%     419.000000   116.000000           1.000000          490.000000   \n",
       "max    6357.000000   669.000000           3.000000          796.000000   \n",
       "std     652.315167    63.093154           0.348436          119.086005   \n",
       "\n",
       "       totaltimeinbed  \n",
       "count     9699.000000  \n",
       "mean       458.449118  \n",
       "min         61.000000  \n",
       "25%        402.500000  \n",
       "50%        463.000000  \n",
       "75%        527.000000  \n",
       "max        961.000000  \n",
       "std        127.957661  \n",
       "\n",
       "[8 rows x 21 columns]"
      ]
     },
     "execution_count": 35,
     "metadata": {},
     "output_type": "execute_result"
    }
   ],
   "source": [
    "merged_df2.describe()"
   ]
  },
  {
   "cell_type": "code",
   "execution_count": 36,
   "metadata": {},
   "outputs": [
    {
     "data": {
      "text/html": [
       "<div>\n",
       "<style scoped>\n",
       "    .dataframe tbody tr th:only-of-type {\n",
       "        vertical-align: middle;\n",
       "    }\n",
       "\n",
       "    .dataframe tbody tr th {\n",
       "        vertical-align: top;\n",
       "    }\n",
       "\n",
       "    .dataframe thead th {\n",
       "        text-align: right;\n",
       "    }\n",
       "</style>\n",
       "<table border=\"1\" class=\"dataframe\">\n",
       "  <thead>\n",
       "    <tr style=\"text-align: right;\">\n",
       "      <th></th>\n",
       "      <th>sedentaryminutes</th>\n",
       "      <th>totalactiveminus</th>\n",
       "    </tr>\n",
       "    <tr>\n",
       "      <th>id</th>\n",
       "      <th></th>\n",
       "      <th></th>\n",
       "    </tr>\n",
       "  </thead>\n",
       "  <tbody>\n",
       "    <tr>\n",
       "      <th>1503960366</th>\n",
       "      <td>848.161290</td>\n",
       "      <td>277.806452</td>\n",
       "    </tr>\n",
       "    <tr>\n",
       "      <th>1624580081</th>\n",
       "      <td>1257.741935</td>\n",
       "      <td>167.967742</td>\n",
       "    </tr>\n",
       "    <tr>\n",
       "      <th>1644430081</th>\n",
       "      <td>1161.866667</td>\n",
       "      <td>209.400000</td>\n",
       "    </tr>\n",
       "    <tr>\n",
       "      <th>1844505072</th>\n",
       "      <td>1206.612903</td>\n",
       "      <td>116.870968</td>\n",
       "    </tr>\n",
       "    <tr>\n",
       "      <th>1927972279</th>\n",
       "      <td>1317.419355</td>\n",
       "      <td>40.677419</td>\n",
       "    </tr>\n",
       "    <tr>\n",
       "      <th>2022484408</th>\n",
       "      <td>1112.580645</td>\n",
       "      <td>313.096774</td>\n",
       "    </tr>\n",
       "    <tr>\n",
       "      <th>2026352035</th>\n",
       "      <td>689.419355</td>\n",
       "      <td>257.000000</td>\n",
       "    </tr>\n",
       "    <tr>\n",
       "      <th>2320127002</th>\n",
       "      <td>1220.096774</td>\n",
       "      <td>202.129032</td>\n",
       "    </tr>\n",
       "    <tr>\n",
       "      <th>2347167796</th>\n",
       "      <td>687.166667</td>\n",
       "      <td>286.555556</td>\n",
       "    </tr>\n",
       "    <tr>\n",
       "      <th>2873212765</th>\n",
       "      <td>1097.193548</td>\n",
       "      <td>328.225806</td>\n",
       "    </tr>\n",
       "    <tr>\n",
       "      <th>3372868164</th>\n",
       "      <td>1077.550000</td>\n",
       "      <td>341.150000</td>\n",
       "    </tr>\n",
       "    <tr>\n",
       "      <th>3977333714</th>\n",
       "      <td>707.533333</td>\n",
       "      <td>254.933333</td>\n",
       "    </tr>\n",
       "    <tr>\n",
       "      <th>4020332650</th>\n",
       "      <td>1237.258065</td>\n",
       "      <td>87.483871</td>\n",
       "    </tr>\n",
       "    <tr>\n",
       "      <th>4057192912</th>\n",
       "      <td>1217.250000</td>\n",
       "      <td>105.250000</td>\n",
       "    </tr>\n",
       "    <tr>\n",
       "      <th>4319703577</th>\n",
       "      <td>735.806452</td>\n",
       "      <td>244.677419</td>\n",
       "    </tr>\n",
       "    <tr>\n",
       "      <th>4388161847</th>\n",
       "      <td>836.677419</td>\n",
       "      <td>272.870968</td>\n",
       "    </tr>\n",
       "    <tr>\n",
       "      <th>4445114986</th>\n",
       "      <td>829.903226</td>\n",
       "      <td>217.451613</td>\n",
       "    </tr>\n",
       "    <tr>\n",
       "      <th>4558609924</th>\n",
       "      <td>1093.612903</td>\n",
       "      <td>309.064516</td>\n",
       "    </tr>\n",
       "    <tr>\n",
       "      <th>4702921684</th>\n",
       "      <td>766.419355</td>\n",
       "      <td>268.645161</td>\n",
       "    </tr>\n",
       "    <tr>\n",
       "      <th>5553957443</th>\n",
       "      <td>668.354839</td>\n",
       "      <td>242.612903</td>\n",
       "    </tr>\n",
       "    <tr>\n",
       "      <th>5577150313</th>\n",
       "      <td>754.433333</td>\n",
       "      <td>265.100000</td>\n",
       "    </tr>\n",
       "    <tr>\n",
       "      <th>6117666160</th>\n",
       "      <td>796.285714</td>\n",
       "      <td>291.964286</td>\n",
       "    </tr>\n",
       "    <tr>\n",
       "      <th>6290855005</th>\n",
       "      <td>1193.034483</td>\n",
       "      <td>234.000000</td>\n",
       "    </tr>\n",
       "    <tr>\n",
       "      <th>6775888955</th>\n",
       "      <td>1299.423077</td>\n",
       "      <td>65.961538</td>\n",
       "    </tr>\n",
       "    <tr>\n",
       "      <th>6962181067</th>\n",
       "      <td>662.322581</td>\n",
       "      <td>287.129032</td>\n",
       "    </tr>\n",
       "    <tr>\n",
       "      <th>7007744171</th>\n",
       "      <td>1055.346154</td>\n",
       "      <td>328.038462</td>\n",
       "    </tr>\n",
       "    <tr>\n",
       "      <th>7086361926</th>\n",
       "      <td>850.451613</td>\n",
       "      <td>211.774194</td>\n",
       "    </tr>\n",
       "    <tr>\n",
       "      <th>8053475328</th>\n",
       "      <td>1148.000000</td>\n",
       "      <td>245.709677</td>\n",
       "    </tr>\n",
       "    <tr>\n",
       "      <th>8253242879</th>\n",
       "      <td>1287.368421</td>\n",
       "      <td>151.736842</td>\n",
       "    </tr>\n",
       "    <tr>\n",
       "      <th>8378563200</th>\n",
       "      <td>716.129032</td>\n",
       "      <td>225.032258</td>\n",
       "    </tr>\n",
       "    <tr>\n",
       "      <th>8583815059</th>\n",
       "      <td>1267.225806</td>\n",
       "      <td>170.161290</td>\n",
       "    </tr>\n",
       "    <tr>\n",
       "      <th>8792009665</th>\n",
       "      <td>1060.482759</td>\n",
       "      <td>96.793103</td>\n",
       "    </tr>\n",
       "    <tr>\n",
       "      <th>8877689391</th>\n",
       "      <td>1112.870968</td>\n",
       "      <td>310.709677</td>\n",
       "    </tr>\n",
       "    <tr>\n",
       "      <th>Total</th>\n",
       "      <td>991.210638</td>\n",
       "      <td>227.542553</td>\n",
       "    </tr>\n",
       "  </tbody>\n",
       "</table>\n",
       "</div>"
      ],
      "text/plain": [
       "            sedentaryminutes  totalactiveminus\n",
       "id                                            \n",
       "1503960366        848.161290        277.806452\n",
       "1624580081       1257.741935        167.967742\n",
       "1644430081       1161.866667        209.400000\n",
       "1844505072       1206.612903        116.870968\n",
       "1927972279       1317.419355         40.677419\n",
       "2022484408       1112.580645        313.096774\n",
       "2026352035        689.419355        257.000000\n",
       "2320127002       1220.096774        202.129032\n",
       "2347167796        687.166667        286.555556\n",
       "2873212765       1097.193548        328.225806\n",
       "3372868164       1077.550000        341.150000\n",
       "3977333714        707.533333        254.933333\n",
       "4020332650       1237.258065         87.483871\n",
       "4057192912       1217.250000        105.250000\n",
       "4319703577        735.806452        244.677419\n",
       "4388161847        836.677419        272.870968\n",
       "4445114986        829.903226        217.451613\n",
       "4558609924       1093.612903        309.064516\n",
       "4702921684        766.419355        268.645161\n",
       "5553957443        668.354839        242.612903\n",
       "5577150313        754.433333        265.100000\n",
       "6117666160        796.285714        291.964286\n",
       "6290855005       1193.034483        234.000000\n",
       "6775888955       1299.423077         65.961538\n",
       "6962181067        662.322581        287.129032\n",
       "7007744171       1055.346154        328.038462\n",
       "7086361926        850.451613        211.774194\n",
       "8053475328       1148.000000        245.709677\n",
       "8253242879       1287.368421        151.736842\n",
       "8378563200        716.129032        225.032258\n",
       "8583815059       1267.225806        170.161290\n",
       "8792009665       1060.482759         96.793103\n",
       "8877689391       1112.870968        310.709677\n",
       "Total             991.210638        227.542553"
      ]
     },
     "execution_count": 36,
     "metadata": {},
     "output_type": "execute_result"
    }
   ],
   "source": [
    "pv1 = pd.pivot_table(data=daily_activity,\n",
    "                      index='id',\n",
    "                      values=['totalactiveminus','sedentaryminutes'],\n",
    "                      aggfunc='mean',\n",
    "                      margins=True,\n",
    "                      margins_name='Total')\n",
    "pv1"
   ]
  },
  {
   "cell_type": "code",
   "execution_count": 37,
   "metadata": {},
   "outputs": [
    {
     "data": {
      "application/vnd.plotly.v1+json": {
       "config": {
        "plotlyServerURL": "https://plot.ly"
       },
       "data": [
        {
         "hovertemplate": "color=veryactivedistance<br>x=%{x}<br>y=%{y}<extra></extra>",
         "legendgroup": "veryactivedistance",
         "marker": {
          "color": "#636efa",
          "pattern": {
           "shape": ""
          }
         },
         "name": "veryactivedistance",
         "orientation": "v",
         "showlegend": true,
         "textposition": "auto",
         "type": "bar",
         "x": [
          "veryactivedistance"
         ],
         "xaxis": "x",
         "y": {
          "bdata": "AEDdehQSlkA=",
          "dtype": "f8"
         },
         "yaxis": "y"
        },
        {
         "hovertemplate": "color=moderatelyactivedistance<br>x=%{x}<br>y=%{y}<extra></extra>",
         "legendgroup": "moderatelyactivedistance",
         "marker": {
          "color": "#EF553B",
          "pattern": {
           "shape": ""
          }
         },
         "name": "moderatelyactivedistance",
         "orientation": "v",
         "showlegend": true,
         "textposition": "auto",
         "type": "bar",
         "x": [
          "moderatelyactivedistance"
         ],
         "xaxis": "x",
         "y": {
          "bdata": "AAA5hOurgEA=",
          "dtype": "f8"
         },
         "yaxis": "y"
        },
        {
         "hovertemplate": "color=lightactivedistance<br>x=%{x}<br>y=%{y}<extra></extra>",
         "legendgroup": "lightactivedistance",
         "marker": {
          "color": "#00cc96",
          "pattern": {
           "shape": ""
          }
         },
         "name": "lightactivedistance",
         "orientation": "v",
         "showlegend": true,
         "textposition": "auto",
         "type": "bar",
         "x": [
          "lightactivedistance"
         ],
         "xaxis": "x",
         "y": {
          "bdata": "AOCYcL2IqEA=",
          "dtype": "f8"
         },
         "yaxis": "y"
        }
       ],
       "layout": {
        "barmode": "relative",
        "legend": {
         "title": {
          "text": "color"
         },
         "tracegroupgap": 0
        },
        "margin": {
         "t": 60
        },
        "template": {
         "data": {
          "bar": [
           {
            "error_x": {
             "color": "#2a3f5f"
            },
            "error_y": {
             "color": "#2a3f5f"
            },
            "marker": {
             "line": {
              "color": "#E5ECF6",
              "width": 0.5
             },
             "pattern": {
              "fillmode": "overlay",
              "size": 10,
              "solidity": 0.2
             }
            },
            "type": "bar"
           }
          ],
          "barpolar": [
           {
            "marker": {
             "line": {
              "color": "#E5ECF6",
              "width": 0.5
             },
             "pattern": {
              "fillmode": "overlay",
              "size": 10,
              "solidity": 0.2
             }
            },
            "type": "barpolar"
           }
          ],
          "carpet": [
           {
            "aaxis": {
             "endlinecolor": "#2a3f5f",
             "gridcolor": "white",
             "linecolor": "white",
             "minorgridcolor": "white",
             "startlinecolor": "#2a3f5f"
            },
            "baxis": {
             "endlinecolor": "#2a3f5f",
             "gridcolor": "white",
             "linecolor": "white",
             "minorgridcolor": "white",
             "startlinecolor": "#2a3f5f"
            },
            "type": "carpet"
           }
          ],
          "choropleth": [
           {
            "colorbar": {
             "outlinewidth": 0,
             "ticks": ""
            },
            "type": "choropleth"
           }
          ],
          "contour": [
           {
            "colorbar": {
             "outlinewidth": 0,
             "ticks": ""
            },
            "colorscale": [
             [
              0,
              "#0d0887"
             ],
             [
              0.1111111111111111,
              "#46039f"
             ],
             [
              0.2222222222222222,
              "#7201a8"
             ],
             [
              0.3333333333333333,
              "#9c179e"
             ],
             [
              0.4444444444444444,
              "#bd3786"
             ],
             [
              0.5555555555555556,
              "#d8576b"
             ],
             [
              0.6666666666666666,
              "#ed7953"
             ],
             [
              0.7777777777777778,
              "#fb9f3a"
             ],
             [
              0.8888888888888888,
              "#fdca26"
             ],
             [
              1,
              "#f0f921"
             ]
            ],
            "type": "contour"
           }
          ],
          "contourcarpet": [
           {
            "colorbar": {
             "outlinewidth": 0,
             "ticks": ""
            },
            "type": "contourcarpet"
           }
          ],
          "heatmap": [
           {
            "colorbar": {
             "outlinewidth": 0,
             "ticks": ""
            },
            "colorscale": [
             [
              0,
              "#0d0887"
             ],
             [
              0.1111111111111111,
              "#46039f"
             ],
             [
              0.2222222222222222,
              "#7201a8"
             ],
             [
              0.3333333333333333,
              "#9c179e"
             ],
             [
              0.4444444444444444,
              "#bd3786"
             ],
             [
              0.5555555555555556,
              "#d8576b"
             ],
             [
              0.6666666666666666,
              "#ed7953"
             ],
             [
              0.7777777777777778,
              "#fb9f3a"
             ],
             [
              0.8888888888888888,
              "#fdca26"
             ],
             [
              1,
              "#f0f921"
             ]
            ],
            "type": "heatmap"
           }
          ],
          "histogram": [
           {
            "marker": {
             "pattern": {
              "fillmode": "overlay",
              "size": 10,
              "solidity": 0.2
             }
            },
            "type": "histogram"
           }
          ],
          "histogram2d": [
           {
            "colorbar": {
             "outlinewidth": 0,
             "ticks": ""
            },
            "colorscale": [
             [
              0,
              "#0d0887"
             ],
             [
              0.1111111111111111,
              "#46039f"
             ],
             [
              0.2222222222222222,
              "#7201a8"
             ],
             [
              0.3333333333333333,
              "#9c179e"
             ],
             [
              0.4444444444444444,
              "#bd3786"
             ],
             [
              0.5555555555555556,
              "#d8576b"
             ],
             [
              0.6666666666666666,
              "#ed7953"
             ],
             [
              0.7777777777777778,
              "#fb9f3a"
             ],
             [
              0.8888888888888888,
              "#fdca26"
             ],
             [
              1,
              "#f0f921"
             ]
            ],
            "type": "histogram2d"
           }
          ],
          "histogram2dcontour": [
           {
            "colorbar": {
             "outlinewidth": 0,
             "ticks": ""
            },
            "colorscale": [
             [
              0,
              "#0d0887"
             ],
             [
              0.1111111111111111,
              "#46039f"
             ],
             [
              0.2222222222222222,
              "#7201a8"
             ],
             [
              0.3333333333333333,
              "#9c179e"
             ],
             [
              0.4444444444444444,
              "#bd3786"
             ],
             [
              0.5555555555555556,
              "#d8576b"
             ],
             [
              0.6666666666666666,
              "#ed7953"
             ],
             [
              0.7777777777777778,
              "#fb9f3a"
             ],
             [
              0.8888888888888888,
              "#fdca26"
             ],
             [
              1,
              "#f0f921"
             ]
            ],
            "type": "histogram2dcontour"
           }
          ],
          "mesh3d": [
           {
            "colorbar": {
             "outlinewidth": 0,
             "ticks": ""
            },
            "type": "mesh3d"
           }
          ],
          "parcoords": [
           {
            "line": {
             "colorbar": {
              "outlinewidth": 0,
              "ticks": ""
             }
            },
            "type": "parcoords"
           }
          ],
          "pie": [
           {
            "automargin": true,
            "type": "pie"
           }
          ],
          "scatter": [
           {
            "fillpattern": {
             "fillmode": "overlay",
             "size": 10,
             "solidity": 0.2
            },
            "type": "scatter"
           }
          ],
          "scatter3d": [
           {
            "line": {
             "colorbar": {
              "outlinewidth": 0,
              "ticks": ""
             }
            },
            "marker": {
             "colorbar": {
              "outlinewidth": 0,
              "ticks": ""
             }
            },
            "type": "scatter3d"
           }
          ],
          "scattercarpet": [
           {
            "marker": {
             "colorbar": {
              "outlinewidth": 0,
              "ticks": ""
             }
            },
            "type": "scattercarpet"
           }
          ],
          "scattergeo": [
           {
            "marker": {
             "colorbar": {
              "outlinewidth": 0,
              "ticks": ""
             }
            },
            "type": "scattergeo"
           }
          ],
          "scattergl": [
           {
            "marker": {
             "colorbar": {
              "outlinewidth": 0,
              "ticks": ""
             }
            },
            "type": "scattergl"
           }
          ],
          "scattermap": [
           {
            "marker": {
             "colorbar": {
              "outlinewidth": 0,
              "ticks": ""
             }
            },
            "type": "scattermap"
           }
          ],
          "scattermapbox": [
           {
            "marker": {
             "colorbar": {
              "outlinewidth": 0,
              "ticks": ""
             }
            },
            "type": "scattermapbox"
           }
          ],
          "scatterpolar": [
           {
            "marker": {
             "colorbar": {
              "outlinewidth": 0,
              "ticks": ""
             }
            },
            "type": "scatterpolar"
           }
          ],
          "scatterpolargl": [
           {
            "marker": {
             "colorbar": {
              "outlinewidth": 0,
              "ticks": ""
             }
            },
            "type": "scatterpolargl"
           }
          ],
          "scatterternary": [
           {
            "marker": {
             "colorbar": {
              "outlinewidth": 0,
              "ticks": ""
             }
            },
            "type": "scatterternary"
           }
          ],
          "surface": [
           {
            "colorbar": {
             "outlinewidth": 0,
             "ticks": ""
            },
            "colorscale": [
             [
              0,
              "#0d0887"
             ],
             [
              0.1111111111111111,
              "#46039f"
             ],
             [
              0.2222222222222222,
              "#7201a8"
             ],
             [
              0.3333333333333333,
              "#9c179e"
             ],
             [
              0.4444444444444444,
              "#bd3786"
             ],
             [
              0.5555555555555556,
              "#d8576b"
             ],
             [
              0.6666666666666666,
              "#ed7953"
             ],
             [
              0.7777777777777778,
              "#fb9f3a"
             ],
             [
              0.8888888888888888,
              "#fdca26"
             ],
             [
              1,
              "#f0f921"
             ]
            ],
            "type": "surface"
           }
          ],
          "table": [
           {
            "cells": {
             "fill": {
              "color": "#EBF0F8"
             },
             "line": {
              "color": "white"
             }
            },
            "header": {
             "fill": {
              "color": "#C8D4E3"
             },
             "line": {
              "color": "white"
             }
            },
            "type": "table"
           }
          ]
         },
         "layout": {
          "annotationdefaults": {
           "arrowcolor": "#2a3f5f",
           "arrowhead": 0,
           "arrowwidth": 1
          },
          "autotypenumbers": "strict",
          "coloraxis": {
           "colorbar": {
            "outlinewidth": 0,
            "ticks": ""
           }
          },
          "colorscale": {
           "diverging": [
            [
             0,
             "#8e0152"
            ],
            [
             0.1,
             "#c51b7d"
            ],
            [
             0.2,
             "#de77ae"
            ],
            [
             0.3,
             "#f1b6da"
            ],
            [
             0.4,
             "#fde0ef"
            ],
            [
             0.5,
             "#f7f7f7"
            ],
            [
             0.6,
             "#e6f5d0"
            ],
            [
             0.7,
             "#b8e186"
            ],
            [
             0.8,
             "#7fbc41"
            ],
            [
             0.9,
             "#4d9221"
            ],
            [
             1,
             "#276419"
            ]
           ],
           "sequential": [
            [
             0,
             "#0d0887"
            ],
            [
             0.1111111111111111,
             "#46039f"
            ],
            [
             0.2222222222222222,
             "#7201a8"
            ],
            [
             0.3333333333333333,
             "#9c179e"
            ],
            [
             0.4444444444444444,
             "#bd3786"
            ],
            [
             0.5555555555555556,
             "#d8576b"
            ],
            [
             0.6666666666666666,
             "#ed7953"
            ],
            [
             0.7777777777777778,
             "#fb9f3a"
            ],
            [
             0.8888888888888888,
             "#fdca26"
            ],
            [
             1,
             "#f0f921"
            ]
           ],
           "sequentialminus": [
            [
             0,
             "#0d0887"
            ],
            [
             0.1111111111111111,
             "#46039f"
            ],
            [
             0.2222222222222222,
             "#7201a8"
            ],
            [
             0.3333333333333333,
             "#9c179e"
            ],
            [
             0.4444444444444444,
             "#bd3786"
            ],
            [
             0.5555555555555556,
             "#d8576b"
            ],
            [
             0.6666666666666666,
             "#ed7953"
            ],
            [
             0.7777777777777778,
             "#fb9f3a"
            ],
            [
             0.8888888888888888,
             "#fdca26"
            ],
            [
             1,
             "#f0f921"
            ]
           ]
          },
          "colorway": [
           "#636efa",
           "#EF553B",
           "#00cc96",
           "#ab63fa",
           "#FFA15A",
           "#19d3f3",
           "#FF6692",
           "#B6E880",
           "#FF97FF",
           "#FECB52"
          ],
          "font": {
           "color": "#2a3f5f"
          },
          "geo": {
           "bgcolor": "white",
           "lakecolor": "white",
           "landcolor": "#E5ECF6",
           "showlakes": true,
           "showland": true,
           "subunitcolor": "white"
          },
          "hoverlabel": {
           "align": "left"
          },
          "hovermode": "closest",
          "mapbox": {
           "style": "light"
          },
          "paper_bgcolor": "white",
          "plot_bgcolor": "#E5ECF6",
          "polar": {
           "angularaxis": {
            "gridcolor": "white",
            "linecolor": "white",
            "ticks": ""
           },
           "bgcolor": "#E5ECF6",
           "radialaxis": {
            "gridcolor": "white",
            "linecolor": "white",
            "ticks": ""
           }
          },
          "scene": {
           "xaxis": {
            "backgroundcolor": "#E5ECF6",
            "gridcolor": "white",
            "gridwidth": 2,
            "linecolor": "white",
            "showbackground": true,
            "ticks": "",
            "zerolinecolor": "white"
           },
           "yaxis": {
            "backgroundcolor": "#E5ECF6",
            "gridcolor": "white",
            "gridwidth": 2,
            "linecolor": "white",
            "showbackground": true,
            "ticks": "",
            "zerolinecolor": "white"
           },
           "zaxis": {
            "backgroundcolor": "#E5ECF6",
            "gridcolor": "white",
            "gridwidth": 2,
            "linecolor": "white",
            "showbackground": true,
            "ticks": "",
            "zerolinecolor": "white"
           }
          },
          "shapedefaults": {
           "line": {
            "color": "#2a3f5f"
           }
          },
          "ternary": {
           "aaxis": {
            "gridcolor": "white",
            "linecolor": "white",
            "ticks": ""
           },
           "baxis": {
            "gridcolor": "white",
            "linecolor": "white",
            "ticks": ""
           },
           "bgcolor": "#E5ECF6",
           "caxis": {
            "gridcolor": "white",
            "linecolor": "white",
            "ticks": ""
           }
          },
          "title": {
           "x": 0.05
          },
          "xaxis": {
           "automargin": true,
           "gridcolor": "white",
           "linecolor": "white",
           "ticks": "",
           "title": {
            "standoff": 15
           },
           "zerolinecolor": "white",
           "zerolinewidth": 2
          },
          "yaxis": {
           "automargin": true,
           "gridcolor": "white",
           "linecolor": "white",
           "ticks": "",
           "title": {
            "standoff": 15
           },
           "zerolinecolor": "white",
           "zerolinewidth": 2
          }
         }
        },
        "xaxis": {
         "anchor": "y",
         "domain": [
          0,
          1
         ],
         "title": {
          "text": "x"
         }
        },
        "yaxis": {
         "anchor": "x",
         "domain": [
          0,
          1
         ],
         "title": {
          "text": "y"
         }
        }
       }
      }
     },
     "metadata": {},
     "output_type": "display_data"
    }
   ],
   "source": [
    "y = np.array([\n",
    "    daily_activity['veryactivedistance'].sum(),\n",
    "    daily_activity['moderatelyactivedistance'].sum(),\n",
    "    daily_activity['lightactivedistance'].sum()])\n",
    "x = np.array(['veryactivedistance','moderatelyactivedistance','lightactivedistance'])\n",
    "plot0 = px.bar(x=x,y=y,color=x,labels=x)\n",
    "plot0"
   ]
  },
  {
   "cell_type": "markdown",
   "metadata": {},
   "source": [
    "#### Findings:\n",
    "- Lightactivedistance is highest at 3000, showing most subjects have low activity.\n",
    "- Veryactivedistance is moderate at 1500, indicating a smaller highly active group.\n",
    "- Moderatelyactivedistance is lowest at ~500, suggesting few subjects are in this range.\n",
    "- The data shows a polarized distribution with less moderate activity."
   ]
  },
  {
   "cell_type": "code",
   "execution_count": 38,
   "metadata": {},
   "outputs": [
    {
     "data": {
      "application/vnd.plotly.v1+json": {
       "config": {
        "plotlyServerURL": "https://plot.ly"
       },
       "data": [
        {
         "domain": {
          "x": [
           0,
           1
          ],
          "y": [
           0,
           1
          ]
         },
         "hovertemplate": "label=%{label}<br>value=%{value}<extra></extra>",
         "labels": [
          "sedentaryminutes",
          "lightlyactiveminutes",
          "fairlyactiveminutes",
          "veryactiveminutes"
         ],
         "legendgroup": "",
         "name": "",
         "showlegend": true,
         "type": "pie",
         "values": {
          "bdata": "mjcOAPzDAgDPMQAAt00AAA==",
          "dtype": "i4"
         }
        }
       ],
       "layout": {
        "legend": {
         "tracegroupgap": 0
        },
        "template": {
         "data": {
          "bar": [
           {
            "error_x": {
             "color": "#2a3f5f"
            },
            "error_y": {
             "color": "#2a3f5f"
            },
            "marker": {
             "line": {
              "color": "#E5ECF6",
              "width": 0.5
             },
             "pattern": {
              "fillmode": "overlay",
              "size": 10,
              "solidity": 0.2
             }
            },
            "type": "bar"
           }
          ],
          "barpolar": [
           {
            "marker": {
             "line": {
              "color": "#E5ECF6",
              "width": 0.5
             },
             "pattern": {
              "fillmode": "overlay",
              "size": 10,
              "solidity": 0.2
             }
            },
            "type": "barpolar"
           }
          ],
          "carpet": [
           {
            "aaxis": {
             "endlinecolor": "#2a3f5f",
             "gridcolor": "white",
             "linecolor": "white",
             "minorgridcolor": "white",
             "startlinecolor": "#2a3f5f"
            },
            "baxis": {
             "endlinecolor": "#2a3f5f",
             "gridcolor": "white",
             "linecolor": "white",
             "minorgridcolor": "white",
             "startlinecolor": "#2a3f5f"
            },
            "type": "carpet"
           }
          ],
          "choropleth": [
           {
            "colorbar": {
             "outlinewidth": 0,
             "ticks": ""
            },
            "type": "choropleth"
           }
          ],
          "contour": [
           {
            "colorbar": {
             "outlinewidth": 0,
             "ticks": ""
            },
            "colorscale": [
             [
              0,
              "#0d0887"
             ],
             [
              0.1111111111111111,
              "#46039f"
             ],
             [
              0.2222222222222222,
              "#7201a8"
             ],
             [
              0.3333333333333333,
              "#9c179e"
             ],
             [
              0.4444444444444444,
              "#bd3786"
             ],
             [
              0.5555555555555556,
              "#d8576b"
             ],
             [
              0.6666666666666666,
              "#ed7953"
             ],
             [
              0.7777777777777778,
              "#fb9f3a"
             ],
             [
              0.8888888888888888,
              "#fdca26"
             ],
             [
              1,
              "#f0f921"
             ]
            ],
            "type": "contour"
           }
          ],
          "contourcarpet": [
           {
            "colorbar": {
             "outlinewidth": 0,
             "ticks": ""
            },
            "type": "contourcarpet"
           }
          ],
          "heatmap": [
           {
            "colorbar": {
             "outlinewidth": 0,
             "ticks": ""
            },
            "colorscale": [
             [
              0,
              "#0d0887"
             ],
             [
              0.1111111111111111,
              "#46039f"
             ],
             [
              0.2222222222222222,
              "#7201a8"
             ],
             [
              0.3333333333333333,
              "#9c179e"
             ],
             [
              0.4444444444444444,
              "#bd3786"
             ],
             [
              0.5555555555555556,
              "#d8576b"
             ],
             [
              0.6666666666666666,
              "#ed7953"
             ],
             [
              0.7777777777777778,
              "#fb9f3a"
             ],
             [
              0.8888888888888888,
              "#fdca26"
             ],
             [
              1,
              "#f0f921"
             ]
            ],
            "type": "heatmap"
           }
          ],
          "histogram": [
           {
            "marker": {
             "pattern": {
              "fillmode": "overlay",
              "size": 10,
              "solidity": 0.2
             }
            },
            "type": "histogram"
           }
          ],
          "histogram2d": [
           {
            "colorbar": {
             "outlinewidth": 0,
             "ticks": ""
            },
            "colorscale": [
             [
              0,
              "#0d0887"
             ],
             [
              0.1111111111111111,
              "#46039f"
             ],
             [
              0.2222222222222222,
              "#7201a8"
             ],
             [
              0.3333333333333333,
              "#9c179e"
             ],
             [
              0.4444444444444444,
              "#bd3786"
             ],
             [
              0.5555555555555556,
              "#d8576b"
             ],
             [
              0.6666666666666666,
              "#ed7953"
             ],
             [
              0.7777777777777778,
              "#fb9f3a"
             ],
             [
              0.8888888888888888,
              "#fdca26"
             ],
             [
              1,
              "#f0f921"
             ]
            ],
            "type": "histogram2d"
           }
          ],
          "histogram2dcontour": [
           {
            "colorbar": {
             "outlinewidth": 0,
             "ticks": ""
            },
            "colorscale": [
             [
              0,
              "#0d0887"
             ],
             [
              0.1111111111111111,
              "#46039f"
             ],
             [
              0.2222222222222222,
              "#7201a8"
             ],
             [
              0.3333333333333333,
              "#9c179e"
             ],
             [
              0.4444444444444444,
              "#bd3786"
             ],
             [
              0.5555555555555556,
              "#d8576b"
             ],
             [
              0.6666666666666666,
              "#ed7953"
             ],
             [
              0.7777777777777778,
              "#fb9f3a"
             ],
             [
              0.8888888888888888,
              "#fdca26"
             ],
             [
              1,
              "#f0f921"
             ]
            ],
            "type": "histogram2dcontour"
           }
          ],
          "mesh3d": [
           {
            "colorbar": {
             "outlinewidth": 0,
             "ticks": ""
            },
            "type": "mesh3d"
           }
          ],
          "parcoords": [
           {
            "line": {
             "colorbar": {
              "outlinewidth": 0,
              "ticks": ""
             }
            },
            "type": "parcoords"
           }
          ],
          "pie": [
           {
            "automargin": true,
            "type": "pie"
           }
          ],
          "scatter": [
           {
            "fillpattern": {
             "fillmode": "overlay",
             "size": 10,
             "solidity": 0.2
            },
            "type": "scatter"
           }
          ],
          "scatter3d": [
           {
            "line": {
             "colorbar": {
              "outlinewidth": 0,
              "ticks": ""
             }
            },
            "marker": {
             "colorbar": {
              "outlinewidth": 0,
              "ticks": ""
             }
            },
            "type": "scatter3d"
           }
          ],
          "scattercarpet": [
           {
            "marker": {
             "colorbar": {
              "outlinewidth": 0,
              "ticks": ""
             }
            },
            "type": "scattercarpet"
           }
          ],
          "scattergeo": [
           {
            "marker": {
             "colorbar": {
              "outlinewidth": 0,
              "ticks": ""
             }
            },
            "type": "scattergeo"
           }
          ],
          "scattergl": [
           {
            "marker": {
             "colorbar": {
              "outlinewidth": 0,
              "ticks": ""
             }
            },
            "type": "scattergl"
           }
          ],
          "scattermap": [
           {
            "marker": {
             "colorbar": {
              "outlinewidth": 0,
              "ticks": ""
             }
            },
            "type": "scattermap"
           }
          ],
          "scattermapbox": [
           {
            "marker": {
             "colorbar": {
              "outlinewidth": 0,
              "ticks": ""
             }
            },
            "type": "scattermapbox"
           }
          ],
          "scatterpolar": [
           {
            "marker": {
             "colorbar": {
              "outlinewidth": 0,
              "ticks": ""
             }
            },
            "type": "scatterpolar"
           }
          ],
          "scatterpolargl": [
           {
            "marker": {
             "colorbar": {
              "outlinewidth": 0,
              "ticks": ""
             }
            },
            "type": "scatterpolargl"
           }
          ],
          "scatterternary": [
           {
            "marker": {
             "colorbar": {
              "outlinewidth": 0,
              "ticks": ""
             }
            },
            "type": "scatterternary"
           }
          ],
          "surface": [
           {
            "colorbar": {
             "outlinewidth": 0,
             "ticks": ""
            },
            "colorscale": [
             [
              0,
              "#0d0887"
             ],
             [
              0.1111111111111111,
              "#46039f"
             ],
             [
              0.2222222222222222,
              "#7201a8"
             ],
             [
              0.3333333333333333,
              "#9c179e"
             ],
             [
              0.4444444444444444,
              "#bd3786"
             ],
             [
              0.5555555555555556,
              "#d8576b"
             ],
             [
              0.6666666666666666,
              "#ed7953"
             ],
             [
              0.7777777777777778,
              "#fb9f3a"
             ],
             [
              0.8888888888888888,
              "#fdca26"
             ],
             [
              1,
              "#f0f921"
             ]
            ],
            "type": "surface"
           }
          ],
          "table": [
           {
            "cells": {
             "fill": {
              "color": "#EBF0F8"
             },
             "line": {
              "color": "white"
             }
            },
            "header": {
             "fill": {
              "color": "#C8D4E3"
             },
             "line": {
              "color": "white"
             }
            },
            "type": "table"
           }
          ]
         },
         "layout": {
          "annotationdefaults": {
           "arrowcolor": "#2a3f5f",
           "arrowhead": 0,
           "arrowwidth": 1
          },
          "autotypenumbers": "strict",
          "coloraxis": {
           "colorbar": {
            "outlinewidth": 0,
            "ticks": ""
           }
          },
          "colorscale": {
           "diverging": [
            [
             0,
             "#8e0152"
            ],
            [
             0.1,
             "#c51b7d"
            ],
            [
             0.2,
             "#de77ae"
            ],
            [
             0.3,
             "#f1b6da"
            ],
            [
             0.4,
             "#fde0ef"
            ],
            [
             0.5,
             "#f7f7f7"
            ],
            [
             0.6,
             "#e6f5d0"
            ],
            [
             0.7,
             "#b8e186"
            ],
            [
             0.8,
             "#7fbc41"
            ],
            [
             0.9,
             "#4d9221"
            ],
            [
             1,
             "#276419"
            ]
           ],
           "sequential": [
            [
             0,
             "#0d0887"
            ],
            [
             0.1111111111111111,
             "#46039f"
            ],
            [
             0.2222222222222222,
             "#7201a8"
            ],
            [
             0.3333333333333333,
             "#9c179e"
            ],
            [
             0.4444444444444444,
             "#bd3786"
            ],
            [
             0.5555555555555556,
             "#d8576b"
            ],
            [
             0.6666666666666666,
             "#ed7953"
            ],
            [
             0.7777777777777778,
             "#fb9f3a"
            ],
            [
             0.8888888888888888,
             "#fdca26"
            ],
            [
             1,
             "#f0f921"
            ]
           ],
           "sequentialminus": [
            [
             0,
             "#0d0887"
            ],
            [
             0.1111111111111111,
             "#46039f"
            ],
            [
             0.2222222222222222,
             "#7201a8"
            ],
            [
             0.3333333333333333,
             "#9c179e"
            ],
            [
             0.4444444444444444,
             "#bd3786"
            ],
            [
             0.5555555555555556,
             "#d8576b"
            ],
            [
             0.6666666666666666,
             "#ed7953"
            ],
            [
             0.7777777777777778,
             "#fb9f3a"
            ],
            [
             0.8888888888888888,
             "#fdca26"
            ],
            [
             1,
             "#f0f921"
            ]
           ]
          },
          "colorway": [
           "#636efa",
           "#EF553B",
           "#00cc96",
           "#ab63fa",
           "#FFA15A",
           "#19d3f3",
           "#FF6692",
           "#B6E880",
           "#FF97FF",
           "#FECB52"
          ],
          "font": {
           "color": "#2a3f5f"
          },
          "geo": {
           "bgcolor": "white",
           "lakecolor": "white",
           "landcolor": "#E5ECF6",
           "showlakes": true,
           "showland": true,
           "subunitcolor": "white"
          },
          "hoverlabel": {
           "align": "left"
          },
          "hovermode": "closest",
          "mapbox": {
           "style": "light"
          },
          "paper_bgcolor": "white",
          "plot_bgcolor": "#E5ECF6",
          "polar": {
           "angularaxis": {
            "gridcolor": "white",
            "linecolor": "white",
            "ticks": ""
           },
           "bgcolor": "#E5ECF6",
           "radialaxis": {
            "gridcolor": "white",
            "linecolor": "white",
            "ticks": ""
           }
          },
          "scene": {
           "xaxis": {
            "backgroundcolor": "#E5ECF6",
            "gridcolor": "white",
            "gridwidth": 2,
            "linecolor": "white",
            "showbackground": true,
            "ticks": "",
            "zerolinecolor": "white"
           },
           "yaxis": {
            "backgroundcolor": "#E5ECF6",
            "gridcolor": "white",
            "gridwidth": 2,
            "linecolor": "white",
            "showbackground": true,
            "ticks": "",
            "zerolinecolor": "white"
           },
           "zaxis": {
            "backgroundcolor": "#E5ECF6",
            "gridcolor": "white",
            "gridwidth": 2,
            "linecolor": "white",
            "showbackground": true,
            "ticks": "",
            "zerolinecolor": "white"
           }
          },
          "shapedefaults": {
           "line": {
            "color": "#2a3f5f"
           }
          },
          "ternary": {
           "aaxis": {
            "gridcolor": "white",
            "linecolor": "white",
            "ticks": ""
           },
           "baxis": {
            "gridcolor": "white",
            "linecolor": "white",
            "ticks": ""
           },
           "bgcolor": "#E5ECF6",
           "caxis": {
            "gridcolor": "white",
            "linecolor": "white",
            "ticks": ""
           }
          },
          "title": {
           "x": 0.05
          },
          "xaxis": {
           "automargin": true,
           "gridcolor": "white",
           "linecolor": "white",
           "ticks": "",
           "title": {
            "standoff": 15
           },
           "zerolinecolor": "white",
           "zerolinewidth": 2
          },
          "yaxis": {
           "automargin": true,
           "gridcolor": "white",
           "linecolor": "white",
           "ticks": "",
           "title": {
            "standoff": 15
           },
           "zerolinecolor": "white",
           "zerolinewidth": 2
          }
         }
        },
        "title": {
         "text": "Distribution of Total  Activeminutes"
        }
       }
      }
     },
     "metadata": {},
     "output_type": "display_data"
    }
   ],
   "source": [
    "sum_minus = daily_activity[['sedentaryminutes','lightlyactiveminutes','fairlyactiveminutes','veryactiveminutes']].sum()\n",
    "avctiveminus = ['sedentaryminutes','lightlyactiveminutes','fairlyactiveminutes','veryactiveminutes']\n",
    "plot1= px.pie(daily_activity,values=sum_minus,names=avctiveminus,title='Distribution of Total  Activeminutes')\n",
    "plot1"
   ]
  },
  {
   "cell_type": "markdown",
   "metadata": {},
   "source": [
    "#### Findings:\n",
    "- Sedentaryminutes dominate at 81.3%, indicating most time is spent inactive.\n",
    "- Lightlyactiveminutes are 15.8%, showing some light activity.\n",
    "- Veryactiveminutes and fairlyactiveminutes are minimal at 1.74% and 1.11%, respectively.\n",
    "- The distribution highlights a significant lack of active time."
   ]
  },
  {
   "cell_type": "code",
   "execution_count": 39,
   "metadata": {},
   "outputs": [
    {
     "data": {
      "application/vnd.plotly.v1+json": {
       "config": {
        "plotlyServerURL": "https://plot.ly"
       },
       "data": [
        {
         "hovertemplate": "x=%{x}<br>y=%{y}<extra></extra>",
         "legendgroup": "",
         "marker": {
          "color": "#636efa",
          "pattern": {
           "shape": ""
          }
         },
         "name": "",
         "orientation": "v",
         "showlegend": false,
         "textposition": "auto",
         "type": "bar",
         "x": [
          "sedentaryminutes\t",
          "totalactiveminus"
         ],
         "xaxis": "x",
         "y": {
          "bdata": "LcUhY6/5jkAxuYKYXHFsQA==",
          "dtype": "f8"
         },
         "yaxis": "y"
        }
       ],
       "layout": {
        "barmode": "relative",
        "legend": {
         "tracegroupgap": 0
        },
        "template": {
         "data": {
          "bar": [
           {
            "error_x": {
             "color": "#2a3f5f"
            },
            "error_y": {
             "color": "#2a3f5f"
            },
            "marker": {
             "line": {
              "color": "#E5ECF6",
              "width": 0.5
             },
             "pattern": {
              "fillmode": "overlay",
              "size": 10,
              "solidity": 0.2
             }
            },
            "type": "bar"
           }
          ],
          "barpolar": [
           {
            "marker": {
             "line": {
              "color": "#E5ECF6",
              "width": 0.5
             },
             "pattern": {
              "fillmode": "overlay",
              "size": 10,
              "solidity": 0.2
             }
            },
            "type": "barpolar"
           }
          ],
          "carpet": [
           {
            "aaxis": {
             "endlinecolor": "#2a3f5f",
             "gridcolor": "white",
             "linecolor": "white",
             "minorgridcolor": "white",
             "startlinecolor": "#2a3f5f"
            },
            "baxis": {
             "endlinecolor": "#2a3f5f",
             "gridcolor": "white",
             "linecolor": "white",
             "minorgridcolor": "white",
             "startlinecolor": "#2a3f5f"
            },
            "type": "carpet"
           }
          ],
          "choropleth": [
           {
            "colorbar": {
             "outlinewidth": 0,
             "ticks": ""
            },
            "type": "choropleth"
           }
          ],
          "contour": [
           {
            "colorbar": {
             "outlinewidth": 0,
             "ticks": ""
            },
            "colorscale": [
             [
              0,
              "#0d0887"
             ],
             [
              0.1111111111111111,
              "#46039f"
             ],
             [
              0.2222222222222222,
              "#7201a8"
             ],
             [
              0.3333333333333333,
              "#9c179e"
             ],
             [
              0.4444444444444444,
              "#bd3786"
             ],
             [
              0.5555555555555556,
              "#d8576b"
             ],
             [
              0.6666666666666666,
              "#ed7953"
             ],
             [
              0.7777777777777778,
              "#fb9f3a"
             ],
             [
              0.8888888888888888,
              "#fdca26"
             ],
             [
              1,
              "#f0f921"
             ]
            ],
            "type": "contour"
           }
          ],
          "contourcarpet": [
           {
            "colorbar": {
             "outlinewidth": 0,
             "ticks": ""
            },
            "type": "contourcarpet"
           }
          ],
          "heatmap": [
           {
            "colorbar": {
             "outlinewidth": 0,
             "ticks": ""
            },
            "colorscale": [
             [
              0,
              "#0d0887"
             ],
             [
              0.1111111111111111,
              "#46039f"
             ],
             [
              0.2222222222222222,
              "#7201a8"
             ],
             [
              0.3333333333333333,
              "#9c179e"
             ],
             [
              0.4444444444444444,
              "#bd3786"
             ],
             [
              0.5555555555555556,
              "#d8576b"
             ],
             [
              0.6666666666666666,
              "#ed7953"
             ],
             [
              0.7777777777777778,
              "#fb9f3a"
             ],
             [
              0.8888888888888888,
              "#fdca26"
             ],
             [
              1,
              "#f0f921"
             ]
            ],
            "type": "heatmap"
           }
          ],
          "histogram": [
           {
            "marker": {
             "pattern": {
              "fillmode": "overlay",
              "size": 10,
              "solidity": 0.2
             }
            },
            "type": "histogram"
           }
          ],
          "histogram2d": [
           {
            "colorbar": {
             "outlinewidth": 0,
             "ticks": ""
            },
            "colorscale": [
             [
              0,
              "#0d0887"
             ],
             [
              0.1111111111111111,
              "#46039f"
             ],
             [
              0.2222222222222222,
              "#7201a8"
             ],
             [
              0.3333333333333333,
              "#9c179e"
             ],
             [
              0.4444444444444444,
              "#bd3786"
             ],
             [
              0.5555555555555556,
              "#d8576b"
             ],
             [
              0.6666666666666666,
              "#ed7953"
             ],
             [
              0.7777777777777778,
              "#fb9f3a"
             ],
             [
              0.8888888888888888,
              "#fdca26"
             ],
             [
              1,
              "#f0f921"
             ]
            ],
            "type": "histogram2d"
           }
          ],
          "histogram2dcontour": [
           {
            "colorbar": {
             "outlinewidth": 0,
             "ticks": ""
            },
            "colorscale": [
             [
              0,
              "#0d0887"
             ],
             [
              0.1111111111111111,
              "#46039f"
             ],
             [
              0.2222222222222222,
              "#7201a8"
             ],
             [
              0.3333333333333333,
              "#9c179e"
             ],
             [
              0.4444444444444444,
              "#bd3786"
             ],
             [
              0.5555555555555556,
              "#d8576b"
             ],
             [
              0.6666666666666666,
              "#ed7953"
             ],
             [
              0.7777777777777778,
              "#fb9f3a"
             ],
             [
              0.8888888888888888,
              "#fdca26"
             ],
             [
              1,
              "#f0f921"
             ]
            ],
            "type": "histogram2dcontour"
           }
          ],
          "mesh3d": [
           {
            "colorbar": {
             "outlinewidth": 0,
             "ticks": ""
            },
            "type": "mesh3d"
           }
          ],
          "parcoords": [
           {
            "line": {
             "colorbar": {
              "outlinewidth": 0,
              "ticks": ""
             }
            },
            "type": "parcoords"
           }
          ],
          "pie": [
           {
            "automargin": true,
            "type": "pie"
           }
          ],
          "scatter": [
           {
            "fillpattern": {
             "fillmode": "overlay",
             "size": 10,
             "solidity": 0.2
            },
            "type": "scatter"
           }
          ],
          "scatter3d": [
           {
            "line": {
             "colorbar": {
              "outlinewidth": 0,
              "ticks": ""
             }
            },
            "marker": {
             "colorbar": {
              "outlinewidth": 0,
              "ticks": ""
             }
            },
            "type": "scatter3d"
           }
          ],
          "scattercarpet": [
           {
            "marker": {
             "colorbar": {
              "outlinewidth": 0,
              "ticks": ""
             }
            },
            "type": "scattercarpet"
           }
          ],
          "scattergeo": [
           {
            "marker": {
             "colorbar": {
              "outlinewidth": 0,
              "ticks": ""
             }
            },
            "type": "scattergeo"
           }
          ],
          "scattergl": [
           {
            "marker": {
             "colorbar": {
              "outlinewidth": 0,
              "ticks": ""
             }
            },
            "type": "scattergl"
           }
          ],
          "scattermap": [
           {
            "marker": {
             "colorbar": {
              "outlinewidth": 0,
              "ticks": ""
             }
            },
            "type": "scattermap"
           }
          ],
          "scattermapbox": [
           {
            "marker": {
             "colorbar": {
              "outlinewidth": 0,
              "ticks": ""
             }
            },
            "type": "scattermapbox"
           }
          ],
          "scatterpolar": [
           {
            "marker": {
             "colorbar": {
              "outlinewidth": 0,
              "ticks": ""
             }
            },
            "type": "scatterpolar"
           }
          ],
          "scatterpolargl": [
           {
            "marker": {
             "colorbar": {
              "outlinewidth": 0,
              "ticks": ""
             }
            },
            "type": "scatterpolargl"
           }
          ],
          "scatterternary": [
           {
            "marker": {
             "colorbar": {
              "outlinewidth": 0,
              "ticks": ""
             }
            },
            "type": "scatterternary"
           }
          ],
          "surface": [
           {
            "colorbar": {
             "outlinewidth": 0,
             "ticks": ""
            },
            "colorscale": [
             [
              0,
              "#0d0887"
             ],
             [
              0.1111111111111111,
              "#46039f"
             ],
             [
              0.2222222222222222,
              "#7201a8"
             ],
             [
              0.3333333333333333,
              "#9c179e"
             ],
             [
              0.4444444444444444,
              "#bd3786"
             ],
             [
              0.5555555555555556,
              "#d8576b"
             ],
             [
              0.6666666666666666,
              "#ed7953"
             ],
             [
              0.7777777777777778,
              "#fb9f3a"
             ],
             [
              0.8888888888888888,
              "#fdca26"
             ],
             [
              1,
              "#f0f921"
             ]
            ],
            "type": "surface"
           }
          ],
          "table": [
           {
            "cells": {
             "fill": {
              "color": "#EBF0F8"
             },
             "line": {
              "color": "white"
             }
            },
            "header": {
             "fill": {
              "color": "#C8D4E3"
             },
             "line": {
              "color": "white"
             }
            },
            "type": "table"
           }
          ]
         },
         "layout": {
          "annotationdefaults": {
           "arrowcolor": "#2a3f5f",
           "arrowhead": 0,
           "arrowwidth": 1
          },
          "autotypenumbers": "strict",
          "coloraxis": {
           "colorbar": {
            "outlinewidth": 0,
            "ticks": ""
           }
          },
          "colorscale": {
           "diverging": [
            [
             0,
             "#8e0152"
            ],
            [
             0.1,
             "#c51b7d"
            ],
            [
             0.2,
             "#de77ae"
            ],
            [
             0.3,
             "#f1b6da"
            ],
            [
             0.4,
             "#fde0ef"
            ],
            [
             0.5,
             "#f7f7f7"
            ],
            [
             0.6,
             "#e6f5d0"
            ],
            [
             0.7,
             "#b8e186"
            ],
            [
             0.8,
             "#7fbc41"
            ],
            [
             0.9,
             "#4d9221"
            ],
            [
             1,
             "#276419"
            ]
           ],
           "sequential": [
            [
             0,
             "#0d0887"
            ],
            [
             0.1111111111111111,
             "#46039f"
            ],
            [
             0.2222222222222222,
             "#7201a8"
            ],
            [
             0.3333333333333333,
             "#9c179e"
            ],
            [
             0.4444444444444444,
             "#bd3786"
            ],
            [
             0.5555555555555556,
             "#d8576b"
            ],
            [
             0.6666666666666666,
             "#ed7953"
            ],
            [
             0.7777777777777778,
             "#fb9f3a"
            ],
            [
             0.8888888888888888,
             "#fdca26"
            ],
            [
             1,
             "#f0f921"
            ]
           ],
           "sequentialminus": [
            [
             0,
             "#0d0887"
            ],
            [
             0.1111111111111111,
             "#46039f"
            ],
            [
             0.2222222222222222,
             "#7201a8"
            ],
            [
             0.3333333333333333,
             "#9c179e"
            ],
            [
             0.4444444444444444,
             "#bd3786"
            ],
            [
             0.5555555555555556,
             "#d8576b"
            ],
            [
             0.6666666666666666,
             "#ed7953"
            ],
            [
             0.7777777777777778,
             "#fb9f3a"
            ],
            [
             0.8888888888888888,
             "#fdca26"
            ],
            [
             1,
             "#f0f921"
            ]
           ]
          },
          "colorway": [
           "#636efa",
           "#EF553B",
           "#00cc96",
           "#ab63fa",
           "#FFA15A",
           "#19d3f3",
           "#FF6692",
           "#B6E880",
           "#FF97FF",
           "#FECB52"
          ],
          "font": {
           "color": "#2a3f5f"
          },
          "geo": {
           "bgcolor": "white",
           "lakecolor": "white",
           "landcolor": "#E5ECF6",
           "showlakes": true,
           "showland": true,
           "subunitcolor": "white"
          },
          "hoverlabel": {
           "align": "left"
          },
          "hovermode": "closest",
          "mapbox": {
           "style": "light"
          },
          "paper_bgcolor": "white",
          "plot_bgcolor": "#E5ECF6",
          "polar": {
           "angularaxis": {
            "gridcolor": "white",
            "linecolor": "white",
            "ticks": ""
           },
           "bgcolor": "#E5ECF6",
           "radialaxis": {
            "gridcolor": "white",
            "linecolor": "white",
            "ticks": ""
           }
          },
          "scene": {
           "xaxis": {
            "backgroundcolor": "#E5ECF6",
            "gridcolor": "white",
            "gridwidth": 2,
            "linecolor": "white",
            "showbackground": true,
            "ticks": "",
            "zerolinecolor": "white"
           },
           "yaxis": {
            "backgroundcolor": "#E5ECF6",
            "gridcolor": "white",
            "gridwidth": 2,
            "linecolor": "white",
            "showbackground": true,
            "ticks": "",
            "zerolinecolor": "white"
           },
           "zaxis": {
            "backgroundcolor": "#E5ECF6",
            "gridcolor": "white",
            "gridwidth": 2,
            "linecolor": "white",
            "showbackground": true,
            "ticks": "",
            "zerolinecolor": "white"
           }
          },
          "shapedefaults": {
           "line": {
            "color": "#2a3f5f"
           }
          },
          "ternary": {
           "aaxis": {
            "gridcolor": "white",
            "linecolor": "white",
            "ticks": ""
           },
           "baxis": {
            "gridcolor": "white",
            "linecolor": "white",
            "ticks": ""
           },
           "bgcolor": "#E5ECF6",
           "caxis": {
            "gridcolor": "white",
            "linecolor": "white",
            "ticks": ""
           }
          },
          "title": {
           "x": 0.05
          },
          "xaxis": {
           "automargin": true,
           "gridcolor": "white",
           "linecolor": "white",
           "ticks": "",
           "title": {
            "standoff": 15
           },
           "zerolinecolor": "white",
           "zerolinewidth": 2
          },
          "yaxis": {
           "automargin": true,
           "gridcolor": "white",
           "linecolor": "white",
           "ticks": "",
           "title": {
            "standoff": 15
           },
           "zerolinecolor": "white",
           "zerolinewidth": 2
          }
         }
        },
        "title": {
         "text": "Sedentary Minutes vs TotalActiveMinutes"
        },
        "xaxis": {
         "anchor": "y",
         "domain": [
          0,
          1
         ],
         "title": {
          "text": "x"
         }
        },
        "yaxis": {
         "anchor": "x",
         "domain": [
          0,
          1
         ],
         "title": {
          "text": "y"
         }
        }
       }
      }
     },
     "metadata": {},
     "output_type": "display_data"
    }
   ],
   "source": [
    "x = np.array([\"sedentaryminutes\t\", \"totalactiveminus\"])\n",
    "y = np.array([daily_activity[\"sedentaryminutes\"].mean(),daily_activity[\"totalactiveminus\"].mean()])\n",
    "plot2 = px.bar(x=x,y=y,title='Sedentary Minutes vs TotalActiveMinutes')\n",
    "plot2"
   ]
  },
  {
   "cell_type": "code",
   "execution_count": 40,
   "metadata": {},
   "outputs": [
    {
     "data": {
      "application/vnd.plotly.v1+json": {
       "config": {
        "plotlyServerURL": "https://plot.ly"
       },
       "data": [
        {
         "coloraxis": "coloraxis",
         "hovertemplate": "x: %{x}<br>y: %{y}<br>color: %{z}<extra></extra>",
         "name": "0",
         "texttemplate": "%{z}",
         "type": "heatmap",
         "x": [
          "totaldistance",
          "totalsteps",
          "totalactiveminus",
          "sedentaryminutes",
          "calories"
         ],
         "xaxis": "x",
         "y": [
          "totaldistance",
          "totalsteps",
          "totalactiveminus",
          "sedentaryminutes",
          "calories"
         ],
         "yaxis": "y",
         "z": {
          "bdata": "AAAAAAAA8D8wVJc9JIjvPyFL2LKUH+c/KS1QWCNw0r8nV1QVh6PkPzBUlz0kiO8/AAAAAAAA8D8chuafvbfoP3z1H4x99dS/JP74MSDu4j8hS9iylB/nPxyG5p+9t+g/AAAAAAAA8D8loJghomrev+n/WNg0Nd4/KS1QWCNw0r989R+MffXUvyWgmCGiat6/AAAAAAAA8D/JAFftlWK7vydXVBWHo+Q/JP74MSDu4j/p/1jYNDXeP8kAV+2VYru/AAAAAAAA8D8=",
          "dtype": "f8",
          "shape": "5, 5"
         }
        }
       ],
       "layout": {
        "coloraxis": {
         "colorscale": [
          [
           0,
           "#0d0887"
          ],
          [
           0.1111111111111111,
           "#46039f"
          ],
          [
           0.2222222222222222,
           "#7201a8"
          ],
          [
           0.3333333333333333,
           "#9c179e"
          ],
          [
           0.4444444444444444,
           "#bd3786"
          ],
          [
           0.5555555555555556,
           "#d8576b"
          ],
          [
           0.6666666666666666,
           "#ed7953"
          ],
          [
           0.7777777777777778,
           "#fb9f3a"
          ],
          [
           0.8888888888888888,
           "#fdca26"
          ],
          [
           1,
           "#f0f921"
          ]
         ]
        },
        "template": {
         "data": {
          "bar": [
           {
            "error_x": {
             "color": "#2a3f5f"
            },
            "error_y": {
             "color": "#2a3f5f"
            },
            "marker": {
             "line": {
              "color": "#E5ECF6",
              "width": 0.5
             },
             "pattern": {
              "fillmode": "overlay",
              "size": 10,
              "solidity": 0.2
             }
            },
            "type": "bar"
           }
          ],
          "barpolar": [
           {
            "marker": {
             "line": {
              "color": "#E5ECF6",
              "width": 0.5
             },
             "pattern": {
              "fillmode": "overlay",
              "size": 10,
              "solidity": 0.2
             }
            },
            "type": "barpolar"
           }
          ],
          "carpet": [
           {
            "aaxis": {
             "endlinecolor": "#2a3f5f",
             "gridcolor": "white",
             "linecolor": "white",
             "minorgridcolor": "white",
             "startlinecolor": "#2a3f5f"
            },
            "baxis": {
             "endlinecolor": "#2a3f5f",
             "gridcolor": "white",
             "linecolor": "white",
             "minorgridcolor": "white",
             "startlinecolor": "#2a3f5f"
            },
            "type": "carpet"
           }
          ],
          "choropleth": [
           {
            "colorbar": {
             "outlinewidth": 0,
             "ticks": ""
            },
            "type": "choropleth"
           }
          ],
          "contour": [
           {
            "colorbar": {
             "outlinewidth": 0,
             "ticks": ""
            },
            "colorscale": [
             [
              0,
              "#0d0887"
             ],
             [
              0.1111111111111111,
              "#46039f"
             ],
             [
              0.2222222222222222,
              "#7201a8"
             ],
             [
              0.3333333333333333,
              "#9c179e"
             ],
             [
              0.4444444444444444,
              "#bd3786"
             ],
             [
              0.5555555555555556,
              "#d8576b"
             ],
             [
              0.6666666666666666,
              "#ed7953"
             ],
             [
              0.7777777777777778,
              "#fb9f3a"
             ],
             [
              0.8888888888888888,
              "#fdca26"
             ],
             [
              1,
              "#f0f921"
             ]
            ],
            "type": "contour"
           }
          ],
          "contourcarpet": [
           {
            "colorbar": {
             "outlinewidth": 0,
             "ticks": ""
            },
            "type": "contourcarpet"
           }
          ],
          "heatmap": [
           {
            "colorbar": {
             "outlinewidth": 0,
             "ticks": ""
            },
            "colorscale": [
             [
              0,
              "#0d0887"
             ],
             [
              0.1111111111111111,
              "#46039f"
             ],
             [
              0.2222222222222222,
              "#7201a8"
             ],
             [
              0.3333333333333333,
              "#9c179e"
             ],
             [
              0.4444444444444444,
              "#bd3786"
             ],
             [
              0.5555555555555556,
              "#d8576b"
             ],
             [
              0.6666666666666666,
              "#ed7953"
             ],
             [
              0.7777777777777778,
              "#fb9f3a"
             ],
             [
              0.8888888888888888,
              "#fdca26"
             ],
             [
              1,
              "#f0f921"
             ]
            ],
            "type": "heatmap"
           }
          ],
          "histogram": [
           {
            "marker": {
             "pattern": {
              "fillmode": "overlay",
              "size": 10,
              "solidity": 0.2
             }
            },
            "type": "histogram"
           }
          ],
          "histogram2d": [
           {
            "colorbar": {
             "outlinewidth": 0,
             "ticks": ""
            },
            "colorscale": [
             [
              0,
              "#0d0887"
             ],
             [
              0.1111111111111111,
              "#46039f"
             ],
             [
              0.2222222222222222,
              "#7201a8"
             ],
             [
              0.3333333333333333,
              "#9c179e"
             ],
             [
              0.4444444444444444,
              "#bd3786"
             ],
             [
              0.5555555555555556,
              "#d8576b"
             ],
             [
              0.6666666666666666,
              "#ed7953"
             ],
             [
              0.7777777777777778,
              "#fb9f3a"
             ],
             [
              0.8888888888888888,
              "#fdca26"
             ],
             [
              1,
              "#f0f921"
             ]
            ],
            "type": "histogram2d"
           }
          ],
          "histogram2dcontour": [
           {
            "colorbar": {
             "outlinewidth": 0,
             "ticks": ""
            },
            "colorscale": [
             [
              0,
              "#0d0887"
             ],
             [
              0.1111111111111111,
              "#46039f"
             ],
             [
              0.2222222222222222,
              "#7201a8"
             ],
             [
              0.3333333333333333,
              "#9c179e"
             ],
             [
              0.4444444444444444,
              "#bd3786"
             ],
             [
              0.5555555555555556,
              "#d8576b"
             ],
             [
              0.6666666666666666,
              "#ed7953"
             ],
             [
              0.7777777777777778,
              "#fb9f3a"
             ],
             [
              0.8888888888888888,
              "#fdca26"
             ],
             [
              1,
              "#f0f921"
             ]
            ],
            "type": "histogram2dcontour"
           }
          ],
          "mesh3d": [
           {
            "colorbar": {
             "outlinewidth": 0,
             "ticks": ""
            },
            "type": "mesh3d"
           }
          ],
          "parcoords": [
           {
            "line": {
             "colorbar": {
              "outlinewidth": 0,
              "ticks": ""
             }
            },
            "type": "parcoords"
           }
          ],
          "pie": [
           {
            "automargin": true,
            "type": "pie"
           }
          ],
          "scatter": [
           {
            "fillpattern": {
             "fillmode": "overlay",
             "size": 10,
             "solidity": 0.2
            },
            "type": "scatter"
           }
          ],
          "scatter3d": [
           {
            "line": {
             "colorbar": {
              "outlinewidth": 0,
              "ticks": ""
             }
            },
            "marker": {
             "colorbar": {
              "outlinewidth": 0,
              "ticks": ""
             }
            },
            "type": "scatter3d"
           }
          ],
          "scattercarpet": [
           {
            "marker": {
             "colorbar": {
              "outlinewidth": 0,
              "ticks": ""
             }
            },
            "type": "scattercarpet"
           }
          ],
          "scattergeo": [
           {
            "marker": {
             "colorbar": {
              "outlinewidth": 0,
              "ticks": ""
             }
            },
            "type": "scattergeo"
           }
          ],
          "scattergl": [
           {
            "marker": {
             "colorbar": {
              "outlinewidth": 0,
              "ticks": ""
             }
            },
            "type": "scattergl"
           }
          ],
          "scattermap": [
           {
            "marker": {
             "colorbar": {
              "outlinewidth": 0,
              "ticks": ""
             }
            },
            "type": "scattermap"
           }
          ],
          "scattermapbox": [
           {
            "marker": {
             "colorbar": {
              "outlinewidth": 0,
              "ticks": ""
             }
            },
            "type": "scattermapbox"
           }
          ],
          "scatterpolar": [
           {
            "marker": {
             "colorbar": {
              "outlinewidth": 0,
              "ticks": ""
             }
            },
            "type": "scatterpolar"
           }
          ],
          "scatterpolargl": [
           {
            "marker": {
             "colorbar": {
              "outlinewidth": 0,
              "ticks": ""
             }
            },
            "type": "scatterpolargl"
           }
          ],
          "scatterternary": [
           {
            "marker": {
             "colorbar": {
              "outlinewidth": 0,
              "ticks": ""
             }
            },
            "type": "scatterternary"
           }
          ],
          "surface": [
           {
            "colorbar": {
             "outlinewidth": 0,
             "ticks": ""
            },
            "colorscale": [
             [
              0,
              "#0d0887"
             ],
             [
              0.1111111111111111,
              "#46039f"
             ],
             [
              0.2222222222222222,
              "#7201a8"
             ],
             [
              0.3333333333333333,
              "#9c179e"
             ],
             [
              0.4444444444444444,
              "#bd3786"
             ],
             [
              0.5555555555555556,
              "#d8576b"
             ],
             [
              0.6666666666666666,
              "#ed7953"
             ],
             [
              0.7777777777777778,
              "#fb9f3a"
             ],
             [
              0.8888888888888888,
              "#fdca26"
             ],
             [
              1,
              "#f0f921"
             ]
            ],
            "type": "surface"
           }
          ],
          "table": [
           {
            "cells": {
             "fill": {
              "color": "#EBF0F8"
             },
             "line": {
              "color": "white"
             }
            },
            "header": {
             "fill": {
              "color": "#C8D4E3"
             },
             "line": {
              "color": "white"
             }
            },
            "type": "table"
           }
          ]
         },
         "layout": {
          "annotationdefaults": {
           "arrowcolor": "#2a3f5f",
           "arrowhead": 0,
           "arrowwidth": 1
          },
          "autotypenumbers": "strict",
          "coloraxis": {
           "colorbar": {
            "outlinewidth": 0,
            "ticks": ""
           }
          },
          "colorscale": {
           "diverging": [
            [
             0,
             "#8e0152"
            ],
            [
             0.1,
             "#c51b7d"
            ],
            [
             0.2,
             "#de77ae"
            ],
            [
             0.3,
             "#f1b6da"
            ],
            [
             0.4,
             "#fde0ef"
            ],
            [
             0.5,
             "#f7f7f7"
            ],
            [
             0.6,
             "#e6f5d0"
            ],
            [
             0.7,
             "#b8e186"
            ],
            [
             0.8,
             "#7fbc41"
            ],
            [
             0.9,
             "#4d9221"
            ],
            [
             1,
             "#276419"
            ]
           ],
           "sequential": [
            [
             0,
             "#0d0887"
            ],
            [
             0.1111111111111111,
             "#46039f"
            ],
            [
             0.2222222222222222,
             "#7201a8"
            ],
            [
             0.3333333333333333,
             "#9c179e"
            ],
            [
             0.4444444444444444,
             "#bd3786"
            ],
            [
             0.5555555555555556,
             "#d8576b"
            ],
            [
             0.6666666666666666,
             "#ed7953"
            ],
            [
             0.7777777777777778,
             "#fb9f3a"
            ],
            [
             0.8888888888888888,
             "#fdca26"
            ],
            [
             1,
             "#f0f921"
            ]
           ],
           "sequentialminus": [
            [
             0,
             "#0d0887"
            ],
            [
             0.1111111111111111,
             "#46039f"
            ],
            [
             0.2222222222222222,
             "#7201a8"
            ],
            [
             0.3333333333333333,
             "#9c179e"
            ],
            [
             0.4444444444444444,
             "#bd3786"
            ],
            [
             0.5555555555555556,
             "#d8576b"
            ],
            [
             0.6666666666666666,
             "#ed7953"
            ],
            [
             0.7777777777777778,
             "#fb9f3a"
            ],
            [
             0.8888888888888888,
             "#fdca26"
            ],
            [
             1,
             "#f0f921"
            ]
           ]
          },
          "colorway": [
           "#636efa",
           "#EF553B",
           "#00cc96",
           "#ab63fa",
           "#FFA15A",
           "#19d3f3",
           "#FF6692",
           "#B6E880",
           "#FF97FF",
           "#FECB52"
          ],
          "font": {
           "color": "#2a3f5f"
          },
          "geo": {
           "bgcolor": "white",
           "lakecolor": "white",
           "landcolor": "#E5ECF6",
           "showlakes": true,
           "showland": true,
           "subunitcolor": "white"
          },
          "hoverlabel": {
           "align": "left"
          },
          "hovermode": "closest",
          "mapbox": {
           "style": "light"
          },
          "paper_bgcolor": "white",
          "plot_bgcolor": "#E5ECF6",
          "polar": {
           "angularaxis": {
            "gridcolor": "white",
            "linecolor": "white",
            "ticks": ""
           },
           "bgcolor": "#E5ECF6",
           "radialaxis": {
            "gridcolor": "white",
            "linecolor": "white",
            "ticks": ""
           }
          },
          "scene": {
           "xaxis": {
            "backgroundcolor": "#E5ECF6",
            "gridcolor": "white",
            "gridwidth": 2,
            "linecolor": "white",
            "showbackground": true,
            "ticks": "",
            "zerolinecolor": "white"
           },
           "yaxis": {
            "backgroundcolor": "#E5ECF6",
            "gridcolor": "white",
            "gridwidth": 2,
            "linecolor": "white",
            "showbackground": true,
            "ticks": "",
            "zerolinecolor": "white"
           },
           "zaxis": {
            "backgroundcolor": "#E5ECF6",
            "gridcolor": "white",
            "gridwidth": 2,
            "linecolor": "white",
            "showbackground": true,
            "ticks": "",
            "zerolinecolor": "white"
           }
          },
          "shapedefaults": {
           "line": {
            "color": "#2a3f5f"
           }
          },
          "ternary": {
           "aaxis": {
            "gridcolor": "white",
            "linecolor": "white",
            "ticks": ""
           },
           "baxis": {
            "gridcolor": "white",
            "linecolor": "white",
            "ticks": ""
           },
           "bgcolor": "#E5ECF6",
           "caxis": {
            "gridcolor": "white",
            "linecolor": "white",
            "ticks": ""
           }
          },
          "title": {
           "x": 0.05
          },
          "xaxis": {
           "automargin": true,
           "gridcolor": "white",
           "linecolor": "white",
           "ticks": "",
           "title": {
            "standoff": 15
           },
           "zerolinecolor": "white",
           "zerolinewidth": 2
          },
          "yaxis": {
           "automargin": true,
           "gridcolor": "white",
           "linecolor": "white",
           "ticks": "",
           "title": {
            "standoff": 15
           },
           "zerolinecolor": "white",
           "zerolinewidth": 2
          }
         }
        },
        "title": {
         "text": "Correlation Matrix"
        },
        "xaxis": {
         "anchor": "y",
         "constrain": "domain",
         "domain": [
          0,
          1
         ],
         "scaleanchor": "y"
        },
        "yaxis": {
         "anchor": "x",
         "autorange": "reversed",
         "constrain": "domain",
         "domain": [
          0,
          1
         ]
        }
       }
      }
     },
     "metadata": {},
     "output_type": "display_data"
    }
   ],
   "source": [
    "cor = ['totaldistance','totalsteps','totalactiveminus','sedentaryminutes','calories']\n",
    "plot3 = px.imshow(daily_activity[cor].corr(),title='Correlation Matrix',text_auto=True)\n",
    "plot3"
   ]
  },
  {
   "cell_type": "markdown",
   "metadata": {},
   "source": [
    "### Findings:\n",
    "- **Strong Positive Correlations**: Totaldistance and totalsteps have a high correlation, indicating they move closely together. Totalactiveminutes also correlates strongly with totaldistance.\n",
    "- **Negative Correlation with Sedentary Time**: Sedentaryminutes has a moderate negative correlation with totalactiveminutes, totaldistance , and totalsteps, showing that more sedentary time reduces activity.\n",
    "- **Calories and Activity**: Calories show moderate positive correlations with totaldistance, totalsteps, and totalactiveminutes, suggesting higher activity burns more calories."
   ]
  },
  {
   "cell_type": "code",
   "execution_count": 41,
   "metadata": {},
   "outputs": [
    {
     "data": {
      "application/vnd.plotly.v1+json": {
       "config": {
        "plotlyServerURL": "https://plot.ly"
       },
       "data": [
        {
         "hovertemplate": "calories=%{x}<br>totalsteps=%{y}<extra></extra>",
         "legendgroup": "",
         "marker": {
          "color": "#636efa",
          "symbol": "circle"
         },
         "mode": "markers",
         "name": "",
         "orientation": "v",
         "showlegend": false,
         "type": "scatter",
         "x": {
          "bdata": "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",
          "dtype": "i2"
         },
         "xaxis": "x",
         "y": {
          "bdata": "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",
          "dtype": "i4"
         },
         "yaxis": "y"
        }
       ],
       "layout": {
        "legend": {
         "tracegroupgap": 0
        },
        "template": {
         "data": {
          "bar": [
           {
            "error_x": {
             "color": "#2a3f5f"
            },
            "error_y": {
             "color": "#2a3f5f"
            },
            "marker": {
             "line": {
              "color": "#E5ECF6",
              "width": 0.5
             },
             "pattern": {
              "fillmode": "overlay",
              "size": 10,
              "solidity": 0.2
             }
            },
            "type": "bar"
           }
          ],
          "barpolar": [
           {
            "marker": {
             "line": {
              "color": "#E5ECF6",
              "width": 0.5
             },
             "pattern": {
              "fillmode": "overlay",
              "size": 10,
              "solidity": 0.2
             }
            },
            "type": "barpolar"
           }
          ],
          "carpet": [
           {
            "aaxis": {
             "endlinecolor": "#2a3f5f",
             "gridcolor": "white",
             "linecolor": "white",
             "minorgridcolor": "white",
             "startlinecolor": "#2a3f5f"
            },
            "baxis": {
             "endlinecolor": "#2a3f5f",
             "gridcolor": "white",
             "linecolor": "white",
             "minorgridcolor": "white",
             "startlinecolor": "#2a3f5f"
            },
            "type": "carpet"
           }
          ],
          "choropleth": [
           {
            "colorbar": {
             "outlinewidth": 0,
             "ticks": ""
            },
            "type": "choropleth"
           }
          ],
          "contour": [
           {
            "colorbar": {
             "outlinewidth": 0,
             "ticks": ""
            },
            "colorscale": [
             [
              0,
              "#0d0887"
             ],
             [
              0.1111111111111111,
              "#46039f"
             ],
             [
              0.2222222222222222,
              "#7201a8"
             ],
             [
              0.3333333333333333,
              "#9c179e"
             ],
             [
              0.4444444444444444,
              "#bd3786"
             ],
             [
              0.5555555555555556,
              "#d8576b"
             ],
             [
              0.6666666666666666,
              "#ed7953"
             ],
             [
              0.7777777777777778,
              "#fb9f3a"
             ],
             [
              0.8888888888888888,
              "#fdca26"
             ],
             [
              1,
              "#f0f921"
             ]
            ],
            "type": "contour"
           }
          ],
          "contourcarpet": [
           {
            "colorbar": {
             "outlinewidth": 0,
             "ticks": ""
            },
            "type": "contourcarpet"
           }
          ],
          "heatmap": [
           {
            "colorbar": {
             "outlinewidth": 0,
             "ticks": ""
            },
            "colorscale": [
             [
              0,
              "#0d0887"
             ],
             [
              0.1111111111111111,
              "#46039f"
             ],
             [
              0.2222222222222222,
              "#7201a8"
             ],
             [
              0.3333333333333333,
              "#9c179e"
             ],
             [
              0.4444444444444444,
              "#bd3786"
             ],
             [
              0.5555555555555556,
              "#d8576b"
             ],
             [
              0.6666666666666666,
              "#ed7953"
             ],
             [
              0.7777777777777778,
              "#fb9f3a"
             ],
             [
              0.8888888888888888,
              "#fdca26"
             ],
             [
              1,
              "#f0f921"
             ]
            ],
            "type": "heatmap"
           }
          ],
          "histogram": [
           {
            "marker": {
             "pattern": {
              "fillmode": "overlay",
              "size": 10,
              "solidity": 0.2
             }
            },
            "type": "histogram"
           }
          ],
          "histogram2d": [
           {
            "colorbar": {
             "outlinewidth": 0,
             "ticks": ""
            },
            "colorscale": [
             [
              0,
              "#0d0887"
             ],
             [
              0.1111111111111111,
              "#46039f"
             ],
             [
              0.2222222222222222,
              "#7201a8"
             ],
             [
              0.3333333333333333,
              "#9c179e"
             ],
             [
              0.4444444444444444,
              "#bd3786"
             ],
             [
              0.5555555555555556,
              "#d8576b"
             ],
             [
              0.6666666666666666,
              "#ed7953"
             ],
             [
              0.7777777777777778,
              "#fb9f3a"
             ],
             [
              0.8888888888888888,
              "#fdca26"
             ],
             [
              1,
              "#f0f921"
             ]
            ],
            "type": "histogram2d"
           }
          ],
          "histogram2dcontour": [
           {
            "colorbar": {
             "outlinewidth": 0,
             "ticks": ""
            },
            "colorscale": [
             [
              0,
              "#0d0887"
             ],
             [
              0.1111111111111111,
              "#46039f"
             ],
             [
              0.2222222222222222,
              "#7201a8"
             ],
             [
              0.3333333333333333,
              "#9c179e"
             ],
             [
              0.4444444444444444,
              "#bd3786"
             ],
             [
              0.5555555555555556,
              "#d8576b"
             ],
             [
              0.6666666666666666,
              "#ed7953"
             ],
             [
              0.7777777777777778,
              "#fb9f3a"
             ],
             [
              0.8888888888888888,
              "#fdca26"
             ],
             [
              1,
              "#f0f921"
             ]
            ],
            "type": "histogram2dcontour"
           }
          ],
          "mesh3d": [
           {
            "colorbar": {
             "outlinewidth": 0,
             "ticks": ""
            },
            "type": "mesh3d"
           }
          ],
          "parcoords": [
           {
            "line": {
             "colorbar": {
              "outlinewidth": 0,
              "ticks": ""
             }
            },
            "type": "parcoords"
           }
          ],
          "pie": [
           {
            "automargin": true,
            "type": "pie"
           }
          ],
          "scatter": [
           {
            "fillpattern": {
             "fillmode": "overlay",
             "size": 10,
             "solidity": 0.2
            },
            "type": "scatter"
           }
          ],
          "scatter3d": [
           {
            "line": {
             "colorbar": {
              "outlinewidth": 0,
              "ticks": ""
             }
            },
            "marker": {
             "colorbar": {
              "outlinewidth": 0,
              "ticks": ""
             }
            },
            "type": "scatter3d"
           }
          ],
          "scattercarpet": [
           {
            "marker": {
             "colorbar": {
              "outlinewidth": 0,
              "ticks": ""
             }
            },
            "type": "scattercarpet"
           }
          ],
          "scattergeo": [
           {
            "marker": {
             "colorbar": {
              "outlinewidth": 0,
              "ticks": ""
             }
            },
            "type": "scattergeo"
           }
          ],
          "scattergl": [
           {
            "marker": {
             "colorbar": {
              "outlinewidth": 0,
              "ticks": ""
             }
            },
            "type": "scattergl"
           }
          ],
          "scattermap": [
           {
            "marker": {
             "colorbar": {
              "outlinewidth": 0,
              "ticks": ""
             }
            },
            "type": "scattermap"
           }
          ],
          "scattermapbox": [
           {
            "marker": {
             "colorbar": {
              "outlinewidth": 0,
              "ticks": ""
             }
            },
            "type": "scattermapbox"
           }
          ],
          "scatterpolar": [
           {
            "marker": {
             "colorbar": {
              "outlinewidth": 0,
              "ticks": ""
             }
            },
            "type": "scatterpolar"
           }
          ],
          "scatterpolargl": [
           {
            "marker": {
             "colorbar": {
              "outlinewidth": 0,
              "ticks": ""
             }
            },
            "type": "scatterpolargl"
           }
          ],
          "scatterternary": [
           {
            "marker": {
             "colorbar": {
              "outlinewidth": 0,
              "ticks": ""
             }
            },
            "type": "scatterternary"
           }
          ],
          "surface": [
           {
            "colorbar": {
             "outlinewidth": 0,
             "ticks": ""
            },
            "colorscale": [
             [
              0,
              "#0d0887"
             ],
             [
              0.1111111111111111,
              "#46039f"
             ],
             [
              0.2222222222222222,
              "#7201a8"
             ],
             [
              0.3333333333333333,
              "#9c179e"
             ],
             [
              0.4444444444444444,
              "#bd3786"
             ],
             [
              0.5555555555555556,
              "#d8576b"
             ],
             [
              0.6666666666666666,
              "#ed7953"
             ],
             [
              0.7777777777777778,
              "#fb9f3a"
             ],
             [
              0.8888888888888888,
              "#fdca26"
             ],
             [
              1,
              "#f0f921"
             ]
            ],
            "type": "surface"
           }
          ],
          "table": [
           {
            "cells": {
             "fill": {
              "color": "#EBF0F8"
             },
             "line": {
              "color": "white"
             }
            },
            "header": {
             "fill": {
              "color": "#C8D4E3"
             },
             "line": {
              "color": "white"
             }
            },
            "type": "table"
           }
          ]
         },
         "layout": {
          "annotationdefaults": {
           "arrowcolor": "#2a3f5f",
           "arrowhead": 0,
           "arrowwidth": 1
          },
          "autotypenumbers": "strict",
          "coloraxis": {
           "colorbar": {
            "outlinewidth": 0,
            "ticks": ""
           }
          },
          "colorscale": {
           "diverging": [
            [
             0,
             "#8e0152"
            ],
            [
             0.1,
             "#c51b7d"
            ],
            [
             0.2,
             "#de77ae"
            ],
            [
             0.3,
             "#f1b6da"
            ],
            [
             0.4,
             "#fde0ef"
            ],
            [
             0.5,
             "#f7f7f7"
            ],
            [
             0.6,
             "#e6f5d0"
            ],
            [
             0.7,
             "#b8e186"
            ],
            [
             0.8,
             "#7fbc41"
            ],
            [
             0.9,
             "#4d9221"
            ],
            [
             1,
             "#276419"
            ]
           ],
           "sequential": [
            [
             0,
             "#0d0887"
            ],
            [
             0.1111111111111111,
             "#46039f"
            ],
            [
             0.2222222222222222,
             "#7201a8"
            ],
            [
             0.3333333333333333,
             "#9c179e"
            ],
            [
             0.4444444444444444,
             "#bd3786"
            ],
            [
             0.5555555555555556,
             "#d8576b"
            ],
            [
             0.6666666666666666,
             "#ed7953"
            ],
            [
             0.7777777777777778,
             "#fb9f3a"
            ],
            [
             0.8888888888888888,
             "#fdca26"
            ],
            [
             1,
             "#f0f921"
            ]
           ],
           "sequentialminus": [
            [
             0,
             "#0d0887"
            ],
            [
             0.1111111111111111,
             "#46039f"
            ],
            [
             0.2222222222222222,
             "#7201a8"
            ],
            [
             0.3333333333333333,
             "#9c179e"
            ],
            [
             0.4444444444444444,
             "#bd3786"
            ],
            [
             0.5555555555555556,
             "#d8576b"
            ],
            [
             0.6666666666666666,
             "#ed7953"
            ],
            [
             0.7777777777777778,
             "#fb9f3a"
            ],
            [
             0.8888888888888888,
             "#fdca26"
            ],
            [
             1,
             "#f0f921"
            ]
           ]
          },
          "colorway": [
           "#636efa",
           "#EF553B",
           "#00cc96",
           "#ab63fa",
           "#FFA15A",
           "#19d3f3",
           "#FF6692",
           "#B6E880",
           "#FF97FF",
           "#FECB52"
          ],
          "font": {
           "color": "#2a3f5f"
          },
          "geo": {
           "bgcolor": "white",
           "lakecolor": "white",
           "landcolor": "#E5ECF6",
           "showlakes": true,
           "showland": true,
           "subunitcolor": "white"
          },
          "hoverlabel": {
           "align": "left"
          },
          "hovermode": "closest",
          "mapbox": {
           "style": "light"
          },
          "paper_bgcolor": "white",
          "plot_bgcolor": "#E5ECF6",
          "polar": {
           "angularaxis": {
            "gridcolor": "white",
            "linecolor": "white",
            "ticks": ""
           },
           "bgcolor": "#E5ECF6",
           "radialaxis": {
            "gridcolor": "white",
            "linecolor": "white",
            "ticks": ""
           }
          },
          "scene": {
           "xaxis": {
            "backgroundcolor": "#E5ECF6",
            "gridcolor": "white",
            "gridwidth": 2,
            "linecolor": "white",
            "showbackground": true,
            "ticks": "",
            "zerolinecolor": "white"
           },
           "yaxis": {
            "backgroundcolor": "#E5ECF6",
            "gridcolor": "white",
            "gridwidth": 2,
            "linecolor": "white",
            "showbackground": true,
            "ticks": "",
            "zerolinecolor": "white"
           },
           "zaxis": {
            "backgroundcolor": "#E5ECF6",
            "gridcolor": "white",
            "gridwidth": 2,
            "linecolor": "white",
            "showbackground": true,
            "ticks": "",
            "zerolinecolor": "white"
           }
          },
          "shapedefaults": {
           "line": {
            "color": "#2a3f5f"
           }
          },
          "ternary": {
           "aaxis": {
            "gridcolor": "white",
            "linecolor": "white",
            "ticks": ""
           },
           "baxis": {
            "gridcolor": "white",
            "linecolor": "white",
            "ticks": ""
           },
           "bgcolor": "#E5ECF6",
           "caxis": {
            "gridcolor": "white",
            "linecolor": "white",
            "ticks": ""
           }
          },
          "title": {
           "x": 0.05
          },
          "xaxis": {
           "automargin": true,
           "gridcolor": "white",
           "linecolor": "white",
           "ticks": "",
           "title": {
            "standoff": 15
           },
           "zerolinecolor": "white",
           "zerolinewidth": 2
          },
          "yaxis": {
           "automargin": true,
           "gridcolor": "white",
           "linecolor": "white",
           "ticks": "",
           "title": {
            "standoff": 15
           },
           "zerolinecolor": "white",
           "zerolinewidth": 2
          }
         }
        },
        "title": {
         "text": "totalsteps vs calories"
        },
        "xaxis": {
         "anchor": "y",
         "domain": [
          0,
          1
         ],
         "title": {
          "text": "calories"
         }
        },
        "yaxis": {
         "anchor": "x",
         "domain": [
          0,
          1
         ],
         "title": {
          "text": "totalsteps"
         }
        }
       }
      }
     },
     "metadata": {},
     "output_type": "display_data"
    }
   ],
   "source": [
    "plot4=px.scatter(daily_activity,y='totalsteps',x='calories',title='totalsteps vs calories')\n",
    "plot4"
   ]
  },
  {
   "cell_type": "markdown",
   "metadata": {},
   "source": [
    "### Findings:\n",
    "- **Positive Trend**: The scatter plot shows a general upward trend between totalsteps and calories, indicating that as steps increase, calories burned tend to rise.\n",
    "- **Variability**: There’s significant variability, especially at higher calorie counts (e.g., 3000–5000 calories), where totalsteps range widely from 10k to 30k, showing other factors may influence calorie burn.\n",
    "- **Outliers**: A few outliers exist, such as points with high calories (around 5000) but relatively low steps (under 10k), suggesting additional calorie-burning activities beyond walking."
   ]
  },
  {
   "cell_type": "code",
   "execution_count": 42,
   "metadata": {},
   "outputs": [
    {
     "data": {
      "application/vnd.plotly.v1+json": {
       "config": {
        "plotlyServerURL": "https://plot.ly"
       },
       "data": [
        {
         "hovertemplate": "calories=%{x}<br>sedentaryminutes=%{y}<extra></extra>",
         "legendgroup": "",
         "marker": {
          "color": "#636efa",
          "symbol": "circle"
         },
         "mode": "markers",
         "name": "",
         "orientation": "v",
         "showlegend": false,
         "type": "scatter",
         "x": {
          "bdata": "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",
          "dtype": "i2"
         },
         "xaxis": "x",
         "y": {
          "bdata": "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",
          "dtype": "i2"
         },
         "yaxis": "y"
        }
       ],
       "layout": {
        "legend": {
         "tracegroupgap": 0
        },
        "template": {
         "data": {
          "bar": [
           {
            "error_x": {
             "color": "#2a3f5f"
            },
            "error_y": {
             "color": "#2a3f5f"
            },
            "marker": {
             "line": {
              "color": "#E5ECF6",
              "width": 0.5
             },
             "pattern": {
              "fillmode": "overlay",
              "size": 10,
              "solidity": 0.2
             }
            },
            "type": "bar"
           }
          ],
          "barpolar": [
           {
            "marker": {
             "line": {
              "color": "#E5ECF6",
              "width": 0.5
             },
             "pattern": {
              "fillmode": "overlay",
              "size": 10,
              "solidity": 0.2
             }
            },
            "type": "barpolar"
           }
          ],
          "carpet": [
           {
            "aaxis": {
             "endlinecolor": "#2a3f5f",
             "gridcolor": "white",
             "linecolor": "white",
             "minorgridcolor": "white",
             "startlinecolor": "#2a3f5f"
            },
            "baxis": {
             "endlinecolor": "#2a3f5f",
             "gridcolor": "white",
             "linecolor": "white",
             "minorgridcolor": "white",
             "startlinecolor": "#2a3f5f"
            },
            "type": "carpet"
           }
          ],
          "choropleth": [
           {
            "colorbar": {
             "outlinewidth": 0,
             "ticks": ""
            },
            "type": "choropleth"
           }
          ],
          "contour": [
           {
            "colorbar": {
             "outlinewidth": 0,
             "ticks": ""
            },
            "colorscale": [
             [
              0,
              "#0d0887"
             ],
             [
              0.1111111111111111,
              "#46039f"
             ],
             [
              0.2222222222222222,
              "#7201a8"
             ],
             [
              0.3333333333333333,
              "#9c179e"
             ],
             [
              0.4444444444444444,
              "#bd3786"
             ],
             [
              0.5555555555555556,
              "#d8576b"
             ],
             [
              0.6666666666666666,
              "#ed7953"
             ],
             [
              0.7777777777777778,
              "#fb9f3a"
             ],
             [
              0.8888888888888888,
              "#fdca26"
             ],
             [
              1,
              "#f0f921"
             ]
            ],
            "type": "contour"
           }
          ],
          "contourcarpet": [
           {
            "colorbar": {
             "outlinewidth": 0,
             "ticks": ""
            },
            "type": "contourcarpet"
           }
          ],
          "heatmap": [
           {
            "colorbar": {
             "outlinewidth": 0,
             "ticks": ""
            },
            "colorscale": [
             [
              0,
              "#0d0887"
             ],
             [
              0.1111111111111111,
              "#46039f"
             ],
             [
              0.2222222222222222,
              "#7201a8"
             ],
             [
              0.3333333333333333,
              "#9c179e"
             ],
             [
              0.4444444444444444,
              "#bd3786"
             ],
             [
              0.5555555555555556,
              "#d8576b"
             ],
             [
              0.6666666666666666,
              "#ed7953"
             ],
             [
              0.7777777777777778,
              "#fb9f3a"
             ],
             [
              0.8888888888888888,
              "#fdca26"
             ],
             [
              1,
              "#f0f921"
             ]
            ],
            "type": "heatmap"
           }
          ],
          "histogram": [
           {
            "marker": {
             "pattern": {
              "fillmode": "overlay",
              "size": 10,
              "solidity": 0.2
             }
            },
            "type": "histogram"
           }
          ],
          "histogram2d": [
           {
            "colorbar": {
             "outlinewidth": 0,
             "ticks": ""
            },
            "colorscale": [
             [
              0,
              "#0d0887"
             ],
             [
              0.1111111111111111,
              "#46039f"
             ],
             [
              0.2222222222222222,
              "#7201a8"
             ],
             [
              0.3333333333333333,
              "#9c179e"
             ],
             [
              0.4444444444444444,
              "#bd3786"
             ],
             [
              0.5555555555555556,
              "#d8576b"
             ],
             [
              0.6666666666666666,
              "#ed7953"
             ],
             [
              0.7777777777777778,
              "#fb9f3a"
             ],
             [
              0.8888888888888888,
              "#fdca26"
             ],
             [
              1,
              "#f0f921"
             ]
            ],
            "type": "histogram2d"
           }
          ],
          "histogram2dcontour": [
           {
            "colorbar": {
             "outlinewidth": 0,
             "ticks": ""
            },
            "colorscale": [
             [
              0,
              "#0d0887"
             ],
             [
              0.1111111111111111,
              "#46039f"
             ],
             [
              0.2222222222222222,
              "#7201a8"
             ],
             [
              0.3333333333333333,
              "#9c179e"
             ],
             [
              0.4444444444444444,
              "#bd3786"
             ],
             [
              0.5555555555555556,
              "#d8576b"
             ],
             [
              0.6666666666666666,
              "#ed7953"
             ],
             [
              0.7777777777777778,
              "#fb9f3a"
             ],
             [
              0.8888888888888888,
              "#fdca26"
             ],
             [
              1,
              "#f0f921"
             ]
            ],
            "type": "histogram2dcontour"
           }
          ],
          "mesh3d": [
           {
            "colorbar": {
             "outlinewidth": 0,
             "ticks": ""
            },
            "type": "mesh3d"
           }
          ],
          "parcoords": [
           {
            "line": {
             "colorbar": {
              "outlinewidth": 0,
              "ticks": ""
             }
            },
            "type": "parcoords"
           }
          ],
          "pie": [
           {
            "automargin": true,
            "type": "pie"
           }
          ],
          "scatter": [
           {
            "fillpattern": {
             "fillmode": "overlay",
             "size": 10,
             "solidity": 0.2
            },
            "type": "scatter"
           }
          ],
          "scatter3d": [
           {
            "line": {
             "colorbar": {
              "outlinewidth": 0,
              "ticks": ""
             }
            },
            "marker": {
             "colorbar": {
              "outlinewidth": 0,
              "ticks": ""
             }
            },
            "type": "scatter3d"
           }
          ],
          "scattercarpet": [
           {
            "marker": {
             "colorbar": {
              "outlinewidth": 0,
              "ticks": ""
             }
            },
            "type": "scattercarpet"
           }
          ],
          "scattergeo": [
           {
            "marker": {
             "colorbar": {
              "outlinewidth": 0,
              "ticks": ""
             }
            },
            "type": "scattergeo"
           }
          ],
          "scattergl": [
           {
            "marker": {
             "colorbar": {
              "outlinewidth": 0,
              "ticks": ""
             }
            },
            "type": "scattergl"
           }
          ],
          "scattermap": [
           {
            "marker": {
             "colorbar": {
              "outlinewidth": 0,
              "ticks": ""
             }
            },
            "type": "scattermap"
           }
          ],
          "scattermapbox": [
           {
            "marker": {
             "colorbar": {
              "outlinewidth": 0,
              "ticks": ""
             }
            },
            "type": "scattermapbox"
           }
          ],
          "scatterpolar": [
           {
            "marker": {
             "colorbar": {
              "outlinewidth": 0,
              "ticks": ""
             }
            },
            "type": "scatterpolar"
           }
          ],
          "scatterpolargl": [
           {
            "marker": {
             "colorbar": {
              "outlinewidth": 0,
              "ticks": ""
             }
            },
            "type": "scatterpolargl"
           }
          ],
          "scatterternary": [
           {
            "marker": {
             "colorbar": {
              "outlinewidth": 0,
              "ticks": ""
             }
            },
            "type": "scatterternary"
           }
          ],
          "surface": [
           {
            "colorbar": {
             "outlinewidth": 0,
             "ticks": ""
            },
            "colorscale": [
             [
              0,
              "#0d0887"
             ],
             [
              0.1111111111111111,
              "#46039f"
             ],
             [
              0.2222222222222222,
              "#7201a8"
             ],
             [
              0.3333333333333333,
              "#9c179e"
             ],
             [
              0.4444444444444444,
              "#bd3786"
             ],
             [
              0.5555555555555556,
              "#d8576b"
             ],
             [
              0.6666666666666666,
              "#ed7953"
             ],
             [
              0.7777777777777778,
              "#fb9f3a"
             ],
             [
              0.8888888888888888,
              "#fdca26"
             ],
             [
              1,
              "#f0f921"
             ]
            ],
            "type": "surface"
           }
          ],
          "table": [
           {
            "cells": {
             "fill": {
              "color": "#EBF0F8"
             },
             "line": {
              "color": "white"
             }
            },
            "header": {
             "fill": {
              "color": "#C8D4E3"
             },
             "line": {
              "color": "white"
             }
            },
            "type": "table"
           }
          ]
         },
         "layout": {
          "annotationdefaults": {
           "arrowcolor": "#2a3f5f",
           "arrowhead": 0,
           "arrowwidth": 1
          },
          "autotypenumbers": "strict",
          "coloraxis": {
           "colorbar": {
            "outlinewidth": 0,
            "ticks": ""
           }
          },
          "colorscale": {
           "diverging": [
            [
             0,
             "#8e0152"
            ],
            [
             0.1,
             "#c51b7d"
            ],
            [
             0.2,
             "#de77ae"
            ],
            [
             0.3,
             "#f1b6da"
            ],
            [
             0.4,
             "#fde0ef"
            ],
            [
             0.5,
             "#f7f7f7"
            ],
            [
             0.6,
             "#e6f5d0"
            ],
            [
             0.7,
             "#b8e186"
            ],
            [
             0.8,
             "#7fbc41"
            ],
            [
             0.9,
             "#4d9221"
            ],
            [
             1,
             "#276419"
            ]
           ],
           "sequential": [
            [
             0,
             "#0d0887"
            ],
            [
             0.1111111111111111,
             "#46039f"
            ],
            [
             0.2222222222222222,
             "#7201a8"
            ],
            [
             0.3333333333333333,
             "#9c179e"
            ],
            [
             0.4444444444444444,
             "#bd3786"
            ],
            [
             0.5555555555555556,
             "#d8576b"
            ],
            [
             0.6666666666666666,
             "#ed7953"
            ],
            [
             0.7777777777777778,
             "#fb9f3a"
            ],
            [
             0.8888888888888888,
             "#fdca26"
            ],
            [
             1,
             "#f0f921"
            ]
           ],
           "sequentialminus": [
            [
             0,
             "#0d0887"
            ],
            [
             0.1111111111111111,
             "#46039f"
            ],
            [
             0.2222222222222222,
             "#7201a8"
            ],
            [
             0.3333333333333333,
             "#9c179e"
            ],
            [
             0.4444444444444444,
             "#bd3786"
            ],
            [
             0.5555555555555556,
             "#d8576b"
            ],
            [
             0.6666666666666666,
             "#ed7953"
            ],
            [
             0.7777777777777778,
             "#fb9f3a"
            ],
            [
             0.8888888888888888,
             "#fdca26"
            ],
            [
             1,
             "#f0f921"
            ]
           ]
          },
          "colorway": [
           "#636efa",
           "#EF553B",
           "#00cc96",
           "#ab63fa",
           "#FFA15A",
           "#19d3f3",
           "#FF6692",
           "#B6E880",
           "#FF97FF",
           "#FECB52"
          ],
          "font": {
           "color": "#2a3f5f"
          },
          "geo": {
           "bgcolor": "white",
           "lakecolor": "white",
           "landcolor": "#E5ECF6",
           "showlakes": true,
           "showland": true,
           "subunitcolor": "white"
          },
          "hoverlabel": {
           "align": "left"
          },
          "hovermode": "closest",
          "mapbox": {
           "style": "light"
          },
          "paper_bgcolor": "white",
          "plot_bgcolor": "#E5ECF6",
          "polar": {
           "angularaxis": {
            "gridcolor": "white",
            "linecolor": "white",
            "ticks": ""
           },
           "bgcolor": "#E5ECF6",
           "radialaxis": {
            "gridcolor": "white",
            "linecolor": "white",
            "ticks": ""
           }
          },
          "scene": {
           "xaxis": {
            "backgroundcolor": "#E5ECF6",
            "gridcolor": "white",
            "gridwidth": 2,
            "linecolor": "white",
            "showbackground": true,
            "ticks": "",
            "zerolinecolor": "white"
           },
           "yaxis": {
            "backgroundcolor": "#E5ECF6",
            "gridcolor": "white",
            "gridwidth": 2,
            "linecolor": "white",
            "showbackground": true,
            "ticks": "",
            "zerolinecolor": "white"
           },
           "zaxis": {
            "backgroundcolor": "#E5ECF6",
            "gridcolor": "white",
            "gridwidth": 2,
            "linecolor": "white",
            "showbackground": true,
            "ticks": "",
            "zerolinecolor": "white"
           }
          },
          "shapedefaults": {
           "line": {
            "color": "#2a3f5f"
           }
          },
          "ternary": {
           "aaxis": {
            "gridcolor": "white",
            "linecolor": "white",
            "ticks": ""
           },
           "baxis": {
            "gridcolor": "white",
            "linecolor": "white",
            "ticks": ""
           },
           "bgcolor": "#E5ECF6",
           "caxis": {
            "gridcolor": "white",
            "linecolor": "white",
            "ticks": ""
           }
          },
          "title": {
           "x": 0.05
          },
          "xaxis": {
           "automargin": true,
           "gridcolor": "white",
           "linecolor": "white",
           "ticks": "",
           "title": {
            "standoff": 15
           },
           "zerolinecolor": "white",
           "zerolinewidth": 2
          },
          "yaxis": {
           "automargin": true,
           "gridcolor": "white",
           "linecolor": "white",
           "ticks": "",
           "title": {
            "standoff": 15
           },
           "zerolinecolor": "white",
           "zerolinewidth": 2
          }
         }
        },
        "title": {
         "text": "sedentaryminutes vs calories"
        },
        "xaxis": {
         "anchor": "y",
         "domain": [
          0,
          1
         ],
         "title": {
          "text": "calories"
         }
        },
        "yaxis": {
         "anchor": "x",
         "domain": [
          0,
          1
         ],
         "title": {
          "text": "sedentaryminutes"
         }
        }
       }
      }
     },
     "metadata": {},
     "output_type": "display_data"
    }
   ],
   "source": [
    "plot5=px.scatter(daily_activity,y='sedentaryminutes',x='calories',title='sedentaryminutes vs calories')\n",
    "plot5"
   ]
  },
  {
   "cell_type": "markdown",
   "metadata": {},
   "source": [
    "### Findings:\n",
    "- **Weak Correlation**: The scatter plot shows a very weak relationship between sedentaryminutes and calories, aligning with the correlation matrix , indicating little to no direct impact.\n",
    "- **Wide Spread**: Sedentaryminutes range from 0 to 1500, while calories range from 0 to 5000, with no clear trend—high sedentary time can correspond to both low and high calorie burn.\n",
    "- **Clusters**: Most data points cluster between 500–1000 sedentary minutes and 2000–4000 calories, suggesting typical sedentary behavior doesn’t strongly affect calorie burn.."
   ]
  },
  {
   "cell_type": "code",
   "execution_count": 43,
   "metadata": {},
   "outputs": [
    {
     "data": {
      "application/vnd.plotly.v1+json": {
       "config": {
        "plotlyServerURL": "https://plot.ly"
       },
       "data": [
        {
         "alignmentgroup": "True",
         "hovertemplate": "variable=totalsteps<br>weekday=%{x}<br>value=%{y}<extra></extra>",
         "legendgroup": "totalsteps",
         "marker": {
          "color": "#636efa",
          "pattern": {
           "shape": ""
          }
         },
         "name": "totalsteps",
         "offsetgroup": "totalsteps",
         "orientation": "v",
         "showlegend": true,
         "textposition": "auto",
         "type": "bar",
         "x": [
          "Friday",
          "Monday",
          "Saturday",
          "Sunday",
          "Thursday",
          "Tuesday",
          "Wednesday"
         ],
         "xaxis": "x",
         "y": {
          "bdata": "7VEOAEg/DgAZbQ8ACc0MAJKcEAA52BIAUk0RAA==",
          "dtype": "i4"
         },
         "yaxis": "y"
        },
        {
         "alignmentgroup": "True",
         "hovertemplate": "variable=calories<br>weekday=%{x}<br>value=%{y}<extra></extra>",
         "legendgroup": "calories",
         "marker": {
          "color": "#EF553B",
          "pattern": {
           "shape": ""
          }
         },
         "name": "calories",
         "offsetgroup": "calories",
         "orientation": "v",
         "showlegend": true,
         "textposition": "auto",
         "type": "bar",
         "x": [
          "Friday",
          "Monday",
          "Saturday",
          "Sunday",
          "Thursday",
          "Tuesday",
          "Wednesday"
         ],
         "xaxis": "x",
         "y": {
          "bdata": "rXsEAHlBBACwdAQAny0EAAnvBADidgUAMUUFAA==",
          "dtype": "i4"
         },
         "yaxis": "y"
        }
       ],
       "layout": {
        "barmode": "group",
        "legend": {
         "title": {
          "text": "variable"
         },
         "tracegroupgap": 0
        },
        "template": {
         "data": {
          "bar": [
           {
            "error_x": {
             "color": "#2a3f5f"
            },
            "error_y": {
             "color": "#2a3f5f"
            },
            "marker": {
             "line": {
              "color": "#E5ECF6",
              "width": 0.5
             },
             "pattern": {
              "fillmode": "overlay",
              "size": 10,
              "solidity": 0.2
             }
            },
            "type": "bar"
           }
          ],
          "barpolar": [
           {
            "marker": {
             "line": {
              "color": "#E5ECF6",
              "width": 0.5
             },
             "pattern": {
              "fillmode": "overlay",
              "size": 10,
              "solidity": 0.2
             }
            },
            "type": "barpolar"
           }
          ],
          "carpet": [
           {
            "aaxis": {
             "endlinecolor": "#2a3f5f",
             "gridcolor": "white",
             "linecolor": "white",
             "minorgridcolor": "white",
             "startlinecolor": "#2a3f5f"
            },
            "baxis": {
             "endlinecolor": "#2a3f5f",
             "gridcolor": "white",
             "linecolor": "white",
             "minorgridcolor": "white",
             "startlinecolor": "#2a3f5f"
            },
            "type": "carpet"
           }
          ],
          "choropleth": [
           {
            "colorbar": {
             "outlinewidth": 0,
             "ticks": ""
            },
            "type": "choropleth"
           }
          ],
          "contour": [
           {
            "colorbar": {
             "outlinewidth": 0,
             "ticks": ""
            },
            "colorscale": [
             [
              0,
              "#0d0887"
             ],
             [
              0.1111111111111111,
              "#46039f"
             ],
             [
              0.2222222222222222,
              "#7201a8"
             ],
             [
              0.3333333333333333,
              "#9c179e"
             ],
             [
              0.4444444444444444,
              "#bd3786"
             ],
             [
              0.5555555555555556,
              "#d8576b"
             ],
             [
              0.6666666666666666,
              "#ed7953"
             ],
             [
              0.7777777777777778,
              "#fb9f3a"
             ],
             [
              0.8888888888888888,
              "#fdca26"
             ],
             [
              1,
              "#f0f921"
             ]
            ],
            "type": "contour"
           }
          ],
          "contourcarpet": [
           {
            "colorbar": {
             "outlinewidth": 0,
             "ticks": ""
            },
            "type": "contourcarpet"
           }
          ],
          "heatmap": [
           {
            "colorbar": {
             "outlinewidth": 0,
             "ticks": ""
            },
            "colorscale": [
             [
              0,
              "#0d0887"
             ],
             [
              0.1111111111111111,
              "#46039f"
             ],
             [
              0.2222222222222222,
              "#7201a8"
             ],
             [
              0.3333333333333333,
              "#9c179e"
             ],
             [
              0.4444444444444444,
              "#bd3786"
             ],
             [
              0.5555555555555556,
              "#d8576b"
             ],
             [
              0.6666666666666666,
              "#ed7953"
             ],
             [
              0.7777777777777778,
              "#fb9f3a"
             ],
             [
              0.8888888888888888,
              "#fdca26"
             ],
             [
              1,
              "#f0f921"
             ]
            ],
            "type": "heatmap"
           }
          ],
          "histogram": [
           {
            "marker": {
             "pattern": {
              "fillmode": "overlay",
              "size": 10,
              "solidity": 0.2
             }
            },
            "type": "histogram"
           }
          ],
          "histogram2d": [
           {
            "colorbar": {
             "outlinewidth": 0,
             "ticks": ""
            },
            "colorscale": [
             [
              0,
              "#0d0887"
             ],
             [
              0.1111111111111111,
              "#46039f"
             ],
             [
              0.2222222222222222,
              "#7201a8"
             ],
             [
              0.3333333333333333,
              "#9c179e"
             ],
             [
              0.4444444444444444,
              "#bd3786"
             ],
             [
              0.5555555555555556,
              "#d8576b"
             ],
             [
              0.6666666666666666,
              "#ed7953"
             ],
             [
              0.7777777777777778,
              "#fb9f3a"
             ],
             [
              0.8888888888888888,
              "#fdca26"
             ],
             [
              1,
              "#f0f921"
             ]
            ],
            "type": "histogram2d"
           }
          ],
          "histogram2dcontour": [
           {
            "colorbar": {
             "outlinewidth": 0,
             "ticks": ""
            },
            "colorscale": [
             [
              0,
              "#0d0887"
             ],
             [
              0.1111111111111111,
              "#46039f"
             ],
             [
              0.2222222222222222,
              "#7201a8"
             ],
             [
              0.3333333333333333,
              "#9c179e"
             ],
             [
              0.4444444444444444,
              "#bd3786"
             ],
             [
              0.5555555555555556,
              "#d8576b"
             ],
             [
              0.6666666666666666,
              "#ed7953"
             ],
             [
              0.7777777777777778,
              "#fb9f3a"
             ],
             [
              0.8888888888888888,
              "#fdca26"
             ],
             [
              1,
              "#f0f921"
             ]
            ],
            "type": "histogram2dcontour"
           }
          ],
          "mesh3d": [
           {
            "colorbar": {
             "outlinewidth": 0,
             "ticks": ""
            },
            "type": "mesh3d"
           }
          ],
          "parcoords": [
           {
            "line": {
             "colorbar": {
              "outlinewidth": 0,
              "ticks": ""
             }
            },
            "type": "parcoords"
           }
          ],
          "pie": [
           {
            "automargin": true,
            "type": "pie"
           }
          ],
          "scatter": [
           {
            "fillpattern": {
             "fillmode": "overlay",
             "size": 10,
             "solidity": 0.2
            },
            "type": "scatter"
           }
          ],
          "scatter3d": [
           {
            "line": {
             "colorbar": {
              "outlinewidth": 0,
              "ticks": ""
             }
            },
            "marker": {
             "colorbar": {
              "outlinewidth": 0,
              "ticks": ""
             }
            },
            "type": "scatter3d"
           }
          ],
          "scattercarpet": [
           {
            "marker": {
             "colorbar": {
              "outlinewidth": 0,
              "ticks": ""
             }
            },
            "type": "scattercarpet"
           }
          ],
          "scattergeo": [
           {
            "marker": {
             "colorbar": {
              "outlinewidth": 0,
              "ticks": ""
             }
            },
            "type": "scattergeo"
           }
          ],
          "scattergl": [
           {
            "marker": {
             "colorbar": {
              "outlinewidth": 0,
              "ticks": ""
             }
            },
            "type": "scattergl"
           }
          ],
          "scattermap": [
           {
            "marker": {
             "colorbar": {
              "outlinewidth": 0,
              "ticks": ""
             }
            },
            "type": "scattermap"
           }
          ],
          "scattermapbox": [
           {
            "marker": {
             "colorbar": {
              "outlinewidth": 0,
              "ticks": ""
             }
            },
            "type": "scattermapbox"
           }
          ],
          "scatterpolar": [
           {
            "marker": {
             "colorbar": {
              "outlinewidth": 0,
              "ticks": ""
             }
            },
            "type": "scatterpolar"
           }
          ],
          "scatterpolargl": [
           {
            "marker": {
             "colorbar": {
              "outlinewidth": 0,
              "ticks": ""
             }
            },
            "type": "scatterpolargl"
           }
          ],
          "scatterternary": [
           {
            "marker": {
             "colorbar": {
              "outlinewidth": 0,
              "ticks": ""
             }
            },
            "type": "scatterternary"
           }
          ],
          "surface": [
           {
            "colorbar": {
             "outlinewidth": 0,
             "ticks": ""
            },
            "colorscale": [
             [
              0,
              "#0d0887"
             ],
             [
              0.1111111111111111,
              "#46039f"
             ],
             [
              0.2222222222222222,
              "#7201a8"
             ],
             [
              0.3333333333333333,
              "#9c179e"
             ],
             [
              0.4444444444444444,
              "#bd3786"
             ],
             [
              0.5555555555555556,
              "#d8576b"
             ],
             [
              0.6666666666666666,
              "#ed7953"
             ],
             [
              0.7777777777777778,
              "#fb9f3a"
             ],
             [
              0.8888888888888888,
              "#fdca26"
             ],
             [
              1,
              "#f0f921"
             ]
            ],
            "type": "surface"
           }
          ],
          "table": [
           {
            "cells": {
             "fill": {
              "color": "#EBF0F8"
             },
             "line": {
              "color": "white"
             }
            },
            "header": {
             "fill": {
              "color": "#C8D4E3"
             },
             "line": {
              "color": "white"
             }
            },
            "type": "table"
           }
          ]
         },
         "layout": {
          "annotationdefaults": {
           "arrowcolor": "#2a3f5f",
           "arrowhead": 0,
           "arrowwidth": 1
          },
          "autotypenumbers": "strict",
          "coloraxis": {
           "colorbar": {
            "outlinewidth": 0,
            "ticks": ""
           }
          },
          "colorscale": {
           "diverging": [
            [
             0,
             "#8e0152"
            ],
            [
             0.1,
             "#c51b7d"
            ],
            [
             0.2,
             "#de77ae"
            ],
            [
             0.3,
             "#f1b6da"
            ],
            [
             0.4,
             "#fde0ef"
            ],
            [
             0.5,
             "#f7f7f7"
            ],
            [
             0.6,
             "#e6f5d0"
            ],
            [
             0.7,
             "#b8e186"
            ],
            [
             0.8,
             "#7fbc41"
            ],
            [
             0.9,
             "#4d9221"
            ],
            [
             1,
             "#276419"
            ]
           ],
           "sequential": [
            [
             0,
             "#0d0887"
            ],
            [
             0.1111111111111111,
             "#46039f"
            ],
            [
             0.2222222222222222,
             "#7201a8"
            ],
            [
             0.3333333333333333,
             "#9c179e"
            ],
            [
             0.4444444444444444,
             "#bd3786"
            ],
            [
             0.5555555555555556,
             "#d8576b"
            ],
            [
             0.6666666666666666,
             "#ed7953"
            ],
            [
             0.7777777777777778,
             "#fb9f3a"
            ],
            [
             0.8888888888888888,
             "#fdca26"
            ],
            [
             1,
             "#f0f921"
            ]
           ],
           "sequentialminus": [
            [
             0,
             "#0d0887"
            ],
            [
             0.1111111111111111,
             "#46039f"
            ],
            [
             0.2222222222222222,
             "#7201a8"
            ],
            [
             0.3333333333333333,
             "#9c179e"
            ],
            [
             0.4444444444444444,
             "#bd3786"
            ],
            [
             0.5555555555555556,
             "#d8576b"
            ],
            [
             0.6666666666666666,
             "#ed7953"
            ],
            [
             0.7777777777777778,
             "#fb9f3a"
            ],
            [
             0.8888888888888888,
             "#fdca26"
            ],
            [
             1,
             "#f0f921"
            ]
           ]
          },
          "colorway": [
           "#636efa",
           "#EF553B",
           "#00cc96",
           "#ab63fa",
           "#FFA15A",
           "#19d3f3",
           "#FF6692",
           "#B6E880",
           "#FF97FF",
           "#FECB52"
          ],
          "font": {
           "color": "#2a3f5f"
          },
          "geo": {
           "bgcolor": "white",
           "lakecolor": "white",
           "landcolor": "#E5ECF6",
           "showlakes": true,
           "showland": true,
           "subunitcolor": "white"
          },
          "hoverlabel": {
           "align": "left"
          },
          "hovermode": "closest",
          "mapbox": {
           "style": "light"
          },
          "paper_bgcolor": "white",
          "plot_bgcolor": "#E5ECF6",
          "polar": {
           "angularaxis": {
            "gridcolor": "white",
            "linecolor": "white",
            "ticks": ""
           },
           "bgcolor": "#E5ECF6",
           "radialaxis": {
            "gridcolor": "white",
            "linecolor": "white",
            "ticks": ""
           }
          },
          "scene": {
           "xaxis": {
            "backgroundcolor": "#E5ECF6",
            "gridcolor": "white",
            "gridwidth": 2,
            "linecolor": "white",
            "showbackground": true,
            "ticks": "",
            "zerolinecolor": "white"
           },
           "yaxis": {
            "backgroundcolor": "#E5ECF6",
            "gridcolor": "white",
            "gridwidth": 2,
            "linecolor": "white",
            "showbackground": true,
            "ticks": "",
            "zerolinecolor": "white"
           },
           "zaxis": {
            "backgroundcolor": "#E5ECF6",
            "gridcolor": "white",
            "gridwidth": 2,
            "linecolor": "white",
            "showbackground": true,
            "ticks": "",
            "zerolinecolor": "white"
           }
          },
          "shapedefaults": {
           "line": {
            "color": "#2a3f5f"
           }
          },
          "ternary": {
           "aaxis": {
            "gridcolor": "white",
            "linecolor": "white",
            "ticks": ""
           },
           "baxis": {
            "gridcolor": "white",
            "linecolor": "white",
            "ticks": ""
           },
           "bgcolor": "#E5ECF6",
           "caxis": {
            "gridcolor": "white",
            "linecolor": "white",
            "ticks": ""
           }
          },
          "title": {
           "x": 0.05
          },
          "xaxis": {
           "automargin": true,
           "gridcolor": "white",
           "linecolor": "white",
           "ticks": "",
           "title": {
            "standoff": 15
           },
           "zerolinecolor": "white",
           "zerolinewidth": 2
          },
          "yaxis": {
           "automargin": true,
           "gridcolor": "white",
           "linecolor": "white",
           "ticks": "",
           "title": {
            "standoff": 15
           },
           "zerolinecolor": "white",
           "zerolinewidth": 2
          }
         }
        },
        "title": {
         "text": "Total Steps and Calories by Weekday"
        },
        "xaxis": {
         "anchor": "y",
         "categoryarray": [
          "Monday",
          "Thursday",
          "Tuesday",
          "Wednesday",
          "Friday",
          "Saturday",
          "Sunday"
         ],
         "categoryorder": "array",
         "domain": [
          0,
          1
         ],
         "title": {
          "text": "weekday"
         }
        },
        "yaxis": {
         "anchor": "x",
         "domain": [
          0,
          1
         ],
         "title": {
          "text": "value"
         }
        }
       }
      }
     },
     "metadata": {},
     "output_type": "display_data"
    }
   ],
   "source": [
    "weekdays = ['Monday','Thursday','Tuesday', 'Wednesday', 'Friday', 'Saturday', 'Sunday']\n",
    "y =['totalsteps','calories']\n",
    "gp = daily_activity.groupby('weekday')[y].sum().reset_index()\n",
    "plot6 = px.bar(gp, y=y, x='weekday',barmode='group', title='Total Steps and Calories by Weekday',category_orders={'weekday':weekdays})\n",
    "plot6"
   ]
  },
  {
   "cell_type": "markdown",
   "metadata": {},
   "source": [
    "### Findings:\n",
    "- **Consistent Steps Across Weekdays**: Totalsteps (blue) remain relatively stable, ranging from 0.8M to 1.2M, with Tuesday and Thursday showing the highest steps (1.2M).\n",
    "- **Calories Follow Similar Pattern**: Calories (red) also show consistency, ranging from 0.2M to 0.3M, with slight peaks on Tuesday and Thursday, mirroring step trends.\n",
    "- **Weekend Dip**: Both totalsteps and calories are lowest on Sunday (0.8M steps, 0.2M calories), indicating reduced activity on weekends.\n",
    "- **Correlation Holds**: The parallel trends between steps and calories align with their moderate positive correlation."
   ]
  },
  {
   "cell_type": "code",
   "execution_count": 44,
   "metadata": {},
   "outputs": [
    {
     "data": {
      "application/vnd.plotly.v1+json": {
       "config": {
        "plotlyServerURL": "https://plot.ly"
       },
       "data": [
        {
         "hovertemplate": "weekday=%{x}<br>totalminutesasleep=%{y}<extra></extra>",
         "legendgroup": "Monday",
         "marker": {
          "color": "#636efa",
          "pattern": {
           "shape": ""
          }
         },
         "name": "Monday",
         "orientation": "v",
         "showlegend": true,
         "textposition": "auto",
         "type": "bar",
         "x": [
          "Monday"
         ],
         "xaxis": "x",
         "y": {
          "bdata": "CPoGAA==",
          "dtype": "i4"
         },
         "yaxis": "y"
        },
        {
         "hovertemplate": "weekday=%{x}<br>totalminutesasleep=%{y}<extra></extra>",
         "legendgroup": "Thursday",
         "marker": {
          "color": "#EF553B",
          "pattern": {
           "shape": ""
          }
         },
         "name": "Thursday",
         "orientation": "v",
         "showlegend": true,
         "textposition": "auto",
         "type": "bar",
         "x": [
          "Thursday"
         ],
         "xaxis": "x",
         "y": {
          "bdata": "yccIAA==",
          "dtype": "i4"
         },
         "yaxis": "y"
        },
        {
         "hovertemplate": "weekday=%{x}<br>totalminutesasleep=%{y}<extra></extra>",
         "legendgroup": "Tuesday",
         "marker": {
          "color": "#00cc96",
          "pattern": {
           "shape": ""
          }
         },
         "name": "Tuesday",
         "orientation": "v",
         "showlegend": true,
         "textposition": "auto",
         "type": "bar",
         "x": [
          "Tuesday"
         ],
         "xaxis": "x",
         "y": {
          "bdata": "KKEJAA==",
          "dtype": "i4"
         },
         "yaxis": "y"
        },
        {
         "hovertemplate": "weekday=%{x}<br>totalminutesasleep=%{y}<extra></extra>",
         "legendgroup": "Wednesday",
         "marker": {
          "color": "#ab63fa",
          "pattern": {
           "shape": ""
          }
         },
         "name": "Wednesday",
         "orientation": "v",
         "showlegend": true,
         "textposition": "auto",
         "type": "bar",
         "x": [
          "Wednesday"
         ],
         "xaxis": "x",
         "y": {
          "bdata": "DWoKAA==",
          "dtype": "i4"
         },
         "yaxis": "y"
        },
        {
         "hovertemplate": "weekday=%{x}<br>totalminutesasleep=%{y}<extra></extra>",
         "legendgroup": "Friday",
         "marker": {
          "color": "#FFA15A",
          "pattern": {
           "shape": ""
          }
         },
         "name": "Friday",
         "orientation": "v",
         "showlegend": true,
         "textposition": "auto",
         "type": "bar",
         "x": [
          "Friday"
         ],
         "xaxis": "x",
         "y": {
          "bdata": "klkIAA==",
          "dtype": "i4"
         },
         "yaxis": "y"
        },
        {
         "hovertemplate": "weekday=%{x}<br>totalminutesasleep=%{y}<extra></extra>",
         "legendgroup": "Saturday",
         "marker": {
          "color": "#19d3f3",
          "pattern": {
           "shape": ""
          }
         },
         "name": "Saturday",
         "orientation": "v",
         "showlegend": true,
         "textposition": "auto",
         "type": "bar",
         "x": [
          "Saturday"
         ],
         "xaxis": "x",
         "y": {
          "bdata": "aL8IAA==",
          "dtype": "i4"
         },
         "yaxis": "y"
        },
        {
         "hovertemplate": "weekday=%{x}<br>totalminutesasleep=%{y}<extra></extra>",
         "legendgroup": "Sunday",
         "marker": {
          "color": "#FF6692",
          "pattern": {
           "shape": ""
          }
         },
         "name": "Sunday",
         "orientation": "v",
         "showlegend": true,
         "textposition": "auto",
         "type": "bar",
         "x": [
          "Sunday"
         ],
         "xaxis": "x",
         "y": {
          "bdata": "eB4JAA==",
          "dtype": "i4"
         },
         "yaxis": "y"
        }
       ],
       "layout": {
        "barmode": "relative",
        "legend": {
         "title": {
          "text": "weekday"
         },
         "tracegroupgap": 0
        },
        "template": {
         "data": {
          "bar": [
           {
            "error_x": {
             "color": "#2a3f5f"
            },
            "error_y": {
             "color": "#2a3f5f"
            },
            "marker": {
             "line": {
              "color": "#E5ECF6",
              "width": 0.5
             },
             "pattern": {
              "fillmode": "overlay",
              "size": 10,
              "solidity": 0.2
             }
            },
            "type": "bar"
           }
          ],
          "barpolar": [
           {
            "marker": {
             "line": {
              "color": "#E5ECF6",
              "width": 0.5
             },
             "pattern": {
              "fillmode": "overlay",
              "size": 10,
              "solidity": 0.2
             }
            },
            "type": "barpolar"
           }
          ],
          "carpet": [
           {
            "aaxis": {
             "endlinecolor": "#2a3f5f",
             "gridcolor": "white",
             "linecolor": "white",
             "minorgridcolor": "white",
             "startlinecolor": "#2a3f5f"
            },
            "baxis": {
             "endlinecolor": "#2a3f5f",
             "gridcolor": "white",
             "linecolor": "white",
             "minorgridcolor": "white",
             "startlinecolor": "#2a3f5f"
            },
            "type": "carpet"
           }
          ],
          "choropleth": [
           {
            "colorbar": {
             "outlinewidth": 0,
             "ticks": ""
            },
            "type": "choropleth"
           }
          ],
          "contour": [
           {
            "colorbar": {
             "outlinewidth": 0,
             "ticks": ""
            },
            "colorscale": [
             [
              0,
              "#0d0887"
             ],
             [
              0.1111111111111111,
              "#46039f"
             ],
             [
              0.2222222222222222,
              "#7201a8"
             ],
             [
              0.3333333333333333,
              "#9c179e"
             ],
             [
              0.4444444444444444,
              "#bd3786"
             ],
             [
              0.5555555555555556,
              "#d8576b"
             ],
             [
              0.6666666666666666,
              "#ed7953"
             ],
             [
              0.7777777777777778,
              "#fb9f3a"
             ],
             [
              0.8888888888888888,
              "#fdca26"
             ],
             [
              1,
              "#f0f921"
             ]
            ],
            "type": "contour"
           }
          ],
          "contourcarpet": [
           {
            "colorbar": {
             "outlinewidth": 0,
             "ticks": ""
            },
            "type": "contourcarpet"
           }
          ],
          "heatmap": [
           {
            "colorbar": {
             "outlinewidth": 0,
             "ticks": ""
            },
            "colorscale": [
             [
              0,
              "#0d0887"
             ],
             [
              0.1111111111111111,
              "#46039f"
             ],
             [
              0.2222222222222222,
              "#7201a8"
             ],
             [
              0.3333333333333333,
              "#9c179e"
             ],
             [
              0.4444444444444444,
              "#bd3786"
             ],
             [
              0.5555555555555556,
              "#d8576b"
             ],
             [
              0.6666666666666666,
              "#ed7953"
             ],
             [
              0.7777777777777778,
              "#fb9f3a"
             ],
             [
              0.8888888888888888,
              "#fdca26"
             ],
             [
              1,
              "#f0f921"
             ]
            ],
            "type": "heatmap"
           }
          ],
          "histogram": [
           {
            "marker": {
             "pattern": {
              "fillmode": "overlay",
              "size": 10,
              "solidity": 0.2
             }
            },
            "type": "histogram"
           }
          ],
          "histogram2d": [
           {
            "colorbar": {
             "outlinewidth": 0,
             "ticks": ""
            },
            "colorscale": [
             [
              0,
              "#0d0887"
             ],
             [
              0.1111111111111111,
              "#46039f"
             ],
             [
              0.2222222222222222,
              "#7201a8"
             ],
             [
              0.3333333333333333,
              "#9c179e"
             ],
             [
              0.4444444444444444,
              "#bd3786"
             ],
             [
              0.5555555555555556,
              "#d8576b"
             ],
             [
              0.6666666666666666,
              "#ed7953"
             ],
             [
              0.7777777777777778,
              "#fb9f3a"
             ],
             [
              0.8888888888888888,
              "#fdca26"
             ],
             [
              1,
              "#f0f921"
             ]
            ],
            "type": "histogram2d"
           }
          ],
          "histogram2dcontour": [
           {
            "colorbar": {
             "outlinewidth": 0,
             "ticks": ""
            },
            "colorscale": [
             [
              0,
              "#0d0887"
             ],
             [
              0.1111111111111111,
              "#46039f"
             ],
             [
              0.2222222222222222,
              "#7201a8"
             ],
             [
              0.3333333333333333,
              "#9c179e"
             ],
             [
              0.4444444444444444,
              "#bd3786"
             ],
             [
              0.5555555555555556,
              "#d8576b"
             ],
             [
              0.6666666666666666,
              "#ed7953"
             ],
             [
              0.7777777777777778,
              "#fb9f3a"
             ],
             [
              0.8888888888888888,
              "#fdca26"
             ],
             [
              1,
              "#f0f921"
             ]
            ],
            "type": "histogram2dcontour"
           }
          ],
          "mesh3d": [
           {
            "colorbar": {
             "outlinewidth": 0,
             "ticks": ""
            },
            "type": "mesh3d"
           }
          ],
          "parcoords": [
           {
            "line": {
             "colorbar": {
              "outlinewidth": 0,
              "ticks": ""
             }
            },
            "type": "parcoords"
           }
          ],
          "pie": [
           {
            "automargin": true,
            "type": "pie"
           }
          ],
          "scatter": [
           {
            "fillpattern": {
             "fillmode": "overlay",
             "size": 10,
             "solidity": 0.2
            },
            "type": "scatter"
           }
          ],
          "scatter3d": [
           {
            "line": {
             "colorbar": {
              "outlinewidth": 0,
              "ticks": ""
             }
            },
            "marker": {
             "colorbar": {
              "outlinewidth": 0,
              "ticks": ""
             }
            },
            "type": "scatter3d"
           }
          ],
          "scattercarpet": [
           {
            "marker": {
             "colorbar": {
              "outlinewidth": 0,
              "ticks": ""
             }
            },
            "type": "scattercarpet"
           }
          ],
          "scattergeo": [
           {
            "marker": {
             "colorbar": {
              "outlinewidth": 0,
              "ticks": ""
             }
            },
            "type": "scattergeo"
           }
          ],
          "scattergl": [
           {
            "marker": {
             "colorbar": {
              "outlinewidth": 0,
              "ticks": ""
             }
            },
            "type": "scattergl"
           }
          ],
          "scattermap": [
           {
            "marker": {
             "colorbar": {
              "outlinewidth": 0,
              "ticks": ""
             }
            },
            "type": "scattermap"
           }
          ],
          "scattermapbox": [
           {
            "marker": {
             "colorbar": {
              "outlinewidth": 0,
              "ticks": ""
             }
            },
            "type": "scattermapbox"
           }
          ],
          "scatterpolar": [
           {
            "marker": {
             "colorbar": {
              "outlinewidth": 0,
              "ticks": ""
             }
            },
            "type": "scatterpolar"
           }
          ],
          "scatterpolargl": [
           {
            "marker": {
             "colorbar": {
              "outlinewidth": 0,
              "ticks": ""
             }
            },
            "type": "scatterpolargl"
           }
          ],
          "scatterternary": [
           {
            "marker": {
             "colorbar": {
              "outlinewidth": 0,
              "ticks": ""
             }
            },
            "type": "scatterternary"
           }
          ],
          "surface": [
           {
            "colorbar": {
             "outlinewidth": 0,
             "ticks": ""
            },
            "colorscale": [
             [
              0,
              "#0d0887"
             ],
             [
              0.1111111111111111,
              "#46039f"
             ],
             [
              0.2222222222222222,
              "#7201a8"
             ],
             [
              0.3333333333333333,
              "#9c179e"
             ],
             [
              0.4444444444444444,
              "#bd3786"
             ],
             [
              0.5555555555555556,
              "#d8576b"
             ],
             [
              0.6666666666666666,
              "#ed7953"
             ],
             [
              0.7777777777777778,
              "#fb9f3a"
             ],
             [
              0.8888888888888888,
              "#fdca26"
             ],
             [
              1,
              "#f0f921"
             ]
            ],
            "type": "surface"
           }
          ],
          "table": [
           {
            "cells": {
             "fill": {
              "color": "#EBF0F8"
             },
             "line": {
              "color": "white"
             }
            },
            "header": {
             "fill": {
              "color": "#C8D4E3"
             },
             "line": {
              "color": "white"
             }
            },
            "type": "table"
           }
          ]
         },
         "layout": {
          "annotationdefaults": {
           "arrowcolor": "#2a3f5f",
           "arrowhead": 0,
           "arrowwidth": 1
          },
          "autotypenumbers": "strict",
          "coloraxis": {
           "colorbar": {
            "outlinewidth": 0,
            "ticks": ""
           }
          },
          "colorscale": {
           "diverging": [
            [
             0,
             "#8e0152"
            ],
            [
             0.1,
             "#c51b7d"
            ],
            [
             0.2,
             "#de77ae"
            ],
            [
             0.3,
             "#f1b6da"
            ],
            [
             0.4,
             "#fde0ef"
            ],
            [
             0.5,
             "#f7f7f7"
            ],
            [
             0.6,
             "#e6f5d0"
            ],
            [
             0.7,
             "#b8e186"
            ],
            [
             0.8,
             "#7fbc41"
            ],
            [
             0.9,
             "#4d9221"
            ],
            [
             1,
             "#276419"
            ]
           ],
           "sequential": [
            [
             0,
             "#0d0887"
            ],
            [
             0.1111111111111111,
             "#46039f"
            ],
            [
             0.2222222222222222,
             "#7201a8"
            ],
            [
             0.3333333333333333,
             "#9c179e"
            ],
            [
             0.4444444444444444,
             "#bd3786"
            ],
            [
             0.5555555555555556,
             "#d8576b"
            ],
            [
             0.6666666666666666,
             "#ed7953"
            ],
            [
             0.7777777777777778,
             "#fb9f3a"
            ],
            [
             0.8888888888888888,
             "#fdca26"
            ],
            [
             1,
             "#f0f921"
            ]
           ],
           "sequentialminus": [
            [
             0,
             "#0d0887"
            ],
            [
             0.1111111111111111,
             "#46039f"
            ],
            [
             0.2222222222222222,
             "#7201a8"
            ],
            [
             0.3333333333333333,
             "#9c179e"
            ],
            [
             0.4444444444444444,
             "#bd3786"
            ],
            [
             0.5555555555555556,
             "#d8576b"
            ],
            [
             0.6666666666666666,
             "#ed7953"
            ],
            [
             0.7777777777777778,
             "#fb9f3a"
            ],
            [
             0.8888888888888888,
             "#fdca26"
            ],
            [
             1,
             "#f0f921"
            ]
           ]
          },
          "colorway": [
           "#636efa",
           "#EF553B",
           "#00cc96",
           "#ab63fa",
           "#FFA15A",
           "#19d3f3",
           "#FF6692",
           "#B6E880",
           "#FF97FF",
           "#FECB52"
          ],
          "font": {
           "color": "#2a3f5f"
          },
          "geo": {
           "bgcolor": "white",
           "lakecolor": "white",
           "landcolor": "#E5ECF6",
           "showlakes": true,
           "showland": true,
           "subunitcolor": "white"
          },
          "hoverlabel": {
           "align": "left"
          },
          "hovermode": "closest",
          "mapbox": {
           "style": "light"
          },
          "paper_bgcolor": "white",
          "plot_bgcolor": "#E5ECF6",
          "polar": {
           "angularaxis": {
            "gridcolor": "white",
            "linecolor": "white",
            "ticks": ""
           },
           "bgcolor": "#E5ECF6",
           "radialaxis": {
            "gridcolor": "white",
            "linecolor": "white",
            "ticks": ""
           }
          },
          "scene": {
           "xaxis": {
            "backgroundcolor": "#E5ECF6",
            "gridcolor": "white",
            "gridwidth": 2,
            "linecolor": "white",
            "showbackground": true,
            "ticks": "",
            "zerolinecolor": "white"
           },
           "yaxis": {
            "backgroundcolor": "#E5ECF6",
            "gridcolor": "white",
            "gridwidth": 2,
            "linecolor": "white",
            "showbackground": true,
            "ticks": "",
            "zerolinecolor": "white"
           },
           "zaxis": {
            "backgroundcolor": "#E5ECF6",
            "gridcolor": "white",
            "gridwidth": 2,
            "linecolor": "white",
            "showbackground": true,
            "ticks": "",
            "zerolinecolor": "white"
           }
          },
          "shapedefaults": {
           "line": {
            "color": "#2a3f5f"
           }
          },
          "ternary": {
           "aaxis": {
            "gridcolor": "white",
            "linecolor": "white",
            "ticks": ""
           },
           "baxis": {
            "gridcolor": "white",
            "linecolor": "white",
            "ticks": ""
           },
           "bgcolor": "#E5ECF6",
           "caxis": {
            "gridcolor": "white",
            "linecolor": "white",
            "ticks": ""
           }
          },
          "title": {
           "x": 0.05
          },
          "xaxis": {
           "automargin": true,
           "gridcolor": "white",
           "linecolor": "white",
           "ticks": "",
           "title": {
            "standoff": 15
           },
           "zerolinecolor": "white",
           "zerolinewidth": 2
          },
          "yaxis": {
           "automargin": true,
           "gridcolor": "white",
           "linecolor": "white",
           "ticks": "",
           "title": {
            "standoff": 15
           },
           "zerolinecolor": "white",
           "zerolinewidth": 2
          }
         }
        },
        "title": {
         "text": "Total Time Of Asleep "
        },
        "xaxis": {
         "anchor": "y",
         "categoryarray": [
          "Monday",
          "Thursday",
          "Tuesday",
          "Wednesday",
          "Friday",
          "Saturday",
          "Sunday"
         ],
         "categoryorder": "array",
         "domain": [
          0,
          1
         ],
         "title": {
          "text": "weekday"
         }
        },
        "yaxis": {
         "anchor": "x",
         "domain": [
          0,
          1
         ],
         "title": {
          "text": "totalminutesasleep"
         }
        }
       }
      }
     },
     "metadata": {},
     "output_type": "display_data"
    }
   ],
   "source": [
    "\n",
    "plot8 = merged_df.groupby('weekday')['totalminutesasleep'].sum().reset_index()\n",
    "plot8=px.bar(plot8,x='weekday',y='totalminutesasleep',color='weekday',category_orders={'weekday':weekdays},title='Total Time Of Asleep ')\n",
    "plot8"
   ]
  },
  {
   "cell_type": "markdown",
   "metadata": {},
   "source": [
    "### Findings:\n",
    "- **Sleep Variation by Day**: Totalminutesasleep varies across the week, with Tuesday (purple) showing the highest sleep (650k minutes) and Monday the lowest (450k minutes).\n",
    "- **Monday Sleep Deficit**: Monday’s totalminutesasleep is 457,224 minutes, significantly lower than other days, indicating a potential sleep deficit at the start of the week.\n",
    "- **Weekend Sleep Increase**: Saturda and Sunday show higher sleep (550k minutes each), suggesting more rest on weekends.\n",
    "- **Midweek Consistency**: Tuesday, Wednesday , and Thursday have relatively high and consistent sleep (600k–650k minutes), indicating stable sleep patterns midweek."
   ]
  },
  {
   "cell_type": "code",
   "execution_count": 45,
   "metadata": {},
   "outputs": [
    {
     "data": {
      "text/html": [
       "<div>\n",
       "<style scoped>\n",
       "    .dataframe tbody tr th:only-of-type {\n",
       "        vertical-align: middle;\n",
       "    }\n",
       "\n",
       "    .dataframe tbody tr th {\n",
       "        vertical-align: top;\n",
       "    }\n",
       "\n",
       "    .dataframe thead th {\n",
       "        text-align: right;\n",
       "    }\n",
       "</style>\n",
       "<table border=\"1\" class=\"dataframe\">\n",
       "  <thead>\n",
       "    <tr style=\"text-align: right;\">\n",
       "      <th></th>\n",
       "      <th>id</th>\n",
       "      <th>activityday</th>\n",
       "      <th>weekday</th>\n",
       "      <th>datehour</th>\n",
       "      <th>steptotal</th>\n",
       "      <th>calories</th>\n",
       "      <th>totalsleeprecords</th>\n",
       "      <th>totalminutesasleep</th>\n",
       "      <th>totaltimeinbed</th>\n",
       "    </tr>\n",
       "  </thead>\n",
       "  <tbody>\n",
       "    <tr>\n",
       "      <th>0</th>\n",
       "      <td>1503960366</td>\n",
       "      <td>2016-04-12</td>\n",
       "      <td>Tuesday</td>\n",
       "      <td>0</td>\n",
       "      <td>373</td>\n",
       "      <td>81</td>\n",
       "      <td>1</td>\n",
       "      <td>327</td>\n",
       "      <td>346</td>\n",
       "    </tr>\n",
       "    <tr>\n",
       "      <th>1</th>\n",
       "      <td>1503960366</td>\n",
       "      <td>2016-04-12</td>\n",
       "      <td>Tuesday</td>\n",
       "      <td>1</td>\n",
       "      <td>160</td>\n",
       "      <td>61</td>\n",
       "      <td>1</td>\n",
       "      <td>327</td>\n",
       "      <td>346</td>\n",
       "    </tr>\n",
       "    <tr>\n",
       "      <th>2</th>\n",
       "      <td>1503960366</td>\n",
       "      <td>2016-04-12</td>\n",
       "      <td>Tuesday</td>\n",
       "      <td>2</td>\n",
       "      <td>151</td>\n",
       "      <td>59</td>\n",
       "      <td>1</td>\n",
       "      <td>327</td>\n",
       "      <td>346</td>\n",
       "    </tr>\n",
       "    <tr>\n",
       "      <th>3</th>\n",
       "      <td>1503960366</td>\n",
       "      <td>2016-04-12</td>\n",
       "      <td>Tuesday</td>\n",
       "      <td>3</td>\n",
       "      <td>0</td>\n",
       "      <td>47</td>\n",
       "      <td>1</td>\n",
       "      <td>327</td>\n",
       "      <td>346</td>\n",
       "    </tr>\n",
       "    <tr>\n",
       "      <th>4</th>\n",
       "      <td>1503960366</td>\n",
       "      <td>2016-04-12</td>\n",
       "      <td>Tuesday</td>\n",
       "      <td>4</td>\n",
       "      <td>0</td>\n",
       "      <td>48</td>\n",
       "      <td>1</td>\n",
       "      <td>327</td>\n",
       "      <td>346</td>\n",
       "    </tr>\n",
       "  </tbody>\n",
       "</table>\n",
       "</div>"
      ],
      "text/plain": [
       "           id activityday  weekday  datehour  steptotal  calories  \\\n",
       "0  1503960366  2016-04-12  Tuesday         0        373        81   \n",
       "1  1503960366  2016-04-12  Tuesday         1        160        61   \n",
       "2  1503960366  2016-04-12  Tuesday         2        151        59   \n",
       "3  1503960366  2016-04-12  Tuesday         3          0        47   \n",
       "4  1503960366  2016-04-12  Tuesday         4          0        48   \n",
       "\n",
       "   totalsleeprecords  totalminutesasleep  totaltimeinbed  \n",
       "0                  1                 327             346  \n",
       "1                  1                 327             346  \n",
       "2                  1                 327             346  \n",
       "3                  1                 327             346  \n",
       "4                  1                 327             346  "
      ]
     },
     "execution_count": 45,
     "metadata": {},
     "output_type": "execute_result"
    }
   ],
   "source": [
    "merged_df.head()"
   ]
  },
  {
   "cell_type": "code",
   "execution_count": 47,
   "metadata": {},
   "outputs": [
    {
     "data": {
      "application/vnd.plotly.v1+json": {
       "config": {
        "plotlyServerURL": "https://plot.ly"
       },
       "data": [
        {
         "hovertemplate": "variable=steptotal<br>By Hour=%{x}<br>value=%{y}<extra></extra>",
         "legendgroup": "steptotal",
         "line": {
          "color": "#636efa",
          "dash": "solid",
          "shape": "spline"
         },
         "marker": {
          "symbol": "circle"
         },
         "mode": "lines+markers",
         "name": "steptotal",
         "orientation": "v",
         "showlegend": true,
         "type": "scatter",
         "x": {
          "bdata": "AAAAAAEAAAACAAAAAwAAAAQAAAAFAAAABgAAAAcAAAAIAAAACQAAAAoAAAALAAAADAAAAA0AAAAOAAAADwAAABAAAAARAAAAEgAAABMAAAAUAAAAFQAAABYAAAAXAAAA",
          "dtype": "i4"
         },
         "xaxis": "x",
         "y": {
          "bdata": "AvYnYH9CSED8DsTvQPw8QKtTsToVqzNArknZmpStG0CsdeQLdY00QNxJGkYQVklAWlpaWlpGb0CrqqqqqkZ1QCMjIyMjW3pAg4KCgoIse0Abcx9iPBCAQCvamdLrz35AZiAfVd4egkBJD1TObsWCQAUcms/1/35AzczMzMwEe0C0KdGmRMOBQJDgPoL7sIVA2OFgh4NlhkCoZqCagYqDQKRvjr45an1ASwpI+MnFdUBadjynkvpxQMVhrLb+9mVA",
          "dtype": "f8"
         },
         "yaxis": "y"
        },
        {
         "hovertemplate": "variable=calories<br>By Hour=%{x}<br>value=%{y}<extra></extra>",
         "legendgroup": "calories",
         "line": {
          "color": "#EF553B",
          "dash": "solid",
          "shape": "spline"
         },
         "marker": {
          "symbol": "circle"
         },
         "mode": "lines+markers",
         "name": "calories",
         "orientation": "v",
         "showlegend": true,
         "type": "scatter",
         "x": {
          "bdata": "AAAAAAEAAAACAAAAAwAAAAQAAAAFAAAABgAAAAcAAAAIAAAACQAAAAoAAAALAAAADAAAAA0AAAAOAAAADwAAABAAAAARAAAAEgAAABMAAAAUAAAAFQAAABYAAAAXAAAA",
          "dtype": "i4"
         },
         "xaxis": "x",
         "y": {
          "bdata": "pHE5GpfjUUCvRO1K1I5RQHwRuhehO1FAczQuR+OSUEDXkS/UNfpQQDPepQ9/fVdAtbS0tLQcWECDgoKCgpJYQDw8PDw8NFpAVVVVVVUdWkDrBlPks25cQOjYfDf8aFxAQgghhBCCXUAYBRyaz3VdQHWE2KYVV1xACtejcD1CW0AWQlcIXaFdQOLxiccn3mBA/AjuI7hvYED5xOMTj49fQLiP4D6C+1tADFE3g5ZdWECw0bsi84VWQAg2eldk3lNA",
          "dtype": "f8"
         },
         "yaxis": "y"
        }
       ],
       "layout": {
        "legend": {
         "title": {
          "text": "variable"
         },
         "tracegroupgap": 0
        },
        "template": {
         "data": {
          "bar": [
           {
            "error_x": {
             "color": "#2a3f5f"
            },
            "error_y": {
             "color": "#2a3f5f"
            },
            "marker": {
             "line": {
              "color": "#E5ECF6",
              "width": 0.5
             },
             "pattern": {
              "fillmode": "overlay",
              "size": 10,
              "solidity": 0.2
             }
            },
            "type": "bar"
           }
          ],
          "barpolar": [
           {
            "marker": {
             "line": {
              "color": "#E5ECF6",
              "width": 0.5
             },
             "pattern": {
              "fillmode": "overlay",
              "size": 10,
              "solidity": 0.2
             }
            },
            "type": "barpolar"
           }
          ],
          "carpet": [
           {
            "aaxis": {
             "endlinecolor": "#2a3f5f",
             "gridcolor": "white",
             "linecolor": "white",
             "minorgridcolor": "white",
             "startlinecolor": "#2a3f5f"
            },
            "baxis": {
             "endlinecolor": "#2a3f5f",
             "gridcolor": "white",
             "linecolor": "white",
             "minorgridcolor": "white",
             "startlinecolor": "#2a3f5f"
            },
            "type": "carpet"
           }
          ],
          "choropleth": [
           {
            "colorbar": {
             "outlinewidth": 0,
             "ticks": ""
            },
            "type": "choropleth"
           }
          ],
          "contour": [
           {
            "colorbar": {
             "outlinewidth": 0,
             "ticks": ""
            },
            "colorscale": [
             [
              0,
              "#0d0887"
             ],
             [
              0.1111111111111111,
              "#46039f"
             ],
             [
              0.2222222222222222,
              "#7201a8"
             ],
             [
              0.3333333333333333,
              "#9c179e"
             ],
             [
              0.4444444444444444,
              "#bd3786"
             ],
             [
              0.5555555555555556,
              "#d8576b"
             ],
             [
              0.6666666666666666,
              "#ed7953"
             ],
             [
              0.7777777777777778,
              "#fb9f3a"
             ],
             [
              0.8888888888888888,
              "#fdca26"
             ],
             [
              1,
              "#f0f921"
             ]
            ],
            "type": "contour"
           }
          ],
          "contourcarpet": [
           {
            "colorbar": {
             "outlinewidth": 0,
             "ticks": ""
            },
            "type": "contourcarpet"
           }
          ],
          "heatmap": [
           {
            "colorbar": {
             "outlinewidth": 0,
             "ticks": ""
            },
            "colorscale": [
             [
              0,
              "#0d0887"
             ],
             [
              0.1111111111111111,
              "#46039f"
             ],
             [
              0.2222222222222222,
              "#7201a8"
             ],
             [
              0.3333333333333333,
              "#9c179e"
             ],
             [
              0.4444444444444444,
              "#bd3786"
             ],
             [
              0.5555555555555556,
              "#d8576b"
             ],
             [
              0.6666666666666666,
              "#ed7953"
             ],
             [
              0.7777777777777778,
              "#fb9f3a"
             ],
             [
              0.8888888888888888,
              "#fdca26"
             ],
             [
              1,
              "#f0f921"
             ]
            ],
            "type": "heatmap"
           }
          ],
          "histogram": [
           {
            "marker": {
             "pattern": {
              "fillmode": "overlay",
              "size": 10,
              "solidity": 0.2
             }
            },
            "type": "histogram"
           }
          ],
          "histogram2d": [
           {
            "colorbar": {
             "outlinewidth": 0,
             "ticks": ""
            },
            "colorscale": [
             [
              0,
              "#0d0887"
             ],
             [
              0.1111111111111111,
              "#46039f"
             ],
             [
              0.2222222222222222,
              "#7201a8"
             ],
             [
              0.3333333333333333,
              "#9c179e"
             ],
             [
              0.4444444444444444,
              "#bd3786"
             ],
             [
              0.5555555555555556,
              "#d8576b"
             ],
             [
              0.6666666666666666,
              "#ed7953"
             ],
             [
              0.7777777777777778,
              "#fb9f3a"
             ],
             [
              0.8888888888888888,
              "#fdca26"
             ],
             [
              1,
              "#f0f921"
             ]
            ],
            "type": "histogram2d"
           }
          ],
          "histogram2dcontour": [
           {
            "colorbar": {
             "outlinewidth": 0,
             "ticks": ""
            },
            "colorscale": [
             [
              0,
              "#0d0887"
             ],
             [
              0.1111111111111111,
              "#46039f"
             ],
             [
              0.2222222222222222,
              "#7201a8"
             ],
             [
              0.3333333333333333,
              "#9c179e"
             ],
             [
              0.4444444444444444,
              "#bd3786"
             ],
             [
              0.5555555555555556,
              "#d8576b"
             ],
             [
              0.6666666666666666,
              "#ed7953"
             ],
             [
              0.7777777777777778,
              "#fb9f3a"
             ],
             [
              0.8888888888888888,
              "#fdca26"
             ],
             [
              1,
              "#f0f921"
             ]
            ],
            "type": "histogram2dcontour"
           }
          ],
          "mesh3d": [
           {
            "colorbar": {
             "outlinewidth": 0,
             "ticks": ""
            },
            "type": "mesh3d"
           }
          ],
          "parcoords": [
           {
            "line": {
             "colorbar": {
              "outlinewidth": 0,
              "ticks": ""
             }
            },
            "type": "parcoords"
           }
          ],
          "pie": [
           {
            "automargin": true,
            "type": "pie"
           }
          ],
          "scatter": [
           {
            "fillpattern": {
             "fillmode": "overlay",
             "size": 10,
             "solidity": 0.2
            },
            "type": "scatter"
           }
          ],
          "scatter3d": [
           {
            "line": {
             "colorbar": {
              "outlinewidth": 0,
              "ticks": ""
             }
            },
            "marker": {
             "colorbar": {
              "outlinewidth": 0,
              "ticks": ""
             }
            },
            "type": "scatter3d"
           }
          ],
          "scattercarpet": [
           {
            "marker": {
             "colorbar": {
              "outlinewidth": 0,
              "ticks": ""
             }
            },
            "type": "scattercarpet"
           }
          ],
          "scattergeo": [
           {
            "marker": {
             "colorbar": {
              "outlinewidth": 0,
              "ticks": ""
             }
            },
            "type": "scattergeo"
           }
          ],
          "scattergl": [
           {
            "marker": {
             "colorbar": {
              "outlinewidth": 0,
              "ticks": ""
             }
            },
            "type": "scattergl"
           }
          ],
          "scattermap": [
           {
            "marker": {
             "colorbar": {
              "outlinewidth": 0,
              "ticks": ""
             }
            },
            "type": "scattermap"
           }
          ],
          "scattermapbox": [
           {
            "marker": {
             "colorbar": {
              "outlinewidth": 0,
              "ticks": ""
             }
            },
            "type": "scattermapbox"
           }
          ],
          "scatterpolar": [
           {
            "marker": {
             "colorbar": {
              "outlinewidth": 0,
              "ticks": ""
             }
            },
            "type": "scatterpolar"
           }
          ],
          "scatterpolargl": [
           {
            "marker": {
             "colorbar": {
              "outlinewidth": 0,
              "ticks": ""
             }
            },
            "type": "scatterpolargl"
           }
          ],
          "scatterternary": [
           {
            "marker": {
             "colorbar": {
              "outlinewidth": 0,
              "ticks": ""
             }
            },
            "type": "scatterternary"
           }
          ],
          "surface": [
           {
            "colorbar": {
             "outlinewidth": 0,
             "ticks": ""
            },
            "colorscale": [
             [
              0,
              "#0d0887"
             ],
             [
              0.1111111111111111,
              "#46039f"
             ],
             [
              0.2222222222222222,
              "#7201a8"
             ],
             [
              0.3333333333333333,
              "#9c179e"
             ],
             [
              0.4444444444444444,
              "#bd3786"
             ],
             [
              0.5555555555555556,
              "#d8576b"
             ],
             [
              0.6666666666666666,
              "#ed7953"
             ],
             [
              0.7777777777777778,
              "#fb9f3a"
             ],
             [
              0.8888888888888888,
              "#fdca26"
             ],
             [
              1,
              "#f0f921"
             ]
            ],
            "type": "surface"
           }
          ],
          "table": [
           {
            "cells": {
             "fill": {
              "color": "#EBF0F8"
             },
             "line": {
              "color": "white"
             }
            },
            "header": {
             "fill": {
              "color": "#C8D4E3"
             },
             "line": {
              "color": "white"
             }
            },
            "type": "table"
           }
          ]
         },
         "layout": {
          "annotationdefaults": {
           "arrowcolor": "#2a3f5f",
           "arrowhead": 0,
           "arrowwidth": 1
          },
          "autotypenumbers": "strict",
          "coloraxis": {
           "colorbar": {
            "outlinewidth": 0,
            "ticks": ""
           }
          },
          "colorscale": {
           "diverging": [
            [
             0,
             "#8e0152"
            ],
            [
             0.1,
             "#c51b7d"
            ],
            [
             0.2,
             "#de77ae"
            ],
            [
             0.3,
             "#f1b6da"
            ],
            [
             0.4,
             "#fde0ef"
            ],
            [
             0.5,
             "#f7f7f7"
            ],
            [
             0.6,
             "#e6f5d0"
            ],
            [
             0.7,
             "#b8e186"
            ],
            [
             0.8,
             "#7fbc41"
            ],
            [
             0.9,
             "#4d9221"
            ],
            [
             1,
             "#276419"
            ]
           ],
           "sequential": [
            [
             0,
             "#0d0887"
            ],
            [
             0.1111111111111111,
             "#46039f"
            ],
            [
             0.2222222222222222,
             "#7201a8"
            ],
            [
             0.3333333333333333,
             "#9c179e"
            ],
            [
             0.4444444444444444,
             "#bd3786"
            ],
            [
             0.5555555555555556,
             "#d8576b"
            ],
            [
             0.6666666666666666,
             "#ed7953"
            ],
            [
             0.7777777777777778,
             "#fb9f3a"
            ],
            [
             0.8888888888888888,
             "#fdca26"
            ],
            [
             1,
             "#f0f921"
            ]
           ],
           "sequentialminus": [
            [
             0,
             "#0d0887"
            ],
            [
             0.1111111111111111,
             "#46039f"
            ],
            [
             0.2222222222222222,
             "#7201a8"
            ],
            [
             0.3333333333333333,
             "#9c179e"
            ],
            [
             0.4444444444444444,
             "#bd3786"
            ],
            [
             0.5555555555555556,
             "#d8576b"
            ],
            [
             0.6666666666666666,
             "#ed7953"
            ],
            [
             0.7777777777777778,
             "#fb9f3a"
            ],
            [
             0.8888888888888888,
             "#fdca26"
            ],
            [
             1,
             "#f0f921"
            ]
           ]
          },
          "colorway": [
           "#636efa",
           "#EF553B",
           "#00cc96",
           "#ab63fa",
           "#FFA15A",
           "#19d3f3",
           "#FF6692",
           "#B6E880",
           "#FF97FF",
           "#FECB52"
          ],
          "font": {
           "color": "#2a3f5f"
          },
          "geo": {
           "bgcolor": "white",
           "lakecolor": "white",
           "landcolor": "#E5ECF6",
           "showlakes": true,
           "showland": true,
           "subunitcolor": "white"
          },
          "hoverlabel": {
           "align": "left"
          },
          "hovermode": "closest",
          "mapbox": {
           "style": "light"
          },
          "paper_bgcolor": "white",
          "plot_bgcolor": "#E5ECF6",
          "polar": {
           "angularaxis": {
            "gridcolor": "white",
            "linecolor": "white",
            "ticks": ""
           },
           "bgcolor": "#E5ECF6",
           "radialaxis": {
            "gridcolor": "white",
            "linecolor": "white",
            "ticks": ""
           }
          },
          "scene": {
           "xaxis": {
            "backgroundcolor": "#E5ECF6",
            "gridcolor": "white",
            "gridwidth": 2,
            "linecolor": "white",
            "showbackground": true,
            "ticks": "",
            "zerolinecolor": "white"
           },
           "yaxis": {
            "backgroundcolor": "#E5ECF6",
            "gridcolor": "white",
            "gridwidth": 2,
            "linecolor": "white",
            "showbackground": true,
            "ticks": "",
            "zerolinecolor": "white"
           },
           "zaxis": {
            "backgroundcolor": "#E5ECF6",
            "gridcolor": "white",
            "gridwidth": 2,
            "linecolor": "white",
            "showbackground": true,
            "ticks": "",
            "zerolinecolor": "white"
           }
          },
          "shapedefaults": {
           "line": {
            "color": "#2a3f5f"
           }
          },
          "ternary": {
           "aaxis": {
            "gridcolor": "white",
            "linecolor": "white",
            "ticks": ""
           },
           "baxis": {
            "gridcolor": "white",
            "linecolor": "white",
            "ticks": ""
           },
           "bgcolor": "#E5ECF6",
           "caxis": {
            "gridcolor": "white",
            "linecolor": "white",
            "ticks": ""
           }
          },
          "title": {
           "x": 0.05
          },
          "xaxis": {
           "automargin": true,
           "gridcolor": "white",
           "linecolor": "white",
           "ticks": "",
           "title": {
            "standoff": 15
           },
           "zerolinecolor": "white",
           "zerolinewidth": 2
          },
          "yaxis": {
           "automargin": true,
           "gridcolor": "white",
           "linecolor": "white",
           "ticks": "",
           "title": {
            "standoff": 15
           },
           "zerolinecolor": "white",
           "zerolinewidth": 2
          }
         }
        },
        "title": {
         "text": "Total Step and Calories By Hour"
        },
        "xaxis": {
         "anchor": "y",
         "domain": [
          0,
          1
         ],
         "title": {
          "text": "By Hour"
         }
        },
        "yaxis": {
         "anchor": "x",
         "domain": [
          0,
          1
         ],
         "title": {
          "text": "value"
         }
        }
       }
      }
     },
     "metadata": {},
     "output_type": "display_data"
    }
   ],
   "source": [
    "y3=['steptotal','calories']\n",
    "plot10 = merged_df.groupby('datehour')[y3].mean().reset_index()\n",
    "plot10 = px.line(plot10,x='datehour',y=y3,line_shape='spline',markers=True,labels={'datehour':'By Hour'},title='Total Step and Calories By Hour')\n",
    "plot10"
   ]
  },
  {
   "cell_type": "markdown",
   "metadata": {},
   "source": [
    "### Findings:\n",
    "- **Step Peaks During Day**: Steptotal peaks around 8–10 AM and 5–7 PM, reaching 600 steps, indicating high activity during morning and late afternoon hours.\n",
    "- **Low Activity at Night**: Steps drop significantly after 8 PM, nearing 0 by midnight, showing minimal activity during late evening and night.\n",
    "- **Calories Remain Stable**: Calories stay relatively flat, fluctuating slightly between 50–100 calories per hour, with no significant peaks corresponding to step increases."
   ]
  },
  {
   "cell_type": "markdown",
   "metadata": {},
   "source": [
    "### Recommendations:\n",
    "\n",
    "- **Increase Activity**: Reduce sedentary time (81.3% in pie chart) by targeting 10k daily steps, using the step-calorie correlation (0.591581) to boost calorie burn.\n",
    "- **Balance Weekly Activity**: Address Sunday’s low steps and calories with weekend fitness challenges for consistency across the week.\n",
    "- **Optimize Peak Hours**: Schedule intense workouts during 8–10 AM and 5–7 PM step peaks, adding light evening activities after 8 PM.\n",
    "- **Improve Monday Sleep**: Enhance Sunday night sleep hygiene to increase Monday’s sleep from 457,224 minutes to 500k for better weekly rest.\n",
    "- **Personalize and Monitor**: Tailor fitness plans to account for calorie burn variability, tracking activity and sleep trends to ensure balanced health improvements."
   ]
  },
  {
   "cell_type": "markdown",
   "metadata": {},
   "source": []
  }
 ],
 "metadata": {
  "kernelspec": {
   "display_name": "deeplearning",
   "language": "python",
   "name": "python3"
  },
  "language_info": {
   "codemirror_mode": {
    "name": "ipython",
    "version": 3
   },
   "file_extension": ".py",
   "mimetype": "text/x-python",
   "name": "python",
   "nbconvert_exporter": "python",
   "pygments_lexer": "ipython3",
   "version": "3.10.16"
  }
 },
 "nbformat": 4,
 "nbformat_minor": 2
}
